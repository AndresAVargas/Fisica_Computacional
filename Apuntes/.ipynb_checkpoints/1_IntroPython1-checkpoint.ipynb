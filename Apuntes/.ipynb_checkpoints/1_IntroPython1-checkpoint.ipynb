{
 "cells": [
  {
   "cell_type": "markdown",
   "metadata": {},
   "source": [
    "# Introducción a Python"
   ]
  },
  {
   "cell_type": "markdown",
   "metadata": {},
   "source": [
    "Python es un lenguaje de programación de alto nivel, orientado a objetos. Desarrollado a finales de los años 80's por Guido Van Rossum (Van Rossum se hace llamar BDFL \"Benevolent Dictator for Life\" siguiendo la broma de Monty Python). Es uno de los lenguajes más usados en el ámbito científico: Fortran, C, Matematica, Python, Matlab, Julia,  (http://flow.byu.edu/posts/sci-prog-lang, https://www.quora.com/Which-programming-language-should-I-learn-for-scientific-computing). También es uno de los lenguajes de programación más solicitados en el ámbito laboral (https://www.codingdojo.com/blog/7-most-in-demand-programming-languages-of-2018/, https://stackify.com/popular-programming-languages-2018/)\n",
    "\n",
    "Características:\n",
    "\n",
    "1. No se compila a lenguaje máquina, se ejecuta en un intérprete.\n",
    "    \n",
    "2. Genera códigos más cortos y limpios que otros lenguajes de programación. Es un buen lenguaje para empezar a programar.\n",
    "\n",
    "3. Es software libre. Cumple con las 4 libertades: (i) Libertad de ser usado. (ii) Libertad de ser modificado. (iii) Libertad de ser compartido. (iv) Libertad de ser modificado y compartido.\n",
    "\n",
    "4. Es multiplataformas. Hay editores de Python para Windows, Linux, Mac y Android. Además de que puede ser ejecutado en línea.\n",
    "\n",
    "5. Fácil de Instalar.\n",
    "\n",
    "6. Hereda características de C y Matlab."
   ]
  },
  {
   "cell_type": "markdown",
   "metadata": {},
   "source": [
    "Compilador versus intérprete: \n",
    "    \n",
    "Compilador: \"Traduce un lenguaje a otro lenguaje\" e.g. Fortran --> lenguaje máquina --> ejecuta\n",
    "\n",
    "Intérprete: \"Traduce un lenguaje a binario de la máquina\" e.g. Python --> ejecuta"
   ]
  },
  {
   "cell_type": "markdown",
   "metadata": {},
   "source": [
    "Actualmente, Python es muy usado Google, Yahoo, CERN, Nasa y en todo lo que es Ciencia de Datos. Esto se debe a que tiene una curva de aprendizaje pequeña"
   ]
  },
  {
   "cell_type": "markdown",
   "metadata": {},
   "source": [
    "## Operaciones Binarias\n",
    "\n",
    "1. +,\n",
    "2. -, \n",
    "3. *, \n",
    "4. /, \n",
    "5. // (División de piso: división que resulta en un número entero ajustado a la izquierda en la recta numérica), \n",
    "6. % (regresa el residuo de la división)\n",
    "7. ** operador de exponenciaciòn"
   ]
  },
  {
   "cell_type": "code",
   "execution_count": 5,
   "metadata": {},
   "outputs": [
    {
     "name": "stdout",
     "output_type": "stream",
     "text": [
      "suma:  7\n",
      "resta -1\n",
      "multiplicacion 12\n",
      "division 0.75\n",
      "division entera 0\n",
      "residuo 3\n",
      "exponenciacion 81\n"
     ]
    }
   ],
   "source": [
    "print('suma: ',3+4)\n",
    "print('resta', 3-4)\n",
    "print('multiplicacion', 3*4)\n",
    "print('division', 3/4)\n",
    "print('division entera',3//4)\n",
    "print('residuo',3%4)\n",
    "print('exponenciacion',3**4)"
   ]
  },
  {
   "cell_type": "code",
   "execution_count": 2,
   "metadata": {},
   "outputs": [
    {
     "name": "stdout",
     "output_type": "stream",
     "text": [
      "2.0\n",
      "2.0\n"
     ]
    }
   ],
   "source": [
    "from math import *\n",
    "print(sqrt(4))\n",
    "print((4)**0.5)"
   ]
  },
  {
   "cell_type": "code",
   "execution_count": 3,
   "metadata": {},
   "outputs": [
    {
     "name": "stdout",
     "output_type": "stream",
     "text": [
      "2.0\n"
     ]
    }
   ],
   "source": [
    "import math\n",
    "\n",
    "print(math.sqrt(4))"
   ]
  },
  {
   "cell_type": "code",
   "execution_count": 4,
   "metadata": {},
   "outputs": [
    {
     "name": "stdout",
     "output_type": "stream",
     "text": [
      "2.0\n"
     ]
    }
   ],
   "source": [
    "import math as m\n",
    "\n",
    "print(m.sqrt(4))"
   ]
  },
  {
   "cell_type": "markdown",
   "metadata": {},
   "source": [
    "##    Variables"
   ]
  },
  {
   "cell_type": "markdown",
   "metadata": {},
   "source": [
    "En todos los lenguajes de programación, el nombre de las variables representan un valor dado alojado en la memoria. El valor puede cambiar, pero no el tipo de variable. Sin embargo, esto no pasa en Python ya que las variables son dinámicas."
   ]
  },
  {
   "cell_type": "markdown",
   "metadata": {},
   "source": [
    " program prueba\n",
    " int b;\n",
    " b=2"
   ]
  },
  {
   "cell_type": "code",
   "execution_count": 6,
   "metadata": {},
   "outputs": [],
   "source": [
    "b=2  #variable entera"
   ]
  },
  {
   "cell_type": "code",
   "execution_count": null,
   "metadata": {},
   "outputs": [],
   "source": []
  },
  {
   "cell_type": "code",
   "execution_count": 34,
   "metadata": {},
   "outputs": [
    {
     "data": {
      "text/plain": [
       "int"
      ]
     },
     "execution_count": 34,
     "metadata": {},
     "output_type": "execute_result"
    }
   ],
   "source": [
    "type(b) #la función type nos dice de que tipo es la variable b"
   ]
  },
  {
   "cell_type": "code",
   "execution_count": 7,
   "metadata": {},
   "outputs": [],
   "source": [
    "c=b*2.0 #cambiamos dinámicamente el valor de la variable y el tipo"
   ]
  },
  {
   "cell_type": "code",
   "execution_count": 36,
   "metadata": {},
   "outputs": [
    {
     "data": {
      "text/plain": [
       "float"
      ]
     },
     "execution_count": 36,
     "metadata": {},
     "output_type": "execute_result"
    }
   ],
   "source": [
    "type(b)"
   ]
  },
  {
   "cell_type": "markdown",
   "metadata": {},
   "source": [
    "Tipo de variables:\n",
    "\n",
    "-Enteras \"Integer\" --- int( )\n",
    "\n",
    "-Flotantes \"Float\" --- float ( )\n",
    "\n",
    "-Cadena de Caracteres \"String\" --- str( )\n",
    "\n",
    "-List  [] \n",
    "\n",
    "-Tuples ()\n",
    "\n",
    "-Diccionarios {}\n",
    "\n",
    "-Booleanas:  True; False"
   ]
  },
  {
   "cell_type": "markdown",
   "metadata": {},
   "source": [
    "Con = asignamos el valor a una variable (Creamos en la memoria la variable), con == hacemos la comparación de dos cosas (idéntico a ). Nótese que = no es una operación simétrica. No existe 5=x"
   ]
  },
  {
   "cell_type": "code",
   "execution_count": 57,
   "metadata": {},
   "outputs": [
    {
     "name": "stdout",
     "output_type": "stream",
     "text": [
      "3.3333333333333335 0.3 3 0\n"
     ]
    }
   ],
   "source": [
    "print(10/3,3/10,10//3,3//10) #//parte entera de la división"
   ]
  },
  {
   "cell_type": "code",
   "execution_count": 58,
   "metadata": {},
   "outputs": [
    {
     "name": "stdout",
     "output_type": "stream",
     "text": [
      "1 3\n"
     ]
    }
   ],
   "source": [
    "print(10%3,3%10) #el residuo de la operación"
   ]
  },
  {
   "cell_type": "markdown",
   "metadata": {},
   "source": [
    "### Asignación de múltiples variables simultáneas"
   ]
  },
  {
   "cell_type": "code",
   "execution_count": 37,
   "metadata": {},
   "outputs": [],
   "source": [
    "x,y,z=1,2,3.0"
   ]
  },
  {
   "cell_type": "code",
   "execution_count": 38,
   "metadata": {},
   "outputs": [
    {
     "name": "stdout",
     "output_type": "stream",
     "text": [
      "1\n",
      "2\n",
      "3.0\n"
     ]
    }
   ],
   "source": [
    "print(x)\n",
    "print(y)\n",
    "print(z)"
   ]
  },
  {
   "cell_type": "markdown",
   "metadata": {},
   "source": [
    "### Identificadores (Identifiers):"
   ]
  },
  {
   "cell_type": "markdown",
   "metadata": {},
   "source": [
    "Secuencia de letras idéntificadas por Python para llevar a cabo una función. No se pueden usar como nombre de variables (e.g. and, or, for, while, del, append, ...)"
   ]
  },
  {
   "cell_type": "markdown",
   "metadata": {},
   "source": [
    "Python distingue entre mayúsculas y minúsculas"
   ]
  },
  {
   "cell_type": "code",
   "execution_count": 16,
   "metadata": {},
   "outputs": [
    {
     "name": "stdout",
     "output_type": "stream",
     "text": [
      "3.141592653589793\n",
      "3.141592653589793\n",
      "3.141592653589793115997963468544185161590576171875\n"
     ]
    }
   ],
   "source": [
    "from math import * #desde math importa la variable pi\n",
    "print(pi)\n",
    "#Si queremos más valores de pi, importamos el módulo decimal\n",
    "from decimal import Decimal\n",
    "print(round(pi,15))\n",
    "print(Decimal(pi))"
   ]
  },
  {
   "cell_type": "markdown",
   "metadata": {},
   "source": [
    "### Notación Cientifica"
   ]
  },
  {
   "cell_type": "code",
   "execution_count": 17,
   "metadata": {},
   "outputs": [
    {
     "name": "stdout",
     "output_type": "stream",
     "text": [
      "El numero de avogadro es 6.022e+23\n",
      "Velocidad de la Luz = 299800000.0\n"
     ]
    }
   ],
   "source": [
    "numero_avogadro = 6.022E23\n",
    "c = 2.998e8\n",
    "print(\"El numero de avogadro es\", numero_avogadro)\n",
    "print(\"Velocidad de la Luz =\", c)"
   ]
  },
  {
   "cell_type": "markdown",
   "metadata": {},
   "source": [
    "###     Cadena de Caracteres (String) "
   ]
  },
  {
   "cell_type": "markdown",
   "metadata": {},
   "source": [
    "Las cadenas son secuencias de caracteres que están entre dos comillas o una comilla."
   ]
  },
  {
   "cell_type": "code",
   "execution_count": 18,
   "metadata": {},
   "outputs": [],
   "source": [
    "cadena1='Hola '"
   ]
  },
  {
   "cell_type": "code",
   "execution_count": 19,
   "metadata": {},
   "outputs": [],
   "source": [
    "cadena2=\"a todos\""
   ]
  },
  {
   "cell_type": "markdown",
   "metadata": {},
   "source": [
    "Con estas dos cadenas hacemos la acción de concaternar (Pegar el inicio de una cadena al final de la otra)."
   ]
  },
  {
   "cell_type": "code",
   "execution_count": 16,
   "metadata": {},
   "outputs": [
    {
     "name": "stdout",
     "output_type": "stream",
     "text": [
      "Hola a todos\n"
     ]
    }
   ],
   "source": [
    "print(cadena1+cadena2)"
   ]
  },
  {
   "cell_type": "code",
   "execution_count": 20,
   "metadata": {},
   "outputs": [
    {
     "name": "stdout",
     "output_type": "stream",
     "text": [
      "Hola Hola Hola \n"
     ]
    }
   ],
   "source": [
    "print(cadena1*3)"
   ]
  },
  {
   "cell_type": "markdown",
   "metadata": {},
   "source": [
    "Puedo seleccionar lo que quiero que aparezca (cortar selectivamente)"
   ]
  },
  {
   "cell_type": "code",
   "execution_count": 21,
   "metadata": {},
   "outputs": [
    {
     "name": "stdout",
     "output_type": "stream",
     "text": [
      "odos\n"
     ]
    }
   ],
   "source": [
    "print(cadena2[3:])"
   ]
  },
  {
   "cell_type": "code",
   "execution_count": 8,
   "metadata": {},
   "outputs": [],
   "source": [
    "cadena3='Computacion Facultad de Ciencias'"
   ]
  },
  {
   "cell_type": "code",
   "execution_count": 17,
   "metadata": {},
   "outputs": [
    {
     "name": "stdout",
     "output_type": "stream",
     "text": [
      "encias\n"
     ]
    }
   ],
   "source": [
    "print(cadena3[-6:])"
   ]
  },
  {
   "cell_type": "code",
   "execution_count": 23,
   "metadata": {},
   "outputs": [
    {
     "name": "stdout",
     "output_type": "stream",
     "text": [
      "3\n"
     ]
    }
   ],
   "source": [
    "a=3\n",
    "print(3)"
   ]
  },
  {
   "cell_type": "markdown",
   "metadata": {},
   "source": [
    "Las cadenas son inmutables"
   ]
  },
  {
   "cell_type": "code",
   "execution_count": 17,
   "metadata": {},
   "outputs": [
    {
     "name": "stdout",
     "output_type": "stream",
     "text": [
      "3\n"
     ]
    }
   ],
   "source": [
    "a=3\n",
    "print(a)"
   ]
  },
  {
   "cell_type": "code",
   "execution_count": 24,
   "metadata": {},
   "outputs": [
    {
     "name": "stdout",
     "output_type": "stream",
     "text": [
      "4\n"
     ]
    }
   ],
   "source": [
    "a=4\n",
    "print(a)"
   ]
  },
  {
   "cell_type": "code",
   "execution_count": 26,
   "metadata": {},
   "outputs": [
    {
     "name": "stdout",
     "output_type": "stream",
     "text": [
      "hola\n"
     ]
    },
    {
     "ename": "TypeError",
     "evalue": "'str' object does not support item assignment",
     "output_type": "error",
     "traceback": [
      "\u001b[1;31m---------------------------------------------------------------------------\u001b[0m",
      "\u001b[1;31mTypeError\u001b[0m                                 Traceback (most recent call last)",
      "\u001b[1;32m<ipython-input-26-532c1c456d6f>\u001b[0m in \u001b[0;36m<module>\u001b[1;34m\u001b[0m\n\u001b[0;32m      1\u001b[0m \u001b[0ms\u001b[0m\u001b[1;33m=\u001b[0m\u001b[1;34m'hola'\u001b[0m\u001b[1;33m\u001b[0m\u001b[1;33m\u001b[0m\u001b[0m\n\u001b[0;32m      2\u001b[0m \u001b[0mprint\u001b[0m\u001b[1;33m(\u001b[0m\u001b[0ms\u001b[0m\u001b[1;33m)\u001b[0m\u001b[1;33m\u001b[0m\u001b[1;33m\u001b[0m\u001b[0m\n\u001b[1;32m----> 3\u001b[1;33m \u001b[0ms\u001b[0m\u001b[1;33m[\u001b[0m\u001b[1;36m0\u001b[0m\u001b[1;33m]\u001b[0m\u001b[1;33m=\u001b[0m\u001b[1;34m'H'\u001b[0m\u001b[1;33m\u001b[0m\u001b[1;33m\u001b[0m\u001b[0m\n\u001b[0m",
      "\u001b[1;31mTypeError\u001b[0m: 'str' object does not support item assignment"
     ]
    }
   ],
   "source": [
    "s='hola'\n",
    "print(s)\n",
    "s[0]='H'"
   ]
  },
  {
   "cell_type": "code",
   "execution_count": 27,
   "metadata": {},
   "outputs": [
    {
     "data": {
      "text/plain": [
       "'Hola'"
      ]
     },
     "execution_count": 27,
     "metadata": {},
     "output_type": "execute_result"
    }
   ],
   "source": [
    "s='hola'\n",
    "s.capitalize()"
   ]
  },
  {
   "cell_type": "code",
   "execution_count": 22,
   "metadata": {},
   "outputs": [
    {
     "ename": "TypeError",
     "evalue": "'str' object does not support item assignment",
     "output_type": "error",
     "traceback": [
      "\u001b[1;31m---------------------------------------------------------------------------\u001b[0m",
      "\u001b[1;31mTypeError\u001b[0m                                 Traceback (most recent call last)",
      "\u001b[1;32m<ipython-input-22-5eb4deff5f7f>\u001b[0m in \u001b[0;36m<module>\u001b[1;34m\u001b[0m\n\u001b[1;32m----> 1\u001b[1;33m \u001b[0ms\u001b[0m\u001b[1;33m[\u001b[0m\u001b[1;36m0\u001b[0m\u001b[1;33m]\u001b[0m\u001b[1;33m=\u001b[0m\u001b[1;34m'H'\u001b[0m\u001b[1;33m\u001b[0m\u001b[1;33m\u001b[0m\u001b[0m\n\u001b[0m",
      "\u001b[1;31mTypeError\u001b[0m: 'str' object does not support item assignment"
     ]
    }
   ],
   "source": [
    "s[0]='H'"
   ]
  },
  {
   "cell_type": "code",
   "execution_count": 48,
   "metadata": {},
   "outputs": [
    {
     "data": {
      "text/plain": [
       "'python'"
      ]
     },
     "execution_count": 48,
     "metadata": {},
     "output_type": "execute_result"
    }
   ],
   "source": [
    "\"Python\".lower()"
   ]
  },
  {
   "cell_type": "code",
   "execution_count": 49,
   "metadata": {},
   "outputs": [
    {
     "data": {
      "text/plain": [
       "'PYTHON'"
      ]
     },
     "execution_count": 49,
     "metadata": {},
     "output_type": "execute_result"
    }
   ],
   "source": [
    "\"python\".upper()"
   ]
  },
  {
   "cell_type": "code",
   "execution_count": 19,
   "metadata": {},
   "outputs": [
    {
     "data": {
      "text/plain": [
       "'Mi clasede la Facultad de Ciencias'"
      ]
     },
     "execution_count": 19,
     "metadata": {},
     "output_type": "execute_result"
    }
   ],
   "source": [
    "\"Mi clase\" + \"de\" +\" \"+ \"la Facultad de Ciencias\""
   ]
  },
  {
   "cell_type": "code",
   "execution_count": 20,
   "metadata": {},
   "outputs": [
    {
     "data": {
      "text/plain": [
       "'Facultad de Ciencias Facultad de Ciencias Facultad de Ciencias '"
      ]
     },
     "execution_count": 20,
     "metadata": {},
     "output_type": "execute_result"
    }
   ],
   "source": [
    "3*(\"Facultad de Ciencias\"+\" \")"
   ]
  },
  {
   "cell_type": "code",
   "execution_count": null,
   "metadata": {},
   "outputs": [],
   "source": []
  }
 ],
 "metadata": {
  "kernelspec": {
   "display_name": "Python 3 (ipykernel)",
   "language": "python",
   "name": "python3"
  },
  "language_info": {
   "codemirror_mode": {
    "name": "ipython",
    "version": 3
   },
   "file_extension": ".py",
   "mimetype": "text/x-python",
   "name": "python",
   "nbconvert_exporter": "python",
   "pygments_lexer": "ipython3",
   "version": "3.9.7"
  }
 },
 "nbformat": 4,
 "nbformat_minor": 2
}
