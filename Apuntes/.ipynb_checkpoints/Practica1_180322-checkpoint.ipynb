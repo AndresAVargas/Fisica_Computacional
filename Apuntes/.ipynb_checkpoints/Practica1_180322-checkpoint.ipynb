{
 "cells": [
  {
   "cell_type": "code",
   "execution_count": 1,
   "metadata": {},
   "outputs": [],
   "source": [
    "from pylab  import *\n",
    "from random import *"
   ]
  },
  {
   "cell_type": "markdown",
   "metadata": {},
   "source": [
    "# Parte 1 Condicionales y  bucles "
   ]
  },
  {
   "cell_type": "markdown",
   "metadata": {},
   "source": [
    "### 1) \n",
    "Un empleado trabaja 40 horas a la semana a razon de 3 mil pesos por semana, si la paga por hora aumenta en 1.5 veces por cada hora extra trabajada en la semana, elabora un programa  que calcule el salario mensual del trabajador, si conoce las horas que ha trabajado en cada semana."
   ]
  },
  {
   "cell_type": "code",
   "execution_count": 17,
   "metadata": {},
   "outputs": [
    {
     "name": "stdout",
     "output_type": "stream",
     "text": [
      "Horas de trabajo?50\n",
      "Tu sueldo es de 4125.0\n"
     ]
    }
   ],
   "source": [
    "x = float(input(\"Horas de trabajo?\"))\n",
    "sh=3000/40\n",
    "if x<=40:\n",
    "    S=x*sh\n",
    "    print(\"Tu sueldo es de 3000\")\n",
    "else: \n",
    "    S=sh*40 + sh*(1.5)*(x-40)\n",
    "    print(\"Tu sueldo es de\", S)"
   ]
  },
  {
   "cell_type": "markdown",
   "metadata": {},
   "source": [
    "### 2\n",
    "Elabora un programa que genere todos los años bisiestos entre los años 1900 y 3000,  considerando que 1900 fue bisiesto.  Puedes hacerlo con los dos bucles for y while"
   ]
  },
  {
   "cell_type": "markdown",
   "metadata": {},
   "source": [
    "### 3\n",
    "\n",
    "Elabora un programa que genere 500 numeros aleatorios entre el uno y cien mil. Una vez encontrados elabora un nuevo programa que devuelva aquellos que son divisibles entre 7 y divisibles entre 10.\n",
    "La funcion $randint(xo,xf)$, devuelve un numero aleatorio en el intervalo $[xo,xf]$"
   ]
  },
  {
   "cell_type": "markdown",
   "metadata": {},
   "source": [
    "### 4\n",
    "Corre el siguiente codigo para obtener una lista de 50 numeros.\n",
    "\n",
    "Una vez obtenida la lista \"numeros\", compara el elemento 0 con el elemento 50 e imprime cual es mayor y cual es menor,  repite el procedimiento comparando el 1 con el 49,  el 2 con el 48, el 3 con el 47 y asi sucesivamente hasta comparar el elemento 25 con el 26.\n",
    "\n",
    "El siguiente paso es encontrar que pareja de numeros suman 40.\n",
    "\n",
    "Nuevamente las parejas seran los elementos 0 y 50,  1 y 49..... 25 y 26.  \n",
    "\n",
    "Con un bucle while inicia un contador = 0,  por cada pareja de numeros que vayas tomando el contador aumentara en 1,  corta el bucle while  cuando hayas encontrado la pareja cuya suma sea 60, imprime la pareja de numeros y el valor final del contador. "
   ]
  },
  {
   "cell_type": "code",
   "execution_count": 7,
   "metadata": {},
   "outputs": [],
   "source": [
    "semilla = arange(1,51,1)                        #creamos un arreglo con valores entre 1 y 50 de 1 en 1\n",
    "numeros = []                                    #estos numeros seran las \"semillas\" de las muestras aleatorias\n",
    "for i in range(0, len(semilla)):                #la variable i se movera en toda la longitud \n",
    "    s = semilla[i]*2\n",
    "    seed(int(s))\n",
    "    numero = round(uniform(0,100), 0)\n",
    "    numeros.append(numero)"
   ]
  },
  {
   "cell_type": "markdown",
   "metadata": {},
   "source": [
    "### 5 \n",
    "El problema de la liebre y la tortuga.\n",
    "\n",
    "En un lejano bosque se dispusieron a competir en una carrera de 400 metros una liebre y una tortuga. La carrera tuvo momentos importantes en diferentes intervalos de tiempo, donde ambos competidores mostraron diferentes estrategias, las cuales se describen a continuación:\n",
    "\n",
    "- Entre $[0\\,min, 2\\,min)$ la velocidad de la liebremfue de  $V_l= 0.9 \\,m/s$, mientras que la tortuga comenzo la carrera a $V_t= 0.3 \\,m/s$.\n",
    "\n",
    "\n",
    "- Entre $[2\\,min, 7\\,min)$ la liebre se relajo un poco, reduciendo su velocidad a $V_l= 0.2 \\,m/s$, mientras que la de la tortuga aumento un poco  a $V_t= 0.6 \\,m/s$. En este intervalo, la liebre tuvo cuidado, cada vez que la tortuga estaba a menos de 2 metros, su velocidad aumentaba a $V_l= 1.2 \\,m/s$.  La tortuga siempre mantuvo el paso.\n",
    "\n",
    "\n",
    "- Pasados 7 minutos, los corredores guardaron energia por 5 minutos,  $[7\\,min, 12\\,min)$ reduciendo sus velocidades, la tortuga corrio a $V_t= 0.4 \\,m/s$, mientras que la liebre prefierio ponerse a dormir.\n",
    "\n",
    "\n",
    "- En los minutos finales de la carrera $[12\\,min, 15\\,min)$, la liebre aumento el paso al verse en peligro por perder la competencia, corriendo a $V_l= 1.65 \\,m/s$,  la tortuga tambien dio su ultimo esfuerzo, alcanzando su velocidad maxima de $V_t= 0.6 \\,m/s$.\n",
    "\n",
    "\n",
    "- La carrera puede terminar antes de los 15 min, cuando alguno de los dos animales haya pasado los 400 metros. \n",
    "\n",
    "\n",
    "Como nadie puede creer los resultado de la carrera, elabora un programa para dar validez al resultado, imprimiendo el ganador, el tiempo que duro la carrera, y las distancias recorridas por ambos competidores. Considera los intervalos de tiempo que se proporcionaron. \n",
    "\n",
    "$\\textbf{Sugerencia:}$ Utiliza un bucle/ciclo que tome diferentes valores de tiempo, por cada vez que se repita el bucle/ciclo el tiempo habra avanzado un segundo. En cuanto uno de los dos competidores supere los 400 metros interrumpe el ciclo. "
   ]
  },
  {
   "cell_type": "markdown",
   "metadata": {},
   "source": [
    "### 6\n",
    "\n",
    "El origen de las palabras.\n",
    "\n",
    "En una biblioteca se han registrado las palabras que son mas comunes y unicas en los idiomas ingles y español. Dentro de los ejemplares del acervo se encuentra una bitacora desarrollada entre los años 1920 y 1960, esta bitacora cuenta con elementos de ambos idiomas, afortunadamente se tiene certeza de las palabras usadas por el autor en cada año.\n",
    "\n",
    "La biblioteca cataloga a sus ejemplares por idioma, tu trabajo sera contar cuantas palabras hay de los dos idiomas en la bitacora; el ejemplar se clasificara en en idioma con mas elementos. Ademas para formalizar tu trabajo, has dos nuevas listas donde especifiques por cada año cuales palabras fueron utilizadas del ingles  y cuales del español.\n",
    "\n",
    "Para facilitar el trabajo, se te proporciona la siguiente descripcion:\n",
    "\n",
    "\n",
    "- La lista \"bitacora\"  tiene 40 \"sublistas\", cada una corresponde a un año de elaboracion.\n",
    "\n",
    "- El primer elemento de cada sublista es el año de elaboracion, los demas elementos son las palabras que se usaron en ese mismo año.  La cantidad de elementos en cada sublista es variable.\n",
    "\n",
    "- La biblioteca te proporciona la lista de las palabras mas comunes en ingles y en español. Para saber a cual idioma pertenece cada palabra de la bitacora, basta ver si esta palabra esta en la lista del ingles o en la lista del español. \n",
    "\n",
    "\n",
    "$\\textbf{Sugerencia:}$ Crea dos contadores, uno contara las palabras del ingles  y otro las de español.  Crea dos bucles\\clicos, uno se movera en un intervalo de años,  mientras que la variable del segundo ciclo/bucle se movera en los elementos de cada sublista.\n",
    "\n",
    "Corre los siguientes codigos para que conozcas la lista de palabras de los dos idiomas y la composicion de la bitacora."
   ]
  },
  {
   "cell_type": "code",
   "execution_count": 37,
   "metadata": {},
   "outputs": [],
   "source": [
    "#### Las palabras mas comunes de cada idioma son las siguientes:\n",
    "\n",
    "palabras_ingles = ['the', 'of', 'and', 'to', 'in', 'a', 'that', 'is', 'it', 'for',\n",
    "       'was', 'i', 'as', 'he', 'with', 'not', 'his', 'be', 'on', 'by',\n",
    "       'this', 'you', 'at', 'or', 'from', 'are', 'but', 'have',\n",
    "       'which', 'had', 'they', 'we', 'an', 'her', 'all', 'their',\n",
    "       'one', 'were', 'she', 'my', 'so', 'him', 'if', 'when', 'there',\n",
    "       'can', 'who', 'will', 'would', 'what', 'no', 'been', 'more',\n",
    "       'them', 'has', 'do', 'me', 'its', 'other', 'out', 'into', 'time',\n",
    "       'may', 'our', 'your', 'up', 'some', 'these', 'about', 'than',\n",
    "       'said', 'then', 'only', 'could', 'such', 'any', 'two', 'like',\n",
    "       'see', 'new', 'first', 'did', 'also', 'now', 'after', 'how',\n",
    "       'most', 'man', 'should', 'very', 'us', 'over', 'life', 'made',\n",
    "       'many', 'god', 'those', 'well', 'where', 'before']\n",
    "\n",
    "\n",
    "palabras_espanol = ['de', 'la', 'en', 'y', 'el', 'que', 'los', 'del', 'se', 'las',\n",
    "       'por', 'un', 'con', 'una', 'no', 'para', 'su', 'es', 'al', 'como',\n",
    "       'lo', 'más', 'sus', 'pero', 'sobre', 'este', 'si', 'entre',\n",
    "       'le', 'sin', 'esta', 'son', 'ha', 'ser', 'cuando', 'suyo', 'también',\n",
    "       'todo', 'ya', 'era', 'puede', 'había', 'dos', 'desde', 'fue',\n",
    "       'parte', 'así', 'muy', 'años', 'hasta', 'mi', 'todos', 'nos',\n",
    "       'está', 'vida', 'mismo', 'estado', 'cada', 'vez', 'porque',\n",
    "       'tiempo', 'otros', 'sólo', 'forma', 'han', 'qué', 'tanto', 'bien',\n",
    "       'hay', 'tiene', 'caso', 'ni', 'donde', 'uno', 'otro',\n",
    "       'general', 'él', 'sino', 'trabajo', 'ese', 'estos', 'social',\n",
    "       'durante', 'después', 'otra', 'aunque', 'mayor', 'yo', 'ley',\n",
    "       'lugar', 'siempre', 'mundo', 'gran', 'esto', 'sido', 'menos',\n",
    "       'esa', 'poder', 'derecho', 'política']\n",
    "\n",
    "#una lista con todas las palabras del inges y todas las del español\n",
    "juntas = palabras_espanol + palabras_ingles\n",
    "\n",
    "\n",
    "years    = arange(1920, 1961,1)\n",
    "longitud = arange(30,  101, 1)\n",
    "\n",
    "bitacora = []\n",
    "for i in range(0,len(years)):\n",
    "    semilla  = (4*i)**2\n",
    "    seed(int(semilla))\n",
    "    tamano   = choice(longitud)\n",
    "    sublista = sample(juntas, k = tamano)\n",
    "    sublista.insert(0,years[i])\n",
    "    bitacora.insert(i,sublista)"
   ]
  }
 ],
 "metadata": {
  "kernelspec": {
   "display_name": "Python 3 (ipykernel)",
   "language": "python",
   "name": "python3"
  },
  "language_info": {
   "codemirror_mode": {
    "name": "ipython",
    "version": 3
   },
   "file_extension": ".py",
   "mimetype": "text/x-python",
   "name": "python",
   "nbconvert_exporter": "python",
   "pygments_lexer": "ipython3",
   "version": "3.9.7"
  }
 },
 "nbformat": 4,
 "nbformat_minor": 4
}
