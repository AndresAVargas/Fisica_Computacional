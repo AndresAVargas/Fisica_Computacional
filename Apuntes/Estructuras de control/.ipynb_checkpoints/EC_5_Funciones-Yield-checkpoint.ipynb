{
 "cells": [
  {
   "cell_type": "markdown",
   "metadata": {},
   "source": [
    "# Funciones"
   ]
  },
  {
   "cell_type": "markdown",
   "metadata": {},
   "source": [
    "Al resolver un problema muy complicado lo más conveniente siempre es dividirlo y convertirlo en muchos subproblemas más simples. Lo mismo sucede con la programación. Para evitar errores y encontrarlos fácilmente es más sencillo cortar el código, tal que se tengan muchas funciones que hagan pequeñas porciones del problema. Suele resultar mejor dividir un programa en pequeños subprogramas o módulos, que escribir un programa completo de forma corrida. A esto se le llama programación modular."
   ]
  },
  {
   "cell_type": "code",
   "execution_count": 1,
   "metadata": {},
   "outputs": [],
   "source": [
    "def cuadrado(x):\n",
    "    y=x**2\n",
    "    return y"
   ]
  },
  {
   "cell_type": "code",
   "execution_count": 2,
   "metadata": {},
   "outputs": [
    {
     "name": "stdout",
     "output_type": "stream",
     "text": [
      "8\n"
     ]
    }
   ],
   "source": [
    "def cubico(x):\n",
    "    y=x**3\n",
    "#    print(y)\n",
    "    return(y)\n",
    "    \n",
    "print(cubico(2))"
   ]
  },
  {
   "cell_type": "code",
   "execution_count": null,
   "metadata": {},
   "outputs": [],
   "source": []
  },
  {
   "cell_type": "code",
   "execution_count": 3,
   "metadata": {},
   "outputs": [],
   "source": [
    "def cuadradro1(x):\n",
    "    y=(x**2+1)\n",
    "    return y"
   ]
  },
  {
   "cell_type": "code",
   "execution_count": 4,
   "metadata": {},
   "outputs": [
    {
     "name": "stdout",
     "output_type": "stream",
     "text": [
      "17\n"
     ]
    }
   ],
   "source": [
    "z=cuadradro1(4)\n",
    "print(z)"
   ]
  },
  {
   "cell_type": "code",
   "execution_count": 5,
   "metadata": {},
   "outputs": [
    {
     "data": {
      "text/plain": [
       "4"
      ]
     },
     "execution_count": 5,
     "metadata": {},
     "output_type": "execute_result"
    }
   ],
   "source": [
    "cuadrado(2)"
   ]
  },
  {
   "cell_type": "code",
   "execution_count": 6,
   "metadata": {},
   "outputs": [
    {
     "name": "stdout",
     "output_type": "stream",
     "text": [
      "6\n"
     ]
    }
   ],
   "source": [
    "a=[1,2,3,4,5,6]\n",
    "print(len(a))"
   ]
  },
  {
   "cell_type": "code",
   "execution_count": 7,
   "metadata": {},
   "outputs": [],
   "source": [
    "a=1+cuadrado(3)"
   ]
  },
  {
   "cell_type": "code",
   "execution_count": 15,
   "metadata": {},
   "outputs": [
    {
     "name": "stdout",
     "output_type": "stream",
     "text": [
      "[3, 7]\n",
      "39\n",
      "[4, 5, 6]\n",
      "32\n"
     ]
    }
   ],
   "source": [
    "def punto(a,b):\n",
    "    c=0\n",
    "    print(a)\n",
    "    if len(a)!=len(b):\n",
    "        return(\"Error: Listas con distinta dimensión\")\n",
    "    else:\n",
    "        for i in range(len(b)):\n",
    "            c+=a[i]*b[i]\n",
    "        return c\n",
    "    \n",
    "x=[3,7]\n",
    "y=[6,3]\n",
    "\n",
    "'''\n",
    "n=int(input('La dimension de los vectores'))\n",
    "w=[]\n",
    "for i in range(n):\n",
    "    y1=float(input('Da el elemento %d-esimo del primer vector \\t'%i))\n",
    "    w.append(y1)\n",
    "z=[]\n",
    "for i in range(n):\n",
    "    x=float(input('Da el elemento %d-esimo del segundo vector \\t'%i))\n",
    "    z.append(y1)\n",
    "'''\n",
    "\n",
    "print(punto(x,y))\n",
    "\n",
    "v1=[4,5,6]\n",
    "v2=[1,2,3]\n",
    "print(punto(v1,v2))\n",
    "#print(a,b)"
   ]
  },
  {
   "cell_type": "code",
   "execution_count": 16,
   "metadata": {},
   "outputs": [
    {
     "name": "stdout",
     "output_type": "stream",
     "text": [
      "[3, 7]\n"
     ]
    }
   ],
   "source": [
    "print(x)"
   ]
  },
  {
   "cell_type": "code",
   "execution_count": 27,
   "metadata": {},
   "outputs": [
    {
     "name": "stdout",
     "output_type": "stream",
     "text": [
      "[0, 1, 2, 3, 4, 5, 6, 7, 8, 9, 10, 11, 12, 13, 14, 15, 16, 17, 18, 19]\n"
     ]
    }
   ],
   "source": [
    "#funcion en español analoga a la funcion range\n",
    "def rango(xf,x0=0,h=1):\n",
    "    l=[]\n",
    "    i=x0\n",
    "    while x0<xf:#-h:\n",
    "        l.append(x0)\n",
    "        #x0=x0+h\n",
    "        x0+=h\n",
    "    return l\n",
    "\n",
    "print(rango(20))\n",
    "        "
   ]
  },
  {
   "cell_type": "markdown",
   "metadata": {},
   "source": [
    "También podemos usar una función de función, esto se debe a que Python recibe una variable en la función y no sabe que tipo de variable o función es, hasta que se usa. Veamos un ejemplo:\n",
    "\n",
    "Una función compuesta, indica la función $f$ compuesta de una función $g$, y sigue la regla de composición $(f\\circ g)(x)=f(g(x))$.\n",
    "\n",
    "Si $f(x)=3x-1$ y $g(x)=x^3+2$, evaluar $(f\\circ g)(10)=f(g(10))$: \n"
   ]
  },
  {
   "cell_type": "code",
   "execution_count": null,
   "metadata": {},
   "outputs": [],
   "source": [
    "def f(x):\n",
    "    return (3*x-1)\n",
    "\n",
    "def g(y):\n",
    "    return y**3+2\n",
    "\n",
    "def fog(f,g,z):\n",
    "    variable=g(z)\n",
    "    return f(variable)\n",
    "print(fog(f,g,1))"
   ]
  },
  {
   "cell_type": "code",
   "execution_count": null,
   "metadata": {},
   "outputs": [],
   "source": [
    "def f(x):\n",
    "    print(x)\n",
    "print(f(4))"
   ]
  },
  {
   "cell_type": "code",
   "execution_count": null,
   "metadata": {},
   "outputs": [],
   "source": []
  },
  {
   "cell_type": "markdown",
   "metadata": {},
   "source": [
    "# Yield"
   ]
  },
  {
   "cell_type": "markdown",
   "metadata": {},
   "source": [
    "https://es.stackoverflow.com/questions/6048/cu%C3%A1l-es-el-funcionamiento-de-yield-en-python/6084"
   ]
  },
  {
   "cell_type": "code",
   "execution_count": 29,
   "metadata": {},
   "outputs": [
    {
     "name": "stdout",
     "output_type": "stream",
     "text": [
      "<generator object contador at 0x000001D36E7573C0>\n",
      "0\n",
      "1\n",
      "2\n",
      "3\n",
      "4\n"
     ]
    }
   ],
   "source": [
    "def contador(max):\n",
    "    n=0\n",
    "    while n < max:\n",
    "            yield n\n",
    "            n=n+1\n",
    "\n",
    "mycont = contador(5)\n",
    "\n",
    "print(mycont)\n",
    "\n",
    "for i in mycont:\n",
    "    print(i)\n",
    "\n"
   ]
  },
  {
   "cell_type": "markdown",
   "metadata": {},
   "source": [
    "El resultado es el mismo que si, en lugar de mycont = contador(5) hubiéramos instanciado una lista: mycont = [0,1,2,3,4] o mycont = range(0,5). Pero de hecho lo que ocurre es muy diferente.\n",
    "\n",
    "Cuando el intérprete Python encuentra una función que incluye un yield (o varios), entiende que al llamar esta función no obtendremos un valor devuelto con un return, sino que obtendremos un generador (generator).\n",
    "\n",
    "Un generador se comporta parecido a una lista, en el sentido que puede ser recorrida con un iterador - la diferencia es que los valores no están almacenados en una colección, sino que se generan \"on the fly\". Un generador también se puede instanciar con una expresión entre paréntesis, como"
   ]
  },
  {
   "cell_type": "code",
   "execution_count": null,
   "metadata": {},
   "outputs": [],
   "source": [
    "migen= (x**2 for x in range(1,5))\n",
    "for i in migen:\n",
    "    print (i)"
   ]
  },
  {
   "cell_type": "markdown",
   "metadata": {},
   "source": [
    "Hay veces que es preferible que una función vaya devolviendo los resultados a medida que los obtiene en vez de devolverlos todos juntos al final de su ejecución. Ése es el cometido de yield, el de retornar un valor de una secuencia de valores. Además, devuelve el \"control\" al código llamante, quien decidirá si seguir o no con la ejecución e, incluso, inyectar nuevos datos para modificar el proceso. Es el modo que tiene python de crear corrutinas, cuyo potencial se ha visto ampliado muchísimo con las últimas versiones de python y los procesos asíncronos. Es bastante complejo.\n",
    "\n",
    "Pero volviendo a la pregunta, se puede establecer una analogía entre funciones y objetos. La definición de una función sería como tener una clase con un sólo método, y la ejecución de la función sería como crear instancias de la clase para crear un entorno de ejecución que llamamos \"clausura\" y que desaparece al finalizar la función. Al usar yield, interrumpimos la ejecución en ese punto, conservando la instancia para su uso posterior, así hasta que hayamos terminado."
   ]
  },
  {
   "cell_type": "markdown",
   "metadata": {},
   "source": [
    "El comando *yield* es una orden muy similar al comando *return* ya que se usa para asignar la salida de una función. La gran diferencia que existe entre yield y return es que yield pausa la ejecución de la función y guarda el resultado hasta que se use de nuevo. "
   ]
  },
  {
   "cell_type": "code",
   "execution_count": null,
   "metadata": {},
   "outputs": [],
   "source": []
  },
  {
   "cell_type": "code",
   "execution_count": null,
   "metadata": {},
   "outputs": [],
   "source": []
  },
  {
   "cell_type": "code",
   "execution_count": null,
   "metadata": {},
   "outputs": [],
   "source": []
  },
  {
   "cell_type": "code",
   "execution_count": null,
   "metadata": {},
   "outputs": [],
   "source": []
  },
  {
   "cell_type": "code",
   "execution_count": null,
   "metadata": {},
   "outputs": [],
   "source": []
  },
  {
   "cell_type": "code",
   "execution_count": null,
   "metadata": {},
   "outputs": [],
   "source": [
    "def cuadrados(lista_numeros):\n",
    "    lista_cuadrados=[]\n",
    "    for numero in lista_numeros:\n",
    "        lista_cuadrados.append(numero*numero)\n",
    "    return lista_cuadrados\n",
    "\n",
    "print(cuadrados([1,2,3,4,5]))\n"
   ]
  },
  {
   "cell_type": "code",
   "execution_count": null,
   "metadata": {},
   "outputs": [],
   "source": [
    "def cuadrados(lista_numeros):\n",
    "    lista_cuadrados=[]\n",
    "    for numero in lista_numeros:\n",
    "        lista_cuadrados.append(numero*numero)\n",
    "    yield lista_cuadrados\n",
    "\n",
    "print(cuadrados([1,2,3,4,5]))\n"
   ]
  },
  {
   "cell_type": "code",
   "execution_count": null,
   "metadata": {},
   "outputs": [],
   "source": [
    "def cuadrados(lista_numeros):\n",
    "    lista_cuadrados=[]\n",
    "    for numero in lista_numeros:\n",
    "        lista_cuadrados.append(numero*numero)\n",
    "    yield lista_cuadrados\n",
    "\n",
    "print(cuadrados([1,2,3,4,5]))\n",
    "\n",
    "for cuadrado in cuadrados([1,2,3]):\n",
    "    print(cuadrado)"
   ]
  },
  {
   "cell_type": "markdown",
   "metadata": {},
   "source": [
    "El comando yield es muy útil ya que se pueden generar secuencias infinitas que, obviamente, no se pueden calcular con antelación. Por ejemplo, calcular todos los números naturales hasta 1000:\n"
   ]
  },
  {
   "cell_type": "code",
   "execution_count": null,
   "metadata": {},
   "outputs": [],
   "source": [
    "def numeros_naturales():\n",
    "    n = 1\n",
    "    while True:\n",
    "        yield n\n",
    "        n += 1\n",
    "\n",
    "for natural in numeros_naturales():\n",
    "    print(natural)\n",
    "    if natural>999:\n",
    "        break"
   ]
  },
  {
   "cell_type": "code",
   "execution_count": null,
   "metadata": {},
   "outputs": [],
   "source": []
  },
  {
   "cell_type": "code",
   "execution_count": null,
   "metadata": {},
   "outputs": [],
   "source": []
  },
  {
   "cell_type": "code",
   "execution_count": null,
   "metadata": {},
   "outputs": [],
   "source": []
  },
  {
   "cell_type": "code",
   "execution_count": null,
   "metadata": {},
   "outputs": [],
   "source": []
  },
  {
   "cell_type": "code",
   "execution_count": null,
   "metadata": {},
   "outputs": [],
   "source": []
  },
  {
   "cell_type": "code",
   "execution_count": null,
   "metadata": {},
   "outputs": [],
   "source": []
  },
  {
   "cell_type": "code",
   "execution_count": null,
   "metadata": {},
   "outputs": [],
   "source": [
    "def primo(n):\n",
    "    cont=0\n",
    "    for i in range(2,n-1,1):\n",
    "        if (n%i==0):\n",
    "            cont+=1\n",
    "    if (cont>0):\n",
    "        print('El número no es primo')\n",
    "    else:\n",
    "        print('El número es primo')"
   ]
  },
  {
   "cell_type": "code",
   "execution_count": null,
   "metadata": {},
   "outputs": [],
   "source": []
  },
  {
   "cell_type": "code",
   "execution_count": null,
   "metadata": {},
   "outputs": [],
   "source": []
  },
  {
   "cell_type": "code",
   "execution_count": null,
   "metadata": {},
   "outputs": [],
   "source": [
    "print(primo(7))"
   ]
  },
  {
   "cell_type": "code",
   "execution_count": 9,
   "metadata": {},
   "outputs": [],
   "source": [
    "def primo( ):\n",
    "    n=int(input('Da el valor que quieres evaluar'))\n",
    "    cont=0\n",
    "    for i in range(2,n-1,1):\n",
    "        if (n%i==0):\n",
    "            cont+=1\n",
    "    if (cont>0):\n",
    "        return('El número no es primo')\n",
    "    else:\n",
    "        return('El número es primo')"
   ]
  },
  {
   "cell_type": "code",
   "execution_count": null,
   "metadata": {},
   "outputs": [],
   "source": [
    "print(primo())"
   ]
  },
  {
   "cell_type": "code",
   "execution_count": null,
   "metadata": {},
   "outputs": [],
   "source": []
  }
 ],
 "metadata": {
  "kernelspec": {
   "display_name": "Python 3 (ipykernel)",
   "language": "python",
   "name": "python3"
  },
  "language_info": {
   "codemirror_mode": {
    "name": "ipython",
    "version": 3
   },
   "file_extension": ".py",
   "mimetype": "text/x-python",
   "name": "python",
   "nbconvert_exporter": "python",
   "pygments_lexer": "ipython3",
   "version": "3.9.7"
  }
 },
 "nbformat": 4,
 "nbformat_minor": 4
}
