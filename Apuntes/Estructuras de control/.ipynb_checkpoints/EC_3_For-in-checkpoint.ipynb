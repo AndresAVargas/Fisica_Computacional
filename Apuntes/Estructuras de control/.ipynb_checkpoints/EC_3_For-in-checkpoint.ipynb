{
 "cells": [
  {
   "cell_type": "markdown",
   "metadata": {},
   "source": [
    "# For - in"
   ]
  },
  {
   "cell_type": "markdown",
   "metadata": {},
   "source": [
    "Hay otro tipo de bucle en Python, el bucle *for*, que se puede interpretar como *para todo elemento de una serie, hacer una acción*."
   ]
  },
  {
   "cell_type": "code",
   "execution_count": null,
   "metadata": {},
   "outputs": [],
   "source": [
    "numero=int(input(\"Da un número\"))\n",
    "\n",
    "print(\"%d elevado a %d es %d\" % (numero, 2, numero**2))\n",
    "print(\"%d elevado a %d es %d\" % (numero, 3, numero**3))\n",
    "print(\"%d elevado a %d es %d\" % (numero, 4, numero**4))\n",
    "print(\"%d elevado a %d es %d\" % (numero, 5, numero**5))"
   ]
  },
  {
   "cell_type": "code",
   "execution_count": 2,
   "metadata": {},
   "outputs": [
    {
     "name": "stdout",
     "output_type": "stream",
     "text": [
      "Da un entero1\n",
      "1 elevado a 1 es 1\n",
      "1 elevado a 2 es 1\n",
      "1 elevado a 3 es 1\n",
      "1 elevado a 4 es 1\n",
      "1 elevado a 5 es 1\n",
      "1 elevado a 6 es 1\n",
      "1 elevado a 7 es 1\n",
      "1 elevado a 8 es 1\n",
      "1 elevado a 9 es 1\n",
      "1 elevado a 10 es 1\n"
     ]
    }
   ],
   "source": [
    "numero=int(input(\"Da un entero\"))\n",
    "for potencia in [1,2,3,4,5,6,7,8,9,10]:\n",
    "    print(\"%d elevado a %d es %d\" %(numero, potencia, numero**potencia))"
   ]
  },
  {
   "cell_type": "code",
   "execution_count": 3,
   "metadata": {},
   "outputs": [
    {
     "name": "stdout",
     "output_type": "stream",
     "text": [
      "Da un entero2\n",
      "2 elevado a 0 es 1\n",
      "2 elevado a 100 es 1267650600228229401496703205376\n",
      "2 elevado a 200 es 1606938044258990275541962092341162602522202993782792835301376\n",
      "2 elevado a 300 es 2037035976334486086268445688409378161051468393665936250636140449354381299763336706183397376\n",
      "2 elevado a 400 es 2582249878086908589655919172003011874329705792829223512830659356540647622016841194629645353280137831435903171972747493376\n",
      "2 elevado a 500 es 3273390607896141870013189696827599152216642046043064789483291368096133796404674554883270092325904157150886684127560071009217256545885393053328527589376\n",
      "2 elevado a 600 es 4149515568880992958512407863691161151012446232242436899995657329690652811412908146399707048947103794288197886611300789182395151075411775307886874834113963687061181803401509523685376\n",
      "2 elevado a 700 es 5260135901548373507240989882880128665550339802823173859498280903068732154297080822113666536277588451226982968856178217713019432250183803863127814770651880849955223671128444598191663757884322717271293251735781376\n",
      "2 elevado a 800 es 6668014432879854274079851790721257797144758322315908160396257811764037237817632071521432200871554290742929910593433240445888801654119365080363356052330830046095157579514014558463078285911814024728965016135886601981690748037476461291163877376\n",
      "2 elevado a 900 es 8452712498170643941637436558664265704301557216577944354047371344426782440907597751590676094202515006314790319892114058862117560952042968596008623655407033230534186943984081346699704282822823056848387726531379014466368452684024987821414350380272583623832617294363807973376\n"
     ]
    }
   ],
   "source": [
    "numero=int(input(\"Da un entero\"))\n",
    "for potencia in range(0,1000,100):\n",
    "    print(\"%d elevado a %d es %d\" %(numero, potencia, numero**potencia))"
   ]
  },
  {
   "cell_type": "code",
   "execution_count": 8,
   "metadata": {},
   "outputs": [
    {
     "name": "stdout",
     "output_type": "stream",
     "text": [
      "0.10000000000000\n",
      "0.20000000000000\n",
      "0.30000000000000\n",
      "0.40000000000000\n",
      "0.50000000000000\n",
      "0.60000000000000\n",
      "0.70000000000000\n",
      "0.80000000000000\n",
      "0.90000000000000\n",
      "1.00000000000000\n"
     ]
    }
   ],
   "source": [
    "from numpy import arange\n",
    "#numero=int(input(\"Da un entero\"))\n",
    "for potencia in arange(0.1,1.1,0.1):\n",
    "    print(\"%16.14f\" %potencia)"
   ]
  },
  {
   "cell_type": "code",
   "execution_count": 5,
   "metadata": {},
   "outputs": [
    {
     "name": "stdout",
     "output_type": "stream",
     "text": [
      "Da un entero1\n",
      "1 elevado a 0 es 1\n",
      "1 elevado a 2 es 1\n",
      "1 elevado a 4 es 1\n",
      "1 elevado a 6 es 1\n",
      "1 elevado a 8 es 1\n",
      "1 elevado a 10 es 1\n"
     ]
    }
   ],
   "source": [
    "numero=int(input(\"Da un entero\"))\n",
    "for potencia in range(0,11,2):\n",
    "    print(\"%d elevado a %d es %d\" %(numero, potencia, numero**potencia))"
   ]
  },
  {
   "cell_type": "code",
   "execution_count": 15,
   "metadata": {},
   "outputs": [
    {
     "name": "stdout",
     "output_type": "stream",
     "text": [
      "[0, 1, 2, 3, 4, 5, 6, 7, 8, 9]\n"
     ]
    }
   ],
   "source": [
    "lista=range(0,10,1) #variable rango \n",
    "print(list(lista)) "
   ]
  },
  {
   "cell_type": "code",
   "execution_count": 19,
   "metadata": {},
   "outputs": [
    {
     "data": {
      "text/plain": [
       "[0, 2, 4, 6, 8]"
      ]
     },
     "execution_count": 19,
     "metadata": {},
     "output_type": "execute_result"
    }
   ],
   "source": [
    "list(range(0,10,2))"
   ]
  },
  {
   "cell_type": "code",
   "execution_count": 17,
   "metadata": {},
   "outputs": [
    {
     "data": {
      "text/plain": [
       "[3, 4, 5, 6]"
      ]
     },
     "execution_count": 17,
     "metadata": {},
     "output_type": "execute_result"
    }
   ],
   "source": [
    "list(range(3,7))"
   ]
  },
  {
   "cell_type": "code",
   "execution_count": 12,
   "metadata": {},
   "outputs": [
    {
     "name": "stdout",
     "output_type": "stream",
     "text": [
      "1\n",
      "3\n",
      "6\n",
      "10\n",
      "15\n",
      "21\n",
      "28\n",
      "36\n",
      "45\n",
      "55\n"
     ]
    }
   ],
   "source": [
    "i=0\n",
    "sumatoria=0\n",
    "while i<10:\n",
    "    i+=1\n",
    "    sumatoria+=i\n",
    "    print(sumatoria)"
   ]
  },
  {
   "cell_type": "code",
   "execution_count": 11,
   "metadata": {},
   "outputs": [
    {
     "name": "stdout",
     "output_type": "stream",
     "text": [
      "0\n",
      "1\n",
      "3\n",
      "6\n",
      "10\n",
      "15\n",
      "21\n",
      "28\n",
      "36\n",
      "45\n",
      "55\n"
     ]
    }
   ],
   "source": [
    "sumatoria=0 #valor inicial\n",
    "for i in range(0,11):\n",
    "    sumatoria+=i\n",
    "    print(sumatoria)"
   ]
  },
  {
   "cell_type": "markdown",
   "metadata": {},
   "source": [
    "$$\n",
    "\\Pi_{i=1}^{n}=i\n",
    "$$"
   ]
  },
  {
   "cell_type": "code",
   "execution_count": 24,
   "metadata": {},
   "outputs": [
    {
     "name": "stdout",
     "output_type": "stream",
     "text": [
      "93326215443944152681699238856266700490715968264381621468592963895217599993229915608941463976156518286253697920827223758251185210916864000000000000000000000000\n"
     ]
    }
   ],
   "source": [
    "mult=1 #valor inicial\n",
    "for i in range(1,101):\n",
    "    mult*=i\n",
    "print(mult)"
   ]
  },
  {
   "cell_type": "code",
   "execution_count": null,
   "metadata": {},
   "outputs": [],
   "source": []
  },
  {
   "cell_type": "code",
   "execution_count": 15,
   "metadata": {},
   "outputs": [
    {
     "name": "stdout",
     "output_type": "stream",
     "text": [
      "[]\n",
      "Cuantos elementos quieres? \t3\n",
      "Dame el 0-esimo elemento \t3.1415\n",
      "[3.1415]\n",
      "Dame el 1-esimo elemento \t1.65\n",
      "[3.1415, 1.65]\n",
      "Dame el 2-esimo elemento \t3.78\n",
      "[3.1415, 1.65, 3.78]\n"
     ]
    }
   ],
   "source": [
    "lista=[]\n",
    "print(lista)\n",
    "n=int(input('Cuantos elementos quieres? \\t'))\n",
    "for iterador in range(0,n):\n",
    "    x=float(input('Dame el %d-esimo elemento \\t'%iterador))\n",
    "    lista.append(x)\n",
    "    print(lista)"
   ]
  }
 ],
 "metadata": {
  "kernelspec": {
   "display_name": "Python 3 (ipykernel)",
   "language": "python",
   "name": "python3"
  },
  "language_info": {
   "codemirror_mode": {
    "name": "ipython",
    "version": 3
   },
   "file_extension": ".py",
   "mimetype": "text/x-python",
   "name": "python",
   "nbconvert_exporter": "python",
   "pygments_lexer": "ipython3",
   "version": "3.9.7"
  }
 },
 "nbformat": 4,
 "nbformat_minor": 4
}
