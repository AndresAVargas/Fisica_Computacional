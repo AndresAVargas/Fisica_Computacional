{
 "cells": [
  {
   "cell_type": "markdown",
   "metadata": {},
   "source": [
    "# Estructura básica de programación"
   ]
  },
  {
   "cell_type": "markdown",
   "metadata": {},
   "source": [
    "Algoritmo: Es un procedimiento que describe de manera inequívoca una serie finita de pasos a seguir en un orden determinado. Su finalidad es implantar un procedimiento para resolver un problema o aproximar una posible solución."
   ]
  },
  {
   "cell_type": "markdown",
   "metadata": {},
   "source": [
    "Los lenguajes de programación tienen elementos básicos que se utilizan como bloques constructivos, así como reglas para las que esos elementos se combinan. Sólo las instrucciones sintácticas correctas pueden ser interpretadas por la computadora y los programas que contengan errores de sintaxis son rechazados por la máquina."
   ]
  },
  {
   "cell_type": "markdown",
   "metadata": {},
   "source": [
    "## Sentencia condicionada "
   ]
  },
  {
   "cell_type": "markdown",
   "metadata": {},
   "source": [
    "Veamos un ejemplo. Diseñemos un programa para resolver cualquier ecuación de primer grado de la forma\n",
    "\\begin{equation}\n",
    "ax+b=0\n",
    "\\end{equation}\n",
    "donde $x$ es la incógnita. Los pasos a seguir serán:\n",
    "\n",
    "*Algoritmo*\n",
    "1. Pedir el valor de $a$ y $b$ (dígase que son de tipo flotante).\n",
    "2. Calcular el valor de $x$ como $\\frac{-b}{a}$\n",
    "3. Mostrar en pantalla el valor de $x$"
   ]
  },
  {
   "cell_type": "code",
   "execution_count": null,
   "metadata": {},
   "outputs": [],
   "source": [
    "a=float(input(\"Valor de a: \"))\n",
    "b=float(input(\"Valor de b: \"))\n",
    "x=-b/a\n",
    "print(\"Solucion: \",x)"
   ]
  },
  {
   "cell_type": "markdown",
   "metadata": {},
   "source": [
    "El programa no funciona bien cuando $a$ vale $0$, se produce un error de división entre cero. Para evitar la división entre cero, pondremos un condicional, el cual excluirá el caso en que a=0. Por lo que el programa será:"
   ]
  },
  {
   "cell_type": "code",
   "execution_count": null,
   "metadata": {},
   "outputs": [],
   "source": [
    "a=float(input(\"Valor de a: \"))\n",
    "b=float(input(\"Valor de b: \"))\n",
    "if a!=0: #  != distinto que\n",
    "    x=-float(b)/a\n",
    "    print(\"Solucion: \",x)\n",
    "if a==0: #== identico\n",
    "    print(\"La ecuacion no tiene solución\")"
   ]
  },
  {
   "cell_type": "markdown",
   "metadata": {},
   "source": [
    "### Sentencias condicionales anidadas"
   ]
  },
  {
   "cell_type": "code",
   "execution_count": null,
   "metadata": {},
   "outputs": [],
   "source": [
    "x=input('Mascota? ')\n",
    "y=x.capitalize()\n",
    "if y=='perro' or x=='Perro':\n",
    " print('guaff')\n",
    "if y=='Gato':\n",
    " print('miau')\n",
    "print('adios')"
   ]
  },
  {
   "cell_type": "markdown",
   "metadata": {},
   "source": [
    "Las estructuras de control pueden anidarse, es decir, aparecer unas dentro de otras. "
   ]
  },
  {
   "cell_type": "code",
   "execution_count": null,
   "metadata": {},
   "outputs": [],
   "source": [
    "a=float(input(\"Valor de a: \"))\n",
    "b=float(input(\"Valor de b: \"))\n",
    "\n",
    "if a!=0:\n",
    "    x=-float(b)/a\n",
    "    print (\"Solución: \",x)\n",
    "if a==0:\n",
    "    if b!=0:\n",
    "        print (\"La ecuación no tiene solución\")\n",
    "    if b==0:\n",
    "        print (\"La ecuación tiene infinitas soluciones\")\n",
    "print('Adios')"
   ]
  },
  {
   "cell_type": "markdown",
   "metadata": {},
   "source": [
    "## Recuerda que la indentación en Python determina de que sentencia depende cada bloque de sentencias.\n",
    "\n",
    "Para afianzar los conceptos presentados, se presenta otro ejemplo para resolver ecuaciones de segundo grado de la forma\n",
    "\n",
    "\\begin{equation}\n",
    " ax^{2} + bx+c=0\n",
    "\\end{equation}\n",
    "¿Cuáles son los datos del problema? Los coeficientes $a$, $b$ y $c$. ¿Qué se desea calcular? Los valores de $x$ que hacen cierta la ecuación. Dichos valores son:\n",
    "\n",
    "\\begin{equation} \n",
    "x_1=\\frac{-b+\\sqrt{b^{2}-4ac}}{2a} \\qquad\n",
    "x_2=\\frac{-b-\\sqrt{b^{2}-4ac}}{2a}\n",
    "\\end{equation}\n",
    "\n",
    "Un problema que debe considerar es la división entre cero que tiene lugar cuando $a$ vale $0$. Tratemos de evitar el problema de la \n",
    "división por cero del mismo modo que antes, pero mostrando un mensaje distinto, pues cuando $a$ vale 0 la ecuación no es de segundo grado, sino de primer grado."
   ]
  },
  {
   "cell_type": "code",
   "execution_count": null,
   "metadata": {},
   "outputs": [],
   "source": [
    "from math import sqrt\n",
    "a=float(input(\"Valor de a: \"))\n",
    "b=float(input(\"Valor de b: \"))\n",
    "c=float(input(\"Valor de c: \"))\n",
    "if a!=0:\n",
    "    x1=(-b+(b**2-4*a*c)**0.5)/(2*a)\n",
    "    x2=(-b-sqrt(b**2-4*a*c))/(2*a)\n",
    "    print(\"x1 = \",x1)\n",
    "    print(\"x2 = \",x2)\n",
    "if a==0:\n",
    "    print (\"No es una ecuación de segundo grado, es lineal\")\n",
    "print('Adios')"
   ]
  },
  {
   "cell_type": "markdown",
   "metadata": {},
   "source": [
    "Incluir el caso en que no se tienen soluciones reales"
   ]
  },
  {
   "cell_type": "markdown",
   "metadata": {},
   "source": [
    "\\begin{verbatim}\n",
    "if condición:\n",
    "    acciones\n",
    "else:\n",
    "    otras acciones\n",
    "\\end{verbatim}"
   ]
  },
  {
   "cell_type": "markdown",
   "metadata": {},
   "source": [
    "Es muy importante que se respete la indentación: las acciones siempre un poco a la derecha y el if y else alineados en la misma columna."
   ]
  },
  {
   "cell_type": "code",
   "execution_count": null,
   "metadata": {},
   "outputs": [],
   "source": [
    "from math import *\n",
    "a=float(input(\"Valor de  a: \"))\n",
    "b=float(input(\"Valor de  b: \"))\n",
    "c=float(input(\"Valor de  c: \"))\n",
    "if a!=0:\n",
    "    x1=(-b+sqrt(b**2-4*a*c))/(2*a)\n",
    "    x2=(-b-sqrt(b**2-4*a*c))/(2*a)\n",
    "    print(\"x1 = \",x1)\n",
    "    print(\"x2 = \",x2)\n",
    "else:  # a==0 y es el caso de la ecuación lineal\n",
    "    if b!=0:\n",
    "        x=-c/b\n",
    "        print (\"Solución de la ecuación lineal es: x = \" %x)\n",
    "    else:\n",
    "        if c!=0:\n",
    "            print (\"La ecuación no tiene solución\")\n",
    "        else:\n",
    "            print (\"La ecuación tiene infinidad soluciones\")"
   ]
  },
  {
   "cell_type": "markdown",
   "metadata": {},
   "source": [
    "### Forma compacta para estructuras condicionales (elif)"
   ]
  },
  {
   "cell_type": "code",
   "execution_count": null,
   "metadata": {},
   "outputs": [],
   "source": [
    "from math import *\n",
    "a=float(input(\"Valor de  a: \"))\n",
    "b=float(input(\"Valor de  b: \"))\n",
    "c=float(input(\"Valor de  c: \"))\n",
    "if a!=0:  #a!=0, b!=0  c!= o c=0\n",
    "    x1=(-b+sqrt(b**2-4*a*c))/(2*a)\n",
    "    x2=(-b-sqrt(b**2-4*a*c))/(2*a)\n",
    "    print(\"x1 = \",x1)\n",
    "    print(\"x2 = \",x2)\n",
    "elif b!=0:\n",
    "    x=-c/b\n",
    "    print (\"Solución de la ecuación lineal es: x = \", x)\n",
    "elif c!=0: # a=0, b=0\n",
    "    print (\"La ecuacion no tiene solución\")\n",
    "else:  #a=0 b=0 c=0\n",
    "    print (\"La ecuación tiene infinidad soluciones\")"
   ]
  },
  {
   "cell_type": "code",
   "execution_count": null,
   "metadata": {
    "scrolled": true
   },
   "outputs": [],
   "source": [
    "from cmath import *\n",
    "a=float(input(\"Valor de  a: \"))\n",
    "b=float(input(\"Valor de  b: \"))\n",
    "c=float(input(\"Valor de  c: \"))\n",
    "if a!=0:  #a!=0, b!=0  c!= o c=0\n",
    "    x1=(-b+sqrt(b**2-4*a*c))/(2*a)\n",
    "    x2=(-b-sqrt(b**2-4*a*c))/(2*a)\n",
    "    print(\"x1 = \",x1)\n",
    "    print(\"x2 = \",x2)\n",
    "elif b!=0:\n",
    "    x=-c/b\n",
    "    print (\"Solución de la ecuación lineal es: x = \", x)\n",
    "elif c!=0: # a=0, b=0\n",
    "    print (\"La ecuacion no tiene solución\")\n",
    "else:  #a=0 b=0 c=0\n",
    "    print (\"La ecuación tiene infinidad soluciones\")"
   ]
  },
  {
   "cell_type": "code",
   "execution_count": 2,
   "metadata": {},
   "outputs": [
    {
     "name": "stdout",
     "output_type": "stream",
     "text": [
      "(4+5j)\n",
      "2j\n"
     ]
    }
   ],
   "source": [
    "from cmath import *\n",
    "z1=3+4j\n",
    "z2=1+1j\n",
    "print(z1+z2)\n",
    "print(z2**2)"
   ]
  },
  {
   "cell_type": "markdown",
   "metadata": {},
   "source": [
    "Ejercicio Aula Virtual:\n",
    "    Agrega un programa que reciba el radio de un círculo y le despliegue al usuario el siguiente menú:\n",
    "\n",
    "    A. Calcular el diámetro\n",
    "    B. Calcular el perímetro\n",
    "    C. Calcular el área\n",
    "\n",
    "De acuerdo a la opción del resultado, que el programa seleccione el procedimiento y devuelva el resultado."
   ]
  },
  {
   "cell_type": "code",
   "execution_count": null,
   "metadata": {},
   "outputs": [],
   "source": [
    "#Aquí va tu código"
   ]
  },
  {
   "cell_type": "code",
   "execution_count": 5,
   "metadata": {},
   "outputs": [
    {
     "name": "stdout",
     "output_type": "stream",
     "text": [
      "Que opcion quieres3\n",
      "<class 'float'>\n",
      "3.0\n"
     ]
    }
   ],
   "source": [
    "#a='hola'\n",
    "#a=3.0\n",
    "a=float(input('Que opcion quieres'))\n",
    "print(type(a))\n",
    "if type(a)==str:\n",
    "    print('a')\n",
    "elif type(a)==float:\n",
    "    print(a)"
   ]
  },
  {
   "cell_type": "code",
   "execution_count": null,
   "metadata": {},
   "outputs": [],
   "source": []
  }
 ],
 "metadata": {
  "kernelspec": {
   "display_name": "Python 3 (ipykernel)",
   "language": "python",
   "name": "python3"
  },
  "language_info": {
   "codemirror_mode": {
    "name": "ipython",
    "version": 3
   },
   "file_extension": ".py",
   "mimetype": "text/x-python",
   "name": "python",
   "nbconvert_exporter": "python",
   "pygments_lexer": "ipython3",
   "version": "3.9.7"
  }
 },
 "nbformat": 4,
 "nbformat_minor": 4
}
