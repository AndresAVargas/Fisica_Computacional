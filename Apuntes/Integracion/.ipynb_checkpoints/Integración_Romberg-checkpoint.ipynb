{
 "cells": [
  {
   "cell_type": "markdown",
   "metadata": {},
   "source": [
    "# Romberg\n",
    "$$\n",
    "I=\\int_0^1 \\sin^2(100x)\n",
    "$$"
   ]
  },
  {
   "cell_type": "markdown",
   "metadata": {},
   "source": [
    "Comparemos nuestros métodos contra Romberg"
   ]
  },
  {
   "cell_type": "code",
   "execution_count": 1,
   "metadata": {},
   "outputs": [
    {
     "name": "stdout",
     "output_type": "stream",
     "text": [
      "0.45583251242674305\n",
      "0.45583253221632586\n",
      "0.4558325323050135\n"
     ]
    }
   ],
   "source": [
    "from numpy import *\n",
    "\n",
    "\n",
    "def trapecio(f,a,b,N):\n",
    "    h=(b-a)/N\n",
    "    s=0.5*f(a)+0.5*f(b)\n",
    "    for k in range(1,N):\n",
    "        s+=f(a+k*h)\n",
    "    return s*h\n",
    "\n",
    "\n",
    "def simpson(f, a, b, n):\n",
    "    h=(b-a)/n\n",
    "    s=0.0\n",
    "    x=a + h\n",
    "    for i in range(1,n,2):\n",
    "        s += 4*f(x)\n",
    "        x += 2*h\n",
    "\n",
    "    x = a + 2*h\n",
    "    for i in range(2,n,2):\n",
    "        s += 2*f(x)\n",
    "        x += 2*h\n",
    "    return (h/3)*(f(a)+f(b)+s)\n",
    "\n",
    "\n",
    "def trapecio_reducido(f,a,b,N):\n",
    "    h=(b-a)/N\n",
    "    s=0  #s=0.5*f(a)+0.5*f(b) metemos esto en el for\n",
    "    for k in range(1,N//2+1):\n",
    "        s+=f(a+(2*k-1)*h)\n",
    "    return s*h\n",
    "\n",
    "def Romberg(f,a,b,epsilon=1e-6):\n",
    "    I = (b-a)/2*(f(b)+f(a)) #capa cero de la recursividad. En realidad es la forma de trapecio modificada \n",
    "    #(análogo a diferencias divididas pero con integración)\n",
    "    eps=1\n",
    "    N=1\n",
    "    R =zeros((100,100)) \n",
    "    R[0,0]=I\n",
    "    i=0\n",
    "    while eps>epsilon:\n",
    "        N*=2\n",
    "        i+=1\n",
    "        R[i,0] = R[i-1,0]/2 + trapecio_reducido(f,a,b,N)\n",
    "        for m in range(i):\n",
    "            R[i,m+1] =R[i,m] + 1/(4**(m+1)-1)*(R[i,m] - R[i-1,m])\n",
    "            eps = abs(R[i,m+1]-R[i-1,m])\n",
    "    I= R[i,m+1]\n",
    "    return I\n",
    "\n",
    "f=lambda x: sin(sqrt(100*x))**2\n",
    "\n",
    "\n",
    "\n",
    "print(trapecio(f,0,1.0,20000)) \n",
    "print(simpson(f,0,1.0,2000))\n",
    "print(Romberg(f,0,1.0,1e-5))\n",
    "#Solucion 0.45583253230908477"
   ]
  },
  {
   "cell_type": "code",
   "execution_count": null,
   "metadata": {},
   "outputs": [],
   "source": []
  }
 ],
 "metadata": {
  "kernelspec": {
   "display_name": "Python 3 (ipykernel)",
   "language": "python",
   "name": "python3"
  },
  "language_info": {
   "codemirror_mode": {
    "name": "ipython",
    "version": 3
   },
   "file_extension": ".py",
   "mimetype": "text/x-python",
   "name": "python",
   "nbconvert_exporter": "python",
   "pygments_lexer": "ipython3",
   "version": "3.9.7"
  }
 },
 "nbformat": 4,
 "nbformat_minor": 4
}
