{
 "cells": [
  {
   "cell_type": "markdown",
   "metadata": {},
   "source": [
    "# SymPy"
   ]
  },
  {
   "cell_type": "markdown",
   "metadata": {},
   "source": [
    "SymPy es un paquete de Python de Computación Simbólica. La computación simbólica se ocupa de la computación de objetos matemáticos simbólicamente. Esto significa que los objetos matemáticos se representan exactamente, no aproximadamente, y las expresiones matemáticas con variables no evaluadas se dejan en forma simbólica.\n",
    "\n",
    "Sympy permite al usuario realizar operaciones numéricas así como operaciones analíticas o con símbolos. Por ejemplo:"
   ]
  },
  {
   "cell_type": "code",
   "execution_count": 1,
   "metadata": {},
   "outputs": [
    {
     "name": "stdout",
     "output_type": "stream",
     "text": [
      "2.8284271247461903 2*sqrt(2)\n"
     ]
    }
   ],
   "source": [
    "import math\n",
    "import sympy\n",
    "l1=math.sqrt(8)\n",
    "l2=sympy.sqrt(8)\n",
    "print(l1,l2)"
   ]
  },
  {
   "cell_type": "markdown",
   "metadata": {},
   "source": [
    "La variable l1 es la cantidad evaluada numéricamente, mientras que, la variable l2 es la cantidad indicada simbólicamente guardada por sympy. "
   ]
  },
  {
   "cell_type": "markdown",
   "metadata": {},
   "source": [
    "Sympy reconoce tres tipos de variables: Reales, Enteros y Racionales. Las dos primeras ya se han visto anteriormente, la clase Racional representa un número racional dejando indicada la fracción. "
   ]
  },
  {
   "cell_type": "code",
   "execution_count": 2,
   "metadata": {},
   "outputs": [
    {
     "name": "stdout",
     "output_type": "stream",
     "text": [
      "1/4\n"
     ]
    }
   ],
   "source": [
    "a=sympy.Rational(1,4)\n",
    "print(a)"
   ]
  },
  {
   "cell_type": "markdown",
   "metadata": {},
   "source": [
    "SymPy usa la librería mpmath como auxiliar, lo que hace posible ejecutar cálculos numéricos usando aritmética con precisión arbitraria. Por lo que algunas constantes especiales como $e$, $\\pi$ o $\\infty$ son tratadas como símbolos y pueden ser evaluadas numérocamente"
   ]
  },
  {
   "cell_type": "code",
   "execution_count": 3,
   "metadata": {},
   "outputs": [
    {
     "data": {
      "text/plain": [
       "(exp, pi, oo)"
      ]
     },
     "execution_count": 3,
     "metadata": {},
     "output_type": "execute_result"
    }
   ],
   "source": [
    "sympy.exp,sympy.pi,sympy.oo"
   ]
  },
  {
   "cell_type": "markdown",
   "metadata": {},
   "source": [
    "También existe la función \\texttt{evalf()} que evalúa la función "
   ]
  },
  {
   "cell_type": "code",
   "execution_count": 4,
   "metadata": {},
   "outputs": [
    {
     "data": {
      "text/plain": [
       "(3.14159265358979, 12.5878862295484, oo)"
      ]
     },
     "execution_count": 4,
     "metadata": {},
     "output_type": "execute_result"
    }
   ],
   "source": [
    "from sympy import *\n",
    "pi.evalf(),(pi**2+exp(1)).evalf(),oo.evalf()"
   ]
  },
  {
   "cell_type": "markdown",
   "metadata": {},
   "source": [
    "La función evalf es una buena herramienta si se quiere hacer evaluaciones simples, pero si se tiene la intención de evaluar una expresión más compleja o com más puntos, existen formas más eficientes. Por ejemplo, si quisiera evaluar una expresión en mil puntos, usar solo SymPy sería mucho más lento de lo necesario. En su lugar, se podrá auxiliar con la librería numpy. La forma más sencilla de convertir una expresión simbólica en una expresión que se pueda evaluar numéricamente es utilizar la función lambdify(), que actúa como una función lambda, excepto que convierte los nombres de SymPy a los nombres de la biblioteca numérica dada, generalmente NumPy. Por ejemplo"
   ]
  },
  {
   "cell_type": "code",
   "execution_count": 5,
   "metadata": {},
   "outputs": [
    {
     "name": "stdout",
     "output_type": "stream",
     "text": [
      "[ 1.          0.54030231 -0.41614684 -0.9899925  -0.65364362  0.28366219\n",
      "  0.96017029  0.75390225 -0.14550003 -0.91113026]\n"
     ]
    }
   ],
   "source": [
    "from sympy import *\n",
    "import numpy\n",
    "a = numpy.arange(10)\n",
    "x=Symbol('x')\n",
    "expr = cos(x)\n",
    "f = lambdify(x, expr, \"numpy\") \n",
    "print(f(a))"
   ]
  },
  {
   "cell_type": "code",
   "execution_count": 39,
   "metadata": {},
   "outputs": [
    {
     "name": "stdout",
     "output_type": "stream",
     "text": [
      "0.00036288\n"
     ]
    }
   ],
   "source": [
    "from sympy import *\n",
    "a=10\n",
    "x=Symbol('x')\n",
    "expr=(factorial(x)/x**x)#cos(x))\n",
    "f=lambdify(x,expr)\n",
    "print(f(a))"
   ]
  },
  {
   "cell_type": "markdown",
   "metadata": {},
   "source": [
    "Otro ejemplo del uso de lambdify()."
   ]
  },
  {
   "cell_type": "code",
   "execution_count": 6,
   "metadata": {},
   "outputs": [
    {
     "name": "stdout",
     "output_type": "stream",
     "text": [
      "2 3\n"
     ]
    }
   ],
   "source": [
    "f = lambdify(x, x + 1)\n",
    "print(f(1),f(2))"
   ]
  },
  {
   "cell_type": "markdown",
   "metadata": {},
   "source": [
    "Hasta el momento, se ha usado sympy como una calculadora bastante poderosa, pero no se ha hecho nada simbólico. Para empezar con el cálculo simbólico lo primero que se tiene que hacer es declarar las variables simbólicas de forma explícita."
   ]
  },
  {
   "cell_type": "code",
   "execution_count": 7,
   "metadata": {},
   "outputs": [],
   "source": [
    "import sympy\n",
    "x=sympy.Symbol('x')\n",
    "y=sympy.Symbol('y')\n",
    "z=sympy.Symbol('z')"
   ]
  },
  {
   "cell_type": "markdown",
   "metadata": {},
   "source": [
    "De esta manera, las variables simbólicas pueden ser usadas con total libertad"
   ]
  },
  {
   "cell_type": "code",
   "execution_count": 40,
   "metadata": {},
   "outputs": [
    {
     "name": "stdout",
     "output_type": "stream",
     "text": [
      "x**2 + y**2 + z**2\n",
      "x**y/z\n",
      "(x + y)**3\n",
      "x**3 + 3*x**2*y + 3*x*y**2 + y**3\n",
      "cos(x + y)\n",
      "-sin(x)*sin(y) + cos(x)*cos(y)\n"
     ]
    }
   ],
   "source": [
    "print(x**2+y**2+z**2)\n",
    "print(x**y/z)\n",
    "print((x+y)**3)\n",
    "print(expand((x+y)**3))\n",
    "print(expand(cos(x+y)))\n",
    "print(expand(cos(x+y), trig=True))"
   ]
  },
  {
   "cell_type": "markdown",
   "metadata": {},
   "source": [
    "La función expand() regresa la expansión algebraica del polinomio introducido como argumento. La opción trig=True indica que se usen identidades trigonométricas para la expansión"
   ]
  },
  {
   "cell_type": "code",
   "execution_count": 9,
   "metadata": {},
   "outputs": [
    {
     "data": {
      "text/latex": [
       "$\\displaystyle - \\sin{\\left(x \\right)} \\sin{\\left(y \\right)} + \\cos{\\left(x \\right)} \\cos{\\left(y \\right)}$"
      ],
      "text/plain": [
       "-sin(x)*sin(y) + cos(x)*cos(y)"
      ]
     },
     "execution_count": 9,
     "metadata": {},
     "output_type": "execute_result"
    }
   ],
   "source": [
    "expand(cos(x+y), trig=True)"
   ]
  },
  {
   "cell_type": "markdown",
   "metadata": {},
   "source": [
    "Si por el contrario de expandir, se desea simplificar, se utilizará la función simplify"
   ]
  },
  {
   "cell_type": "code",
   "execution_count": 10,
   "metadata": {},
   "outputs": [
    {
     "data": {
      "text/latex": [
       "$\\displaystyle y + 1$"
      ],
      "text/plain": [
       "y + 1"
      ]
     },
     "execution_count": 10,
     "metadata": {},
     "output_type": "execute_result"
    }
   ],
   "source": [
    "simplify((x+x*y)/x)"
   ]
  },
  {
   "cell_type": "markdown",
   "metadata": {},
   "source": [
    "La simplificación es muy general, pero si queremos ser más específicos  y que la simplificación se haga de una forma en particular , se pueden usar alternativas más precisas que simplify: powsimp (simplificación de exponentes), trigsimp (para expresiones trigonométricas) , logcombine, radsimp y together."
   ]
  },
  {
   "cell_type": "code",
   "execution_count": 11,
   "metadata": {},
   "outputs": [
    {
     "data": {
      "text/latex": [
       "$\\displaystyle \\tan{\\left(x \\right)}$"
      ],
      "text/plain": [
       "tan(x)"
      ]
     },
     "execution_count": 11,
     "metadata": {},
     "output_type": "execute_result"
    }
   ],
   "source": [
    "trigsimp(sin(x)/cos(x))"
   ]
  },
  {
   "cell_type": "markdown",
   "metadata": {},
   "source": [
    "También SymPy tiene la opción para resolver ecuaciones algebraicas, como sería $x^2-2=0$"
   ]
  },
  {
   "cell_type": "code",
   "execution_count": 44,
   "metadata": {},
   "outputs": [
    {
     "data": {
      "image/png": "[encoded data removed]",
      "text/latex": [
       "$\\displaystyle \\left[ \\sqrt[3]{3} \\cos{\\left(\\frac{\\pi}{9} \\right)} + \\sqrt[3]{3} i \\sin{\\left(\\frac{\\pi}{9} \\right)}, \\  - \\sqrt[3]{3} \\cos^{2}{\\left(\\frac{\\pi}{9} \\right)} - \\sqrt[3]{3} \\sin^{2}{\\left(\\frac{\\pi}{9} \\right)}, \\  - \\sqrt[3]{3} \\cos^{2}{\\left(\\frac{\\pi}{9} \\right)} + \\sqrt[3]{3} \\sin^{2}{\\left(\\frac{\\pi}{9} \\right)} - 2 \\sqrt[3]{3} i \\sin{\\left(\\frac{\\pi}{9} \\right)} \\cos{\\left(\\frac{\\pi}{9} \\right)}, \\  - \\frac{\\sqrt[3]{3} \\cos{\\left(\\frac{\\pi}{9} \\right)}}{2} - \\frac{3^{\\frac{5}{6}} \\sin{\\left(\\frac{\\pi}{9} \\right)}}{2} - \\frac{\\sqrt[3]{3} i \\sin{\\left(\\frac{\\pi}{9} \\right)}}{2} + \\frac{3^{\\frac{5}{6}} i \\cos{\\left(\\frac{\\pi}{9} \\right)}}{2}, \\  - \\frac{\\sqrt[3]{3} \\cos{\\left(\\frac{\\pi}{9} \\right)}}{2} + \\frac{3^{\\frac{5}{6}} \\sin{\\left(\\frac{\\pi}{9} \\right)}}{2} - \\frac{3^{\\frac{5}{6}} i \\cos{\\left(\\frac{\\pi}{9} \\right)}}{2} - \\frac{\\sqrt[3]{3} i \\sin{\\left(\\frac{\\pi}{9} \\right)}}{2}, \\  - \\sqrt[3]{3} \\sin{\\left(\\frac{\\pi}{9} \\right)} \\sin{\\left(\\frac{2 \\pi}{9} \\right)} + \\sqrt[3]{3} \\cos{\\left(\\frac{\\pi}{9} \\right)} \\cos{\\left(\\frac{2 \\pi}{9} \\right)} + \\sqrt[3]{3} i \\sin{\\left(\\frac{\\pi}{9} \\right)} \\cos{\\left(\\frac{2 \\pi}{9} \\right)} + \\sqrt[3]{3} i \\sin{\\left(\\frac{2 \\pi}{9} \\right)} \\cos{\\left(\\frac{\\pi}{9} \\right)}, \\  \\sqrt[3]{3} \\sin{\\left(\\frac{\\pi}{9} \\right)} \\sin{\\left(\\frac{2 \\pi}{9} \\right)} + \\sqrt[3]{3} \\cos{\\left(\\frac{\\pi}{9} \\right)} \\cos{\\left(\\frac{2 \\pi}{9} \\right)} - \\sqrt[3]{3} i \\sin{\\left(\\frac{2 \\pi}{9} \\right)} \\cos{\\left(\\frac{\\pi}{9} \\right)} + \\sqrt[3]{3} i \\sin{\\left(\\frac{\\pi}{9} \\right)} \\cos{\\left(\\frac{2 \\pi}{9} \\right)}, \\  - \\sqrt[3]{3} \\sin{\\left(\\frac{\\pi}{9} \\right)} \\sin{\\left(\\frac{4 \\pi}{9} \\right)} + \\sqrt[3]{3} \\cos{\\left(\\frac{\\pi}{9} \\right)} \\cos{\\left(\\frac{4 \\pi}{9} \\right)} + \\sqrt[3]{3} i \\sin{\\left(\\frac{\\pi}{9} \\right)} \\cos{\\left(\\frac{4 \\pi}{9} \\right)} + \\sqrt[3]{3} i \\sin{\\left(\\frac{4 \\pi}{9} \\right)} \\cos{\\left(\\frac{\\pi}{9} \\right)}, \\  \\sqrt[3]{3} \\cos{\\left(\\frac{\\pi}{9} \\right)} \\cos{\\left(\\frac{4 \\pi}{9} \\right)} + \\sqrt[3]{3} \\sin{\\left(\\frac{\\pi}{9} \\right)} \\sin{\\left(\\frac{4 \\pi}{9} \\right)} - \\sqrt[3]{3} i \\sin{\\left(\\frac{4 \\pi}{9} \\right)} \\cos{\\left(\\frac{\\pi}{9} \\right)} + \\sqrt[3]{3} i \\sin{\\left(\\frac{\\pi}{9} \\right)} \\cos{\\left(\\frac{4 \\pi}{9} \\right)}\\right]$"
      ],
      "text/plain": [
       "⎡                                                                             \n",
       "⎢                                                                             \n",
       "⎢3 ___    ⎛π⎞   3 ___      ⎛π⎞    3 ___    2⎛π⎞   3 ___    2⎛π⎞    3 ___    2⎛\n",
       "⎢╲╱ 3 ⋅cos⎜─⎟ + ╲╱ 3 ⋅ⅈ⋅sin⎜─⎟, - ╲╱ 3 ⋅cos ⎜─⎟ - ╲╱ 3 ⋅sin ⎜─⎟, - ╲╱ 3 ⋅cos ⎜\n",
       "⎣         ⎝9⎠              ⎝9⎠              ⎝9⎠             ⎝9⎠              ⎝\n",
       "\n",
       "                                                3 ___    ⎛π⎞    5/6    ⎛π⎞   3\n",
       "                                                ╲╱ 3 ⋅cos⎜─⎟   3   ⋅sin⎜─⎟   ╲\n",
       "π⎞   3 ___    2⎛π⎞     3 ___      ⎛π⎞    ⎛π⎞             ⎝9⎠           ⎝9⎠    \n",
       "─⎟ + ╲╱ 3 ⋅sin ⎜─⎟ - 2⋅╲╱ 3 ⋅ⅈ⋅sin⎜─⎟⋅cos⎜─⎟, - ──────────── - ─────────── - ─\n",
       "9⎠             ⎝9⎠                ⎝9⎠    ⎝9⎠         2              2         \n",
       "\n",
       " ___      ⎛π⎞    5/6      ⎛π⎞    3 ___    ⎛π⎞    5/6    ⎛π⎞    5/6      ⎛π⎞   \n",
       "╱ 3 ⋅ⅈ⋅sin⎜─⎟   3   ⋅ⅈ⋅cos⎜─⎟    ╲╱ 3 ⋅cos⎜─⎟   3   ⋅sin⎜─⎟   3   ⋅ⅈ⋅cos⎜─⎟   \n",
       "          ⎝9⎠             ⎝9⎠             ⎝9⎠           ⎝9⎠             ⎝9⎠   \n",
       "───────────── + ─────────────, - ──────────── + ─────────── - ───────────── - \n",
       "     2                2               2              2              2         \n",
       "\n",
       "3 ___      ⎛π⎞                                                                \n",
       "╲╱ 3 ⋅ⅈ⋅sin⎜─⎟                                                                \n",
       "           ⎝9⎠    3 ___    ⎛π⎞    ⎛2⋅π⎞   3 ___    ⎛π⎞    ⎛2⋅π⎞   3 ___      ⎛\n",
       "──────────────, - ╲╱ 3 ⋅sin⎜─⎟⋅sin⎜───⎟ + ╲╱ 3 ⋅cos⎜─⎟⋅cos⎜───⎟ + ╲╱ 3 ⋅ⅈ⋅sin⎜\n",
       "      2                    ⎝9⎠    ⎝ 9 ⎠            ⎝9⎠    ⎝ 9 ⎠              ⎝\n",
       "\n",
       "                                                                              \n",
       "                                                                              \n",
       "π⎞    ⎛2⋅π⎞   3 ___      ⎛2⋅π⎞    ⎛π⎞  3 ___    ⎛π⎞    ⎛2⋅π⎞   3 ___    ⎛π⎞   \n",
       "─⎟⋅cos⎜───⎟ + ╲╱ 3 ⋅ⅈ⋅sin⎜───⎟⋅cos⎜─⎟, ╲╱ 3 ⋅sin⎜─⎟⋅sin⎜───⎟ + ╲╱ 3 ⋅cos⎜─⎟⋅co\n",
       "9⎠    ⎝ 9 ⎠              ⎝ 9 ⎠    ⎝9⎠           ⎝9⎠    ⎝ 9 ⎠            ⎝9⎠   \n",
       "\n",
       "                                                                              \n",
       "                                                                              \n",
       " ⎛2⋅π⎞   3 ___      ⎛2⋅π⎞    ⎛π⎞   3 ___      ⎛π⎞    ⎛2⋅π⎞    3 ___    ⎛π⎞    \n",
       "s⎜───⎟ - ╲╱ 3 ⋅ⅈ⋅sin⎜───⎟⋅cos⎜─⎟ + ╲╱ 3 ⋅ⅈ⋅sin⎜─⎟⋅cos⎜───⎟, - ╲╱ 3 ⋅sin⎜─⎟⋅sin\n",
       " ⎝ 9 ⎠              ⎝ 9 ⎠    ⎝9⎠              ⎝9⎠    ⎝ 9 ⎠             ⎝9⎠    \n",
       "\n",
       "                                                                              \n",
       "                                                                              \n",
       "⎛4⋅π⎞   3 ___    ⎛π⎞    ⎛4⋅π⎞   3 ___      ⎛π⎞    ⎛4⋅π⎞   3 ___      ⎛4⋅π⎞    \n",
       "⎜───⎟ + ╲╱ 3 ⋅cos⎜─⎟⋅cos⎜───⎟ + ╲╱ 3 ⋅ⅈ⋅sin⎜─⎟⋅cos⎜───⎟ + ╲╱ 3 ⋅ⅈ⋅sin⎜───⎟⋅cos\n",
       "⎝ 9 ⎠            ⎝9⎠    ⎝ 9 ⎠              ⎝9⎠    ⎝ 9 ⎠              ⎝ 9 ⎠    \n",
       "\n",
       "                                                                              \n",
       "                                                                              \n",
       "⎛π⎞  3 ___    ⎛π⎞    ⎛4⋅π⎞   3 ___    ⎛π⎞    ⎛4⋅π⎞   3 ___      ⎛4⋅π⎞    ⎛π⎞  \n",
       "⎜─⎟, ╲╱ 3 ⋅cos⎜─⎟⋅cos⎜───⎟ + ╲╱ 3 ⋅sin⎜─⎟⋅sin⎜───⎟ - ╲╱ 3 ⋅ⅈ⋅sin⎜───⎟⋅cos⎜─⎟ +\n",
       "⎝9⎠           ⎝9⎠    ⎝ 9 ⎠            ⎝9⎠    ⎝ 9 ⎠              ⎝ 9 ⎠    ⎝9⎠  \n",
       "\n",
       "                        ⎤\n",
       "                        ⎥\n",
       " 3 ___      ⎛π⎞    ⎛4⋅π⎞⎥\n",
       " ╲╱ 3 ⋅ⅈ⋅sin⎜─⎟⋅cos⎜───⎟⎥\n",
       "            ⎝9⎠    ⎝ 9 ⎠⎦"
      ]
     },
     "execution_count": 44,
     "metadata": {},
     "output_type": "execute_result"
    }
   ],
   "source": [
    "solve(x**9 + 20 +7,x)"
   ]
  },
  {
   "cell_type": "markdown",
   "metadata": {},
   "source": [
    "Con esto podemos resolver simbólicamente la tarea y comparar con las soluciones numéricas"
   ]
  },
  {
   "cell_type": "code",
   "execution_count": 13,
   "metadata": {},
   "outputs": [
    {
     "data": {
      "text/plain": [
       "[-3, 1/2]"
      ]
     },
     "execution_count": 13,
     "metadata": {},
     "output_type": "execute_result"
    }
   ],
   "source": [
    "solve(2*x**2+5*x-3,x)"
   ]
  },
  {
   "cell_type": "code",
   "execution_count": 14,
   "metadata": {},
   "outputs": [
    {
     "data": {
      "text/plain": [
       "[pi]"
      ]
     },
     "execution_count": 14,
     "metadata": {},
     "output_type": "execute_result"
    }
   ],
   "source": [
    "solve(sin(x)/x)  # 0 es excluido"
   ]
  },
  {
   "cell_type": "code",
   "execution_count": 15,
   "metadata": {},
   "outputs": [
    {
     "data": {
      "text/plain": [
       "[0, pi]"
      ]
     },
     "execution_count": 15,
     "metadata": {},
     "output_type": "execute_result"
    }
   ],
   "source": [
    "solve(sin(x)/x, check=False)"
   ]
  },
  {
   "cell_type": "code",
   "execution_count": 16,
   "metadata": {},
   "outputs": [
    {
     "data": {
      "text/plain": [
       "[pi/2, 3*pi/2]"
      ]
     },
     "execution_count": 16,
     "metadata": {},
     "output_type": "execute_result"
    }
   ],
   "source": [
    "solve(cos(x),x)"
   ]
  },
  {
   "cell_type": "code",
   "execution_count": 17,
   "metadata": {},
   "outputs": [
    {
     "data": {
      "text/plain": [
       "[7 - 3*sqrt(11), 7 + 3*sqrt(11)]"
      ]
     },
     "execution_count": 17,
     "metadata": {},
     "output_type": "execute_result"
    }
   ],
   "source": [
    "solve(x**2-14*x-50,x)"
   ]
  },
  {
   "cell_type": "code",
   "execution_count": 18,
   "metadata": {},
   "outputs": [
    {
     "data": {
      "text/plain": [
       "[-9]"
      ]
     },
     "execution_count": 18,
     "metadata": {},
     "output_type": "execute_result"
    }
   ],
   "source": [
    "solve(x**1/3+3,x)"
   ]
  },
  {
   "cell_type": "code",
   "execution_count": 19,
   "metadata": {},
   "outputs": [
    {
     "ename": "NotImplementedError",
     "evalue": "multiple generators [x, tan(x)]\nNo algorithms are implemented to solve equation -x + tan(x)",
     "output_type": "error",
     "traceback": [
      "\u001b[1;31m---------------------------------------------------------------------------\u001b[0m",
      "\u001b[1;31mNotImplementedError\u001b[0m                       Traceback (most recent call last)",
      "\u001b[1;32m<ipython-input-19-d64913282c9d>\u001b[0m in \u001b[0;36m<module>\u001b[1;34m\u001b[0m\n\u001b[1;32m----> 1\u001b[1;33m \u001b[0msolve\u001b[0m\u001b[1;33m(\u001b[0m\u001b[0mtan\u001b[0m\u001b[1;33m(\u001b[0m\u001b[0mx\u001b[0m\u001b[1;33m)\u001b[0m \u001b[1;33m-\u001b[0m \u001b[0mx\u001b[0m\u001b[1;33m,\u001b[0m \u001b[0mx\u001b[0m\u001b[1;33m)\u001b[0m\u001b[1;33m\u001b[0m\u001b[1;33m\u001b[0m\u001b[0m\n\u001b[0m",
      "\u001b[1;32mC:\\ProgramData\\Anaconda3\\lib\\site-packages\\sympy\\solvers\\solvers.py\u001b[0m in \u001b[0;36msolve\u001b[1;34m(f, *symbols, **flags)\u001b[0m\n\u001b[0;32m   1092\u001b[0m     \u001b[1;31m###########################################################################\u001b[0m\u001b[1;33m\u001b[0m\u001b[1;33m\u001b[0m\u001b[1;33m\u001b[0m\u001b[0m\n\u001b[0;32m   1093\u001b[0m     \u001b[1;32mif\u001b[0m \u001b[0mbare_f\u001b[0m\u001b[1;33m:\u001b[0m\u001b[1;33m\u001b[0m\u001b[1;33m\u001b[0m\u001b[0m\n\u001b[1;32m-> 1094\u001b[1;33m         \u001b[0msolution\u001b[0m \u001b[1;33m=\u001b[0m \u001b[0m_solve\u001b[0m\u001b[1;33m(\u001b[0m\u001b[0mf\u001b[0m\u001b[1;33m[\u001b[0m\u001b[1;36m0\u001b[0m\u001b[1;33m]\u001b[0m\u001b[1;33m,\u001b[0m \u001b[1;33m*\u001b[0m\u001b[0msymbols\u001b[0m\u001b[1;33m,\u001b[0m \u001b[1;33m**\u001b[0m\u001b[0mflags\u001b[0m\u001b[1;33m)\u001b[0m\u001b[1;33m\u001b[0m\u001b[1;33m\u001b[0m\u001b[0m\n\u001b[0m\u001b[0;32m   1095\u001b[0m     \u001b[1;32melse\u001b[0m\u001b[1;33m:\u001b[0m\u001b[1;33m\u001b[0m\u001b[1;33m\u001b[0m\u001b[0m\n\u001b[0;32m   1096\u001b[0m         \u001b[0msolution\u001b[0m \u001b[1;33m=\u001b[0m \u001b[0m_solve_system\u001b[0m\u001b[1;33m(\u001b[0m\u001b[0mf\u001b[0m\u001b[1;33m,\u001b[0m \u001b[0msymbols\u001b[0m\u001b[1;33m,\u001b[0m \u001b[1;33m**\u001b[0m\u001b[0mflags\u001b[0m\u001b[1;33m)\u001b[0m\u001b[1;33m\u001b[0m\u001b[1;33m\u001b[0m\u001b[0m\n",
      "\u001b[1;32mC:\\ProgramData\\Anaconda3\\lib\\site-packages\\sympy\\solvers\\solvers.py\u001b[0m in \u001b[0;36m_solve\u001b[1;34m(f, *symbols, **flags)\u001b[0m\n\u001b[0;32m   1692\u001b[0m \u001b[1;33m\u001b[0m\u001b[0m\n\u001b[0;32m   1693\u001b[0m     \u001b[1;32mif\u001b[0m \u001b[0mresult\u001b[0m \u001b[1;32mis\u001b[0m \u001b[1;32mFalse\u001b[0m\u001b[1;33m:\u001b[0m\u001b[1;33m\u001b[0m\u001b[1;33m\u001b[0m\u001b[0m\n\u001b[1;32m-> 1694\u001b[1;33m         \u001b[1;32mraise\u001b[0m \u001b[0mNotImplementedError\u001b[0m\u001b[1;33m(\u001b[0m\u001b[1;34m'\\n'\u001b[0m\u001b[1;33m.\u001b[0m\u001b[0mjoin\u001b[0m\u001b[1;33m(\u001b[0m\u001b[1;33m[\u001b[0m\u001b[0mmsg\u001b[0m\u001b[1;33m,\u001b[0m \u001b[0mnot_impl_msg\u001b[0m \u001b[1;33m%\u001b[0m \u001b[0mf\u001b[0m\u001b[1;33m]\u001b[0m\u001b[1;33m)\u001b[0m\u001b[1;33m)\u001b[0m\u001b[1;33m\u001b[0m\u001b[1;33m\u001b[0m\u001b[0m\n\u001b[0m\u001b[0;32m   1695\u001b[0m \u001b[1;33m\u001b[0m\u001b[0m\n\u001b[0;32m   1696\u001b[0m     \u001b[1;32mif\u001b[0m \u001b[0mflags\u001b[0m\u001b[1;33m.\u001b[0m\u001b[0mget\u001b[0m\u001b[1;33m(\u001b[0m\u001b[1;34m'simplify'\u001b[0m\u001b[1;33m,\u001b[0m \u001b[1;32mTrue\u001b[0m\u001b[1;33m)\u001b[0m\u001b[1;33m:\u001b[0m\u001b[1;33m\u001b[0m\u001b[1;33m\u001b[0m\u001b[0m\n",
      "\u001b[1;31mNotImplementedError\u001b[0m: multiple generators [x, tan(x)]\nNo algorithms are implemented to solve equation -x + tan(x)"
     ]
    }
   ],
   "source": [
    "solve(tan(x) - x, x)"
   ]
  },
  {
   "cell_type": "code",
   "execution_count": 20,
   "metadata": {},
   "outputs": [
    {
     "data": {
      "text/latex": [
       "$\\displaystyle 0.000348227174421857$"
      ],
      "text/plain": [
       "0.000348227174421857"
      ]
     },
     "execution_count": 20,
     "metadata": {},
     "output_type": "execute_result"
    }
   ],
   "source": [
    "nsolve(tan(x) - x, x, 1)"
   ]
  },
  {
   "cell_type": "markdown",
   "metadata": {},
   "source": [
    "from pylab import *\n",
    "t=arange(-3*pi,3*pi,0.01)\n",
    "#f=lambda t: (tan(t)-t)\n",
    "def f(t):\n",
    "    return tan(t)-t\n",
    "plot(t,f(t))\n",
    "ylim(-10,10)\n",
    "axhline(y = 0, color = 'r', linestyle = '--')"
   ]
  },
  {
   "cell_type": "markdown",
   "metadata": {},
   "source": [
    "El poder real de un sistema de cálculo simbólico como SymPy es la capacidad de hacer todo tipo de cálculos simbólicamente. SymPy puede simplificar expresiones, calcular derivadas, integrales y límites, resolver ecuaciones, trabajar con matrices y mucho, mucho más, y hacerlo todo simbólicamente. Incluye módulos para gráfica, imprimir en LaTeX, generación de código, física, estadística, combinatoria, teoría de números, geometría, lógica y más."
   ]
  },
  {
   "cell_type": "markdown",
   "metadata": {},
   "source": [
    "Posiblemente el lector no esté totalmente familiarizado con los ejemplos que se verán a continuación ya que son tópicos avanzados. Sin embargo, creo que es importante que el lector haga estos ejercicios antes de adentrarse a los temas ya que le ayudarán a tener la comprobación computacional de cualquier ejercicio que pudiera llegar a hacer."
   ]
  },
  {
   "cell_type": "markdown",
   "metadata": {},
   "source": [
    "Los límites son fáciles de usar en SymPy con la sintaxis limit(función, variable, punto). Para calcular el límite de $f(x)$ como $x\\rightarrow0$, deberías usar la siguiente expresión limit(f, x, 0)"
   ]
  },
  {
   "cell_type": "code",
   "execution_count": 47,
   "metadata": {},
   "outputs": [
    {
     "name": "stdout",
     "output_type": "stream",
     "text": [
      "1\n",
      "1\n",
      "oo\n",
      "0\n"
     ]
    }
   ],
   "source": [
    "from sympy import *\n",
    "x=Symbol('x')\n",
    "\n",
    "print(limit(sin(x)/x,x,0))\n",
    "print(limit(x**x,x,0))\n",
    "print(limit(x, x, oo))\n",
    "print(limit(1/x**2, x, oo))"
   ]
  },
  {
   "cell_type": "markdown",
   "metadata": {},
   "source": [
    "La derivación de cualquier expresión usa la función diff(func,var), por ejemplo"
   ]
  },
  {
   "cell_type": "code",
   "execution_count": 48,
   "metadata": {},
   "outputs": [
    {
     "data": {
      "image/png": "[encoded data removed]",
      "text/latex": [
       "$\\displaystyle \\cos{\\left(x \\right)}$"
      ],
      "text/plain": [
       "cos(x)"
      ]
     },
     "execution_count": 48,
     "metadata": {},
     "output_type": "execute_result"
    }
   ],
   "source": [
    "diff(sin(x), x)"
   ]
  },
  {
   "cell_type": "code",
   "execution_count": 49,
   "metadata": {},
   "outputs": [
    {
     "data": {
      "image/png": "[encoded data removed]",
      "text/latex": [
       "$\\displaystyle 2 \\cos{\\left(2 x \\right)}$"
      ],
      "text/plain": [
       "2⋅cos(2⋅x)"
      ]
     },
     "execution_count": 49,
     "metadata": {},
     "output_type": "execute_result"
    }
   ],
   "source": [
    "diff(sin(2*x), x)"
   ]
  },
  {
   "cell_type": "code",
   "execution_count": 52,
   "metadata": {},
   "outputs": [
    {
     "data": {
      "image/png": "[encoded data removed]",
      "text/latex": [
       "$\\displaystyle 4 x^{3} \\sin^{2}{\\left(\\frac{1}{x} \\right)} - 2 x^{2} \\sin{\\left(\\frac{1}{x} \\right)} \\cos{\\left(\\frac{1}{x} \\right)}$"
      ],
      "text/plain": [
       "   3    2⎛1⎞      2    ⎛1⎞    ⎛1⎞\n",
       "4⋅x ⋅sin ⎜─⎟ - 2⋅x ⋅sin⎜─⎟⋅cos⎜─⎟\n",
       "         ⎝x⎠           ⎝x⎠    ⎝x⎠"
      ]
     },
     "execution_count": 52,
     "metadata": {},
     "output_type": "execute_result"
    }
   ],
   "source": [
    "diff((x**2*sin(1/x))**2,x)"
   ]
  },
  {
   "cell_type": "markdown",
   "metadata": {},
   "source": [
    "Para comprobar que tan correcto es la derivación que presenta simpy. Haremos una derivada con la función diff y otra con la definición de derivada\n",
    "\n",
    "$$\n",
    "f'(x)=\\lim_{y\\rightarrow 0} \\frac{f(x+y)-f(x)}{y}\n",
    "$$"
   ]
  },
  {
   "cell_type": "code",
   "execution_count": 53,
   "metadata": {},
   "outputs": [
    {
     "name": "stdout",
     "output_type": "stream",
     "text": [
      "usando la funcion diff tan(x)**2 + 1\n",
      "usando la definición tan(x)**2 + 1\n"
     ]
    }
   ],
   "source": [
    "print('usando la funcion diff',diff(tan(x), x))\n",
    "print('usando la definición',limit((tan(x+y)-tan(x))/y, y, 0))"
   ]
  },
  {
   "cell_type": "code",
   "execution_count": null,
   "metadata": {},
   "outputs": [],
   "source": [
    "#definir diferencia total"
   ]
  },
  {
   "cell_type": "markdown",
   "metadata": {},
   "source": [
    "La función diff() también permite tener derivadas de orden superior, $n$, usando la sintaxis diff(func, var, n). Por ejemplo,"
   ]
  },
  {
   "cell_type": "code",
   "execution_count": 54,
   "metadata": {},
   "outputs": [
    {
     "name": "stdout",
     "output_type": "stream",
     "text": [
      "2*cos(2*x)\n",
      "-4*sin(2*x)\n",
      "512*cos(2*x)\n"
     ]
    }
   ],
   "source": [
    "print(diff(sin(2*x), x, 1)) #orden 1\n",
    "print(diff(sin(2*x), x, 2)) #orden 2\n",
    "print(diff(sin(2*x), x, 9)) #orden 3"
   ]
  },
  {
   "cell_type": "markdown",
   "metadata": {},
   "source": [
    "Si se utiliza un Jupyter Notebook se puede modificar la visualización de salida de la respuesta del intérprete. Para esto, se usa la opción init_printing(use_unicode=True)"
   ]
  },
  {
   "cell_type": "code",
   "execution_count": 55,
   "metadata": {},
   "outputs": [
    {
     "data": {
      "image/png": "[encoded data removed]",
      "text/latex": [
       "$\\displaystyle e^{x} \\sin{\\left(x \\right)} + e^{x} \\cos{\\left(x \\right)}$"
      ],
      "text/plain": [
       " x           x       \n",
       "ℯ ⋅sin(x) + ℯ ⋅cos(x)"
      ]
     },
     "execution_count": 55,
     "metadata": {},
     "output_type": "execute_result"
    }
   ],
   "source": [
    "from sympy import *\n",
    "x, t, z, nu = symbols('x t z nu')\n",
    "init_printing(use_unicode=True)\n",
    "diff(sin(x)*exp(x), x)"
   ]
  },
  {
   "cell_type": "markdown",
   "metadata": {},
   "source": [
    "Así mismo, se pueden obtener expansiones de Series de Taylor. Las series de Taylor tienen la siguiente forma:\n",
    "\n",
    "$$ \n",
    "f(x)=\\sum_{n=0}^{\\infty} \\frac{f^{n}(x)}{n!}(x-a)^n\n",
    "$$\n",
    "\n",
    "Por ejemplo, la serie de Taylor de la función $\\cos(x)$ es:\n",
    "\n",
    "$$\n",
    "\\cos(x)=1-\\frac{x^2}{2!}+\\frac{x^4}{4!}-\\frac{x^6}{6!}+\\frac{x^8}{8!}-\\cdots\n",
    "$$\n",
    "\n",
    "o la serie de Taylor de la función $\\exp(x)$ es:\n",
    "\n",
    "$$\n",
    "\\exp(x)=1+\\frac{x}{1!}+\\frac{x^2}{2!}+\\frac{x^3}{3!}+\\frac{x^4}{4!}-\\cdots\n",
    "$$\n",
    "\n",
    "La librería sympy las calcula de la siguiente forma:"
   ]
  },
  {
   "cell_type": "code",
   "execution_count": 56,
   "metadata": {},
   "outputs": [
    {
     "name": "stdout",
     "output_type": "stream",
     "text": [
      "1 - x**2/2 + x**4/24 + O(x**6)\n",
      "1 + x + x**2/2 + x**3/6 + x**4/24 + x**5/120 + O(x**6)\n"
     ]
    }
   ],
   "source": [
    "print(series(cos(x), x))\n",
    "print(series(exp(x), x))"
   ]
  },
  {
   "cell_type": "markdown",
   "metadata": {},
   "source": [
    "SymPy permite obtener integrales indefinidas o definidas de funciones especiales o de funciones transcendentes elementales. Las función que utiliza para esta tarea es integrate(), que usa una extensión del algoritmo Risch-Norman y reconocimiento de patrones. Un ejemplo básico será la integral indefinida de \n",
    "$$\n",
    "\\int \\frac{1}{x}dx\n",
    "$$"
   ]
  },
  {
   "cell_type": "code",
   "execution_count": 57,
   "metadata": {},
   "outputs": [
    {
     "data": {
      "image/png": "[encoded data removed]",
      "text/latex": [
       "$\\displaystyle \\log{\\left(x \\right)}$"
      ],
      "text/plain": [
       "log(x)"
      ]
     },
     "execution_count": 57,
     "metadata": {},
     "output_type": "execute_result"
    }
   ],
   "source": [
    "integrate(1/x,x)"
   ]
  },
  {
   "cell_type": "code",
   "execution_count": 58,
   "metadata": {},
   "outputs": [
    {
     "data": {
      "image/png": "[encoded data removed]",
      "text/latex": [
       "$\\displaystyle e^{x} \\sin{\\left(x \\right)}$"
      ],
      "text/plain": [
       " x       \n",
       "ℯ ⋅sin(x)"
      ]
     },
     "execution_count": 58,
     "metadata": {},
     "output_type": "execute_result"
    }
   ],
   "source": [
    "integrate(exp(x)*sin(x) + exp(x)*cos(x), x)"
   ]
  },
  {
   "cell_type": "markdown",
   "metadata": {},
   "source": [
    "Otro ejemplo de una integral definida de $-\\infty$ a $\\infty$"
   ]
  },
  {
   "cell_type": "code",
   "execution_count": 59,
   "metadata": {},
   "outputs": [
    {
     "data": {
      "image/png": "[encoded data removed]",
      "text/latex": [
       "$\\displaystyle \\frac{\\sqrt{2} \\sqrt{\\pi}}{2}$"
      ],
      "text/plain": [
       "√2⋅√π\n",
       "─────\n",
       "  2  "
      ]
     },
     "execution_count": 59,
     "metadata": {},
     "output_type": "execute_result"
    }
   ],
   "source": [
    "integrate(sin(x**2), (x, -oo, oo))"
   ]
  },
  {
   "cell_type": "markdown",
   "metadata": {},
   "source": [
    "Sympy tiene su propio tipo de variable asignado a matriz, con él se pueden definir matrices numéricas o simbólicas y operar con ellas:"
   ]
  },
  {
   "cell_type": "code",
   "execution_count": null,
   "metadata": {},
   "outputs": [],
   "source": [
    "Matrix([[1,0], [0,1]])"
   ]
  },
  {
   "cell_type": "markdown",
   "metadata": {},
   "source": [
    "A diferencia de un  array o matrix de NumPy, en una matriz de Sympy se pueden incluir también símbolos"
   ]
  },
  {
   "cell_type": "code",
   "execution_count": 29,
   "metadata": {},
   "outputs": [
    {
     "name": "stdout",
     "output_type": "stream",
     "text": [
      "Matrix([[1, x], [y, 1]])\n",
      "Matrix([[x*y + 1, 2*x], [2*y, x*y + 1]])\n"
     ]
    }
   ],
   "source": [
    "x = Symbol('x')\n",
    "y = Symbol('y')\n",
    "A = Matrix([[1,x], [y,1]])\n",
    "print(A)\n",
    "print(A**2)"
   ]
  },
  {
   "cell_type": "markdown",
   "metadata": {},
   "source": [
    "Muchas de las funciones anteriores ya existen en Numpy con el mismo nombre (ones(), eye(), etc.) son redefinidas en SymPy con el mismo nombre, por lo que es recomendable importar los módulos como \\texttt{import numpy as np} para ir indicando de que módulo es la función en cuestión. Por ejemplo:"
   ]
  },
  {
   "cell_type": "code",
   "execution_count": 30,
   "metadata": {},
   "outputs": [
    {
     "name": "stdout",
     "output_type": "stream",
     "text": [
      "Identidad en SymPy Matrix([[1, 0, 0], [0, 1, 0], [0, 0, 1]])\n",
      "Identidad en NumPy [[1. 0. 0.]\n",
      " [0. 1. 0.]\n",
      " [0. 0. 1.]]\n"
     ]
    }
   ],
   "source": [
    "import numpy as np\n",
    "import sympy as sp\n",
    "print('Identidad en SymPy',sp.eye(3))\n",
    "print('Identidad en NumPy',np.eye(3))"
   ]
  },
  {
   "cell_type": "markdown",
   "metadata": {},
   "source": [
    "Notase la diferencia, en SymPy se guardado como un objeto tipo $\\texttt{Matrix}$, mientras que en NumPy se despliega como un arreglo. Sin embargo, a pesar de las diferencias, es posible operar entre ellas, salvo que las matrices de Numpy no pueden tener una conversión simbólicamente. La selección de elementos de matrices de Sympy se hace de forma idéntica a los arrays o matrix de Numpy:"
   ]
  },
  {
   "cell_type": "code",
   "execution_count": 28,
   "metadata": {},
   "outputs": [
    {
     "ename": "NameError",
     "evalue": "name 'sp' is not defined",
     "output_type": "error",
     "traceback": [
      "\u001b[1;31m---------------------------------------------------------------------------\u001b[0m",
      "\u001b[1;31mNameError\u001b[0m                                 Traceback (most recent call last)",
      "\u001b[1;32m<ipython-input-28-342e9a1bdb7a>\u001b[0m in \u001b[0;36m<module>\u001b[1;34m\u001b[0m\n\u001b[0;32m      1\u001b[0m \u001b[1;31m# Multiplico la matriz identidad por x\u001b[0m\u001b[1;33m\u001b[0m\u001b[1;33m\u001b[0m\u001b[1;33m\u001b[0m\u001b[0m\n\u001b[1;32m----> 2\u001b[1;33m \u001b[0mx\u001b[0m \u001b[1;33m=\u001b[0m \u001b[0msp\u001b[0m\u001b[1;33m.\u001b[0m\u001b[0mSymbol\u001b[0m\u001b[1;33m(\u001b[0m\u001b[1;34m'x'\u001b[0m\u001b[1;33m)\u001b[0m\u001b[1;33m\u001b[0m\u001b[1;33m\u001b[0m\u001b[0m\n\u001b[0m\u001b[0;32m      3\u001b[0m \u001b[0mM\u001b[0m \u001b[1;33m=\u001b[0m \u001b[0msp\u001b[0m\u001b[1;33m.\u001b[0m\u001b[0meye\u001b[0m\u001b[1;33m(\u001b[0m\u001b[1;36m3\u001b[0m\u001b[1;33m)\u001b[0m \u001b[1;33m*\u001b[0m \u001b[0mx\u001b[0m\u001b[1;33m\u001b[0m\u001b[1;33m\u001b[0m\u001b[0m\n\u001b[0;32m      4\u001b[0m \u001b[0mM\u001b[0m\u001b[1;33m\u001b[0m\u001b[1;33m\u001b[0m\u001b[0m\n",
      "\u001b[1;31mNameError\u001b[0m: name 'sp' is not defined"
     ]
    }
   ],
   "source": [
    "# Multiplico la matriz identidad por x\n",
    "x = sp.Symbol('x')\n",
    "M = sp.eye(3) * x\n",
    "M"
   ]
  },
  {
   "cell_type": "markdown",
   "metadata": {},
   "source": [
    "Podemos hacer sustituciones de variables por otras, e.g., sustituir la variable $x$ por $y$"
   ]
  },
  {
   "cell_type": "code",
   "execution_count": null,
   "metadata": {},
   "outputs": [],
   "source": [
    "y = sp.Symbol('y')\n",
    "M.subs(x, y)"
   ]
  },
  {
   "cell_type": "markdown",
   "metadata": {},
   "source": [
    "Así mismo, se puede obtener un determinante de una matriz:"
   ]
  },
  {
   "cell_type": "code",
   "execution_count": null,
   "metadata": {},
   "outputs": [],
   "source": [
    "M = sp.Matrix(( [1, 2, 3], [3, 6, 2], [2, 0, 1] ))\n",
    "M.det()"
   ]
  },
  {
   "cell_type": "markdown",
   "metadata": {},
   "source": [
    "O la inversa de una matriz"
   ]
  },
  {
   "cell_type": "code",
   "execution_count": null,
   "metadata": {},
   "outputs": [],
   "source": [
    "M.inv()"
   ]
  },
  {
   "cell_type": "markdown",
   "metadata": {},
   "source": [
    "Para finalizar la parte de matrices, SymPy tiene habilitadas las funciones \\texttt{eigenvals()} y \\texttt{eigenvects()} que regresan los eigenvalores o valores propios de una matriz y los eigenvectores o vectores propios. "
   ]
  },
  {
   "cell_type": "code",
   "execution_count": 31,
   "metadata": {},
   "outputs": [
    {
     "name": "stdout",
     "output_type": "stream",
     "text": [
      "{3: 1, -2: 1, 5: 2}\n",
      "[(-2, 1, [Matrix([\n",
      "[0],\n",
      "[1],\n",
      "[1],\n",
      "[1]])]), (3, 1, [Matrix([\n",
      "[1],\n",
      "[1],\n",
      "[1],\n",
      "[1]])]), (5, 2, [Matrix([\n",
      "[1],\n",
      "[1],\n",
      "[1],\n",
      "[0]]), Matrix([\n",
      "[ 0],\n",
      "[-1],\n",
      "[ 0],\n",
      "[ 1]])])]\n"
     ]
    }
   ],
   "source": [
    "M = Matrix([[3, -2,  4, -2], [5,  3, -3, -2], [5, -2,  2, -2], [5, -2, -3,  3]])\n",
    "print(M.eigenvals())\n",
    "print(M.eigenvects())"
   ]
  },
  {
   "cell_type": "code",
   "execution_count": null,
   "metadata": {},
   "outputs": [],
   "source": [
    "Matrix([[1, 2], [2, 2]]).eigenvects()"
   ]
  },
  {
   "cell_type": "markdown",
   "metadata": {},
   "source": [
    "Por último, SymPy es capaz de resolver algunas ecuaciones diferenciales ordinarias, esto se hace con la función \\texttt{sympy.ode.dsolve()} y funciona de la siguiente forma:"
   ]
  },
  {
   "cell_type": "code",
   "execution_count": null,
   "metadata": {},
   "outputs": [],
   "source": [
    "y = Function('y')"
   ]
  },
  {
   "cell_type": "code",
   "execution_count": null,
   "metadata": {},
   "outputs": [],
   "source": [
    "dsolve(Eq(y(t).diff(t, t) - y(t), exp(t)), y(t)) #esto resuelve la ecuacion diferenial\n",
    "#donde .diff(t, t)  = segunda derivada con respecto al tiempo"
   ]
  },
  {
   "cell_type": "code",
   "execution_count": null,
   "metadata": {},
   "outputs": [],
   "source": [
    "besselj(nu, z).rewrite(jn) #da explicita la función de Bessel de primer tipo\n",
    "#normalizada"
   ]
  },
  {
   "cell_type": "code",
   "execution_count": null,
   "metadata": {},
   "outputs": [],
   "source": [
    "from sympy import *\n",
    "init_printing() #Latex\n",
    "Integral(cos(x)**2, (x, 0, pi))"
   ]
  },
  {
   "cell_type": "code",
   "execution_count": null,
   "metadata": {},
   "outputs": [],
   "source": [
    "from sympy.abc import x\n",
    "from sympy.utilities.lambdify import lambdify, implemented_function\n",
    "from sympy import Function\n",
    "f=implemented_function('f',lambda x:x+1) # calculo simbolico\n",
    "lam_f=lambdify(x,f(x)) #calculo numerico\n",
    "lam_f(20) #operar"
   ]
  },
  {
   "cell_type": "code",
   "execution_count": null,
   "metadata": {},
   "outputs": [],
   "source": []
  },
  {
   "cell_type": "markdown",
   "metadata": {},
   "source": [
    "Ejercicios"
   ]
  },
  {
   "cell_type": "markdown",
   "metadata": {},
   "source": [
    "Calcular \\lim{x->0, sin(x)/x}\n",
    "Calcular la derivada de log(x) para x."
   ]
  },
  {
   "cell_type": "markdown",
   "metadata": {},
   "source": [
    "Ejercicio: Con \\texttt{solve()}, también se pueden resolver sistemas de ecuaciones de manera simbólica. Ejemplo:\n",
    "\\begin{eqnarray*}\n",
    "x+5y-2=0\\\\\n",
    "-3x + 6y - 15=0\n",
    "\\end{eqnarray*}\n",
    "\n",
    "Investiga como resolver este sistema de ecuaciónes. Recuerda que en el intérprete de Python puedes usar la opción $\\texttt{solve?}$ para entrar al manual."
   ]
  },
  {
   "cell_type": "code",
   "execution_count": null,
   "metadata": {},
   "outputs": [],
   "source": []
  }
 ],
 "metadata": {
  "kernelspec": {
   "display_name": "Python 3",
   "language": "python",
   "name": "python3"
  },
  "language_info": {
   "codemirror_mode": {
    "name": "ipython",
    "version": 3
   },
   "file_extension": ".py",
   "mimetype": "text/x-python",
   "name": "python",
   "nbconvert_exporter": "python",
   "pygments_lexer": "ipython3",
   "version": "3.8.3"
  }
 },
 "nbformat": 4,
 "nbformat_minor": 2
}
