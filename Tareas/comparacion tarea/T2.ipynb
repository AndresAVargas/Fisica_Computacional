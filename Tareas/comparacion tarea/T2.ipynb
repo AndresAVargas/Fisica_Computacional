{
 "cells": [
  {
   "cell_type": "markdown",
   "metadata": {
    "id": "VuHKtNdK_UO2"
   },
   "source": [
    "# Facultad de Ciencias, UNAM.\n",
    "## Física computacional.\n",
    "####González Domínguez Hugo Leonardo.\n",
    "\n",
    "###Tarea 3."
   ]
  },
  {
   "cell_type": "markdown",
   "metadata": {
    "id": "Gep7N1tIALka"
   },
   "source": [
    "# Interpolación.\n",
    "\n",
    "1. Sea $f(x)=2sin(\\pi \\frac{x}{6})$ (con el ángulo medido en radianes).\n",
    "\n",
    "  a) Usa el polinomio de Lagrange $P_{2}$ con nodos $x_{0}=0$, $x_{1}=1$ y $x_{2}=3$ para aproximar $f(2)$ y $f(2.4)$.\n",
    "\n",
    "  b) Usa el polinomio de Lagrange $P_{3}$ con nodos $x_{0}=0$, $x_{1}=1$, $x_{2}=3$ y $x_{3}=5$ para aproximar $f(2)$ y $f(2.4)$.\n",
    "\n",
    "  c) Usa el polinomio de Lagrange $P_{2}$ con nodos $x_{0}=0$, $x_{1}=1$ y $x_{2}=3$ para aproximar $f(4)$ y $f(3.5)$.\n",
    "\n",
    "  d) Usa el polinomio de Lagrange $P_{3}$ con nodos $x_{0}=0$, $x_{1}=1$, $x_{2}=3$ y $x_{3}=5$ para aproximar $f(4)$ y $f(3.5)$.\n"
   ]
  },
  {
   "cell_type": "code",
   "execution_count": null,
   "metadata": {
    "id": "EXvxMnSECWfI"
   },
   "outputs": [],
   "source": []
  },
  {
   "cell_type": "markdown",
   "metadata": {
    "id": "KgCewtcTpCM_"
   },
   "source": [
    "Para cada uno de los ejercicios planteados anteriormente se tienen un conjunto de nodos provenientes de valores correspondientes a $x$ y las respectivas imágenes de la función proporcionada $f(x)$. De lo realizado en clase se mostró que la forma general del polinomio interpolador de Lagrange corresponde a: \n",
    "\n",
    "$$P_{n}(x)=y_{0}L_{0}(x)+y_{1}L_{1}(x)+\\cdots+y_{n}L_{n}(x)$$\n",
    "\n",
    "Donde las funciones base de Lagrange se obtienen de: \n",
    "\n",
    "$$L_{k}(x)=\\frac{(x - x_0) \\dots (x - x_{k-1})(x - x_{k+1}) \\dots (x - x_n)}{(x_k - x_0) \\dots (x_k - x_{k-1})(x - x_{k+1}) \\dots (x_k - x_n)}$$\n",
    "con $k = 1, 2, \\dots, n$\n",
    "\n",
    "Por lo que se obtendrá de manera general un expresión para el n-ésimo polinomio interpolador como se muestra a continuación:"
   ]
  },
  {
   "cell_type": "code",
   "execution_count": 3,
   "metadata": {
    "id": "B_8BMTh1rO0Z"
   },
   "outputs": [],
   "source": [
    "import numpy as np\n",
    "import pandas as pd\n",
    "import matplotlib.pyplot as plt\n",
    "from math import *\n",
    "from sympy import init_printing, diff, Symbol, sin\n",
    "from IPython.display import Math, Latex\n",
    "from sympy.abc import x, t\n",
    "from scipy.constants import c, k, h\n",
    "from decimal import Decimal\n",
    "from itertools import zip_longest"
   ]
  },
  {
   "cell_type": "code",
   "execution_count": 36,
   "metadata": {
    "id": "kGDYSHndscXE"
   },
   "outputs": [],
   "source": [
    "def lagrangegrado2(x,X,Y):\n",
    "  L0=((x-X[1])*(x-X[2]))/((X[0]-X[1])*(X[0]-X[2]))\n",
    "  L1=((x-X[0])*(x-X[2]))/((X[1]-X[0])*(X[1]-X[2]))\n",
    "  L2=((x-X[0])*(x-X[1]))/((X[2]-X[0])*(X[2]-X[1]))\n",
    "  PL2=Y[0]*L0+Y[1]*L1+Y[2]*L2\n",
    "  return PL2\n",
    "\n",
    "def lagrangegrado3(x,X,Y):\n",
    "  L0=((x-X[1])*(x-X[2])*(x-X[3]))/((X[0]-X[1])*(X[0]-X[2])*(X[0]-X[3]))\n",
    "  L1=((x-X[0])*(x-X[2])*(x-X[3]))/((X[1]-X[0])*(X[1]-X[2])*(X[1]-X[3]))\n",
    "  L2=((x-X[0])*(x-X[1])*(x-X[3]))/((X[2]-X[0])*(X[2]-X[1])*(X[2]-X[3]))\n",
    "  L3=((x-X[0])*(x-X[1])*(x-X[2]))/((X[3]-X[0])*(X[3]-X[1])*(X[3]-X[2]))\n",
    "  PL3=Y[0]*L0+Y[1]*L1+Y[2]*L2+Y[3]*L3\n",
    "  return PL3"
   ]
  },
  {
   "cell_type": "code",
   "execution_count": 27,
   "metadata": {
    "colab": {
     "base_uri": "https://localhost:8080/"
    },
    "id": "PINNTjeIuMcK",
    "outputId": "e0da1263-62aa-4025-f4f8-87adfb3eb96d"
   },
   "outputs": [
    {
     "name": "stdout",
     "output_type": "stream",
     "text": [
      "La aproximación para f(2) a segundo orden es: 1.6666666666666665\n",
      "La aproximación para f(2.4) a segundo orden es: 1.8399999999999999\n"
     ]
    }
   ],
   "source": [
    "#Aproximación P_2\n",
    "X1 = np.array([0.0,1.0,3.0])\n",
    "Y1=2*(np.sin((pi/6)*X1))\n",
    "print('La aproximación para f(2) a segundo orden es:',lagrangegrado2(2,X1,Y1))\n",
    "print('La aproximación para f(2.4) a segundo orden es:',lagrangegrado2(2.4,X1,Y1))\n",
    "\n"
   ]
  },
  {
   "cell_type": "code",
   "execution_count": 33,
   "metadata": {
    "colab": {
     "base_uri": "https://localhost:8080/"
    },
    "id": "yeP4FifAu-Ar",
    "outputId": "3f02d1a7-e8f3-4ef4-bb10-ec179fbc8c7a"
   },
   "outputs": [
    {
     "name": "stdout",
     "output_type": "stream",
     "text": [
      "La aproximación para f(2) a tercer orden es: 1.7\n",
      "La aproximación para f(2.4) a tercer orden es: 1.8736000000000002\n"
     ]
    }
   ],
   "source": [
    "#Aproximación P_3\n",
    "X2=np.array([0.0,1.0,3.0,5.0])\n",
    "Y2=2*(np.sin((pi/6)*X2))\n",
    "print('La aproximación para f(2) a tercer orden es:',lagrangegrado3(2,X2,Y2))\n",
    "print('La aproximación para f(2.4) a tercer orden es:',lagrangegrado3(2.4,X2,Y2))"
   ]
  },
  {
   "cell_type": "code",
   "execution_count": 29,
   "metadata": {
    "colab": {
     "base_uri": "https://localhost:8080/"
    },
    "id": "KmaV7h8mCv8f",
    "outputId": "350cc8bf-7ee0-4236-98e2-e58dd2616eef"
   },
   "outputs": [
    {
     "name": "stdout",
     "output_type": "stream",
     "text": [
      "La aproximación para f(4) a segundo orden es: 2.0\n",
      "La aproximación para f(3.5) a segundo orden es: 2.0416666666666665\n"
     ]
    }
   ],
   "source": [
    "#C) Aproximación P_2\n",
    "print('La aproximación para f(4) a segundo orden es:',lagrangegrado2(4,X1,Y1))\n",
    "print('La aproximación para f(3.5) a segundo orden es:',lagrangegrado2(3.5,X1,Y1))"
   ]
  },
  {
   "cell_type": "code",
   "execution_count": 35,
   "metadata": {
    "colab": {
     "base_uri": "https://localhost:8080/"
    },
    "id": "NnDRsAxEDHBa",
    "outputId": "13c269e1-8e77-4171-9620-97fcd6dc661a"
   },
   "outputs": [
    {
     "name": "stdout",
     "output_type": "stream",
     "text": [
      "La aproximación para f(4) a tercer orden es: 1.8000000000000003\n",
      "La aproximación para f(3.5) a tercer orden es: 1.96875\n"
     ]
    }
   ],
   "source": [
    "#d) Aproximación P_3\n",
    "print('La aproximación para f(4) a tercer orden es:',lagrangegrado3(4,X2,Y2))\n",
    "print('La aproximación para f(3.5) a tercer orden es:',lagrangegrado3(3.5,X2,Y2))"
   ]
  },
  {
   "cell_type": "markdown",
   "metadata": {
    "id": "kdlGDg7UV3Tt"
   },
   "source": [
    "2. De la siguiente tabla \n",
    "\n",
    "$$f(x)=\\frac{3.6}{x}$$\n",
    "$$con \\  x=2.5,3.5$$\n",
    "\n",
    "| k | $x_{k}$ | f(x_{k}) |\n",
    "| :- | -: | :-: |\n",
    "| 0 | 1.0 | 3.6\n",
    "| 1 | 2.0 | 1.80 \n",
    "| 2 | 3.0   | 1.20     \n",
    "| 3 | 4.0   | 0.90     \n",
    "| 4 | 5.0   | 0.72\n",
    "\n",
    "a) Calcula la tabla de diferencias divididas.\n",
    "\n",
    "b) Escribe los polinomios interpolados de Newton para $P_{1}(x)$, $P_{2}(x)$, $P_{3}(x)$ y $P_{4}(x)$."
   ]
  },
  {
   "cell_type": "code",
   "execution_count": null,
   "metadata": {
    "colab": {
     "base_uri": "https://localhost:8080/",
     "height": 206
    },
    "id": "fk1BSJxxNIRS",
    "outputId": "db936ad8-dedd-46e9-e016-9e44ca714bc2"
   },
   "outputs": [
    {
     "data": {
      "text/html": [
       "\n",
       "  <div id=\"df-598af267-334a-4180-a896-060396277107\">\n",
       "    <div class=\"colab-df-container\">\n",
       "      <div>\n",
       "<style scoped>\n",
       "    .dataframe tbody tr th:only-of-type {\n",
       "        vertical-align: middle;\n",
       "    }\n",
       "\n",
       "    .dataframe tbody tr th {\n",
       "        vertical-align: top;\n",
       "    }\n",
       "\n",
       "    .dataframe thead th {\n",
       "        text-align: right;\n",
       "    }\n",
       "</style>\n",
       "<table border=\"1\" class=\"dataframe\">\n",
       "  <thead>\n",
       "    <tr style=\"text-align: right;\">\n",
       "      <th></th>\n",
       "      <th>x_{k}</th>\n",
       "      <th>f(x_k)</th>\n",
       "      <th>Diferencia de primer orden</th>\n",
       "      <th>Segundo orden</th>\n",
       "      <th>Tercer orden</th>\n",
       "      <th>Cuarto orden</th>\n",
       "    </tr>\n",
       "  </thead>\n",
       "  <tbody>\n",
       "    <tr>\n",
       "      <th>0</th>\n",
       "      <td>1.0</td>\n",
       "      <td>3.60</td>\n",
       "      <td>-1.80</td>\n",
       "      <td>0.60</td>\n",
       "      <td>-0.15</td>\n",
       "      <td>0.03</td>\n",
       "    </tr>\n",
       "    <tr>\n",
       "      <th>1</th>\n",
       "      <td>2.0</td>\n",
       "      <td>1.80</td>\n",
       "      <td>-0.60</td>\n",
       "      <td>0.15</td>\n",
       "      <td>-0.03</td>\n",
       "      <td>NaN</td>\n",
       "    </tr>\n",
       "    <tr>\n",
       "      <th>2</th>\n",
       "      <td>3.0</td>\n",
       "      <td>1.20</td>\n",
       "      <td>-0.30</td>\n",
       "      <td>0.06</td>\n",
       "      <td>NaN</td>\n",
       "      <td>NaN</td>\n",
       "    </tr>\n",
       "    <tr>\n",
       "      <th>3</th>\n",
       "      <td>4.0</td>\n",
       "      <td>0.90</td>\n",
       "      <td>-0.18</td>\n",
       "      <td>NaN</td>\n",
       "      <td>NaN</td>\n",
       "      <td>NaN</td>\n",
       "    </tr>\n",
       "    <tr>\n",
       "      <th>4</th>\n",
       "      <td>5.0</td>\n",
       "      <td>0.72</td>\n",
       "      <td>NaN</td>\n",
       "      <td>NaN</td>\n",
       "      <td>NaN</td>\n",
       "      <td>NaN</td>\n",
       "    </tr>\n",
       "  </tbody>\n",
       "</table>\n",
       "</div>\n",
       "      <button class=\"colab-df-convert\" onclick=\"convertToInteractive('df-598af267-334a-4180-a896-060396277107')\"\n",
       "              title=\"Convert this dataframe to an interactive table.\"\n",
       "              style=\"display:none;\">\n",
       "        \n",
       "  <svg xmlns=\"http://www.w3.org/2000/svg\" height=\"24px\"viewBox=\"0 0 24 24\"\n",
       "       width=\"24px\">\n",
       "    <path d=\"M0 0h24v24H0V0z\" fill=\"none\"/>\n",
       "    <path d=\"M18.56 5.44l.94 2.06.94-2.06 2.06-.94-2.06-.94-.94-2.06-.94 2.06-2.06.94zm-11 1L8.5 8.5l.94-2.06 2.06-.94-2.06-.94L8.5 2.5l-.94 2.06-2.06.94zm10 10l.94 2.06.94-2.06 2.06-.94-2.06-.94-.94-2.06-.94 2.06-2.06.94z\"/><path d=\"M17.41 7.96l-1.37-1.37c-.4-.4-.92-.59-1.43-.59-.52 0-1.04.2-1.43.59L10.3 9.45l-7.72 7.72c-.78.78-.78 2.05 0 2.83L4 21.41c.39.39.9.59 1.41.59.51 0 1.02-.2 1.41-.59l7.78-7.78 2.81-2.81c.8-.78.8-2.07 0-2.86zM5.41 20L4 18.59l7.72-7.72 1.47 1.35L5.41 20z\"/>\n",
       "  </svg>\n",
       "      </button>\n",
       "      \n",
       "  <style>\n",
       "    .colab-df-container {\n",
       "      display:flex;\n",
       "      flex-wrap:wrap;\n",
       "      gap: 12px;\n",
       "    }\n",
       "\n",
       "    .colab-df-convert {\n",
       "      background-color: #E8F0FE;\n",
       "      border: none;\n",
       "      border-radius: 50%;\n",
       "      cursor: pointer;\n",
       "      display: none;\n",
       "      fill: #1967D2;\n",
       "      height: 32px;\n",
       "      padding: 0 0 0 0;\n",
       "      width: 32px;\n",
       "    }\n",
       "\n",
       "    .colab-df-convert:hover {\n",
       "      background-color: #E2EBFA;\n",
       "      box-shadow: 0px 1px 2px rgba(60, 64, 67, 0.3), 0px 1px 3px 1px rgba(60, 64, 67, 0.15);\n",
       "      fill: #174EA6;\n",
       "    }\n",
       "\n",
       "    [theme=dark] .colab-df-convert {\n",
       "      background-color: #3B4455;\n",
       "      fill: #D2E3FC;\n",
       "    }\n",
       "\n",
       "    [theme=dark] .colab-df-convert:hover {\n",
       "      background-color: #434B5C;\n",
       "      box-shadow: 0px 1px 3px 1px rgba(0, 0, 0, 0.15);\n",
       "      filter: drop-shadow(0px 1px 2px rgba(0, 0, 0, 0.3));\n",
       "      fill: #FFFFFF;\n",
       "    }\n",
       "  </style>\n",
       "\n",
       "      <script>\n",
       "        const buttonEl =\n",
       "          document.querySelector('#df-598af267-334a-4180-a896-060396277107 button.colab-df-convert');\n",
       "        buttonEl.style.display =\n",
       "          google.colab.kernel.accessAllowed ? 'block' : 'none';\n",
       "\n",
       "        async function convertToInteractive(key) {\n",
       "          const element = document.querySelector('#df-598af267-334a-4180-a896-060396277107');\n",
       "          const dataTable =\n",
       "            await google.colab.kernel.invokeFunction('convertToInteractive',\n",
       "                                                     [key], {});\n",
       "          if (!dataTable) return;\n",
       "\n",
       "          const docLinkHtml = 'Like what you see? Visit the ' +\n",
       "            '<a target=\"_blank\" href=https://colab.research.google.com/notebooks/data_table.ipynb>data table notebook</a>'\n",
       "            + ' to learn more about interactive tables.';\n",
       "          element.innerHTML = '';\n",
       "          dataTable['output_type'] = 'display_data';\n",
       "          await google.colab.output.renderOutput(dataTable, element);\n",
       "          const docLink = document.createElement('div');\n",
       "          docLink.innerHTML = docLinkHtml;\n",
       "          element.appendChild(docLink);\n",
       "        }\n",
       "      </script>\n",
       "    </div>\n",
       "  </div>\n",
       "  "
      ],
      "text/plain": [
       "   x_{k}  f(x_k)  ...  Tercer orden  Cuarto orden\n",
       "0    1.0    3.60  ...         -0.15          0.03\n",
       "1    2.0    1.80  ...         -0.03           NaN\n",
       "2    3.0    1.20  ...           NaN           NaN\n",
       "3    4.0    0.90  ...           NaN           NaN\n",
       "4    5.0    0.72  ...           NaN           NaN\n",
       "\n",
       "[5 rows x 6 columns]"
      ]
     },
     "execution_count": 30,
     "metadata": {},
     "output_type": "execute_result"
    }
   ],
   "source": [
    "#a)\n",
    "xnodos=[1.0,2.0,3.0,4.0,5.0]\n",
    "fx=[3.6,1.80,1.20,0.90,0.72]\n",
    "fx1=[((fx[i+1]-fx[i])/(xnodos[i+1]-xnodos[i])) for i in range(4)]\n",
    "fx2=[((fx1[i+1]-fx1[i])/(xnodos[i+2]-xnodos[i])) for i in range(3)]\n",
    "fx3=[((fx2[i+1]-fx2[i])/(xnodos[i+3]-xnodos[i])) for i in range(2)]\n",
    "fx4=[((fx3[i+1]-fx3[i])/(xnodos[i+4]-xnodos[i])) for i in range(1)]\n",
    "Tabla_de_diferencias_divididas = pd.DataFrame(list(zip_longest(fx, fx1, fx2, fx3, fx4)), \n",
    "          index=range(5), columns=[\"f(x_k)\", \"Diferencia de primer orden\", \"Segundo orden\", \"Tercer orden\", \"Cuarto orden\"])\n",
    "Tabla_de_diferencias_divididas.insert(0, \"x_{k}\", xnodos) \n",
    "Tabla_de_diferencias_divididas\n"
   ]
  },
  {
   "cell_type": "markdown",
   "metadata": {
    "id": "32ig6sKbc3Qp"
   },
   "source": [
    "Recordemos que de lo visto en clase la forma general de los polinomios de Newton utilizando diferencias divididas corresponde a: \n",
    "\n",
    "$$P_{n}(x)=f(x_{0})+f[x_{0},x_{1}](x-x_{0})+f[x_{0},x_{1},x_{2}](x-x_{0})(x-x_{1})+f[x_{0},x_{1},x_{2},x_{3}](x-x_{0})(x-x_{1})(x-x_{2})+ \\dots+f[x_{0},\\dots,x_{n}](x-x_{0})\\dots(x-x_{n-1})$$\n",
    "\n",
    "Con la relación de recursión:\n",
    "\n",
    "$$P_{n}(x)=P_{n-1}(x)+f[x_{0},\\dots,x_{n}](x-x_{0})\\dots(x-x_{n-1})$$\n",
    "\n",
    "Donde los coeficientes $f[x_{0},\\dots,x_{n}]$ los obtuvimos en la tabla de diferencias divididas."
   ]
  },
  {
   "cell_type": "code",
   "execution_count": null,
   "metadata": {
    "colab": {
     "base_uri": "https://localhost:8080/"
    },
    "id": "sYFDqMdecIY1",
    "outputId": "d5ee9f99-270e-44f6-c553-9c56b22ba647"
   },
   "outputs": [
    {
     "name": "stdout",
     "output_type": "stream",
     "text": [
      "P_1(x)= 5.4 - 1.8*x\n",
      "P_2(x)= -1.8*x + 0.6*(x - 2.0)*(x - 1.0) + 5.4\n",
      "P_3(x)= -1.8*x + (0.15 - 0.15*x)*(x - 3.0)*(x - 2.0) + 0.6*(x - 2.0)*(x - 1.0) + 5.4\n",
      "P_4(x)= -1.8*x + (0.15 - 0.15*x)*(x - 3.0)*(x - 2.0) + (0.03*x - 0.03)*(x - 4.0)*(x - 3.0)*(x - 2.0) + 0.6*(x - 2.0)*(x - 1.0) + 5.4\n"
     ]
    }
   ],
   "source": [
    "#P_1 \n",
    "def P1(x):\n",
    "  return fx[0]+fx1[0]*(x-xnodos[0])\n",
    "print('P_1(x)=',P1(x))\n",
    "#P_2\n",
    "def P2(x):\n",
    "  return P1(x)+fx2[0]*((x-xnodos[0])*(x-xnodos[1]))\n",
    "print('P_2(x)=',P2(x))\n",
    "#P_3\n",
    "def P3(x):\n",
    "  return P2(x)+fx3[0]*(x-xnodos[0])*(x-xnodos[1])*(x-xnodos[2])\n",
    "print('P_3(x)=',P3(x))\n",
    "#P_4\n",
    "def P4(x):\n",
    "  return P3(x)+fx4[0]*(x-xnodos[0])*(x-xnodos[1])*(x-xnodos[2])*(x-xnodos[3])\n",
    "print('P_4(x)=',P4(x))"
   ]
  },
  {
   "cell_type": "code",
   "execution_count": null,
   "metadata": {
    "colab": {
     "base_uri": "https://localhost:8080/"
    },
    "id": "dPfhLjxai8xl",
    "outputId": "1f0d8110-e8e2-4346-b387-81feeb4dc649"
   },
   "outputs": [
    {
     "name": "stdout",
     "output_type": "stream",
     "text": [
      "[3.6, 1.8, 1.2, 0.8999999999999996, 0.7199999999999995]\n"
     ]
    }
   ],
   "source": [
    "#ahora comprobando las interpolaciones con el polinomio interpolante P4\n",
    "\n",
    "Pol4=[]\n",
    "for k in xnodos:\n",
    "  Pol4.append(P4(k))\n",
    "print(Pol4)\n",
    "\n",
    "  "
   ]
  },
  {
   "cell_type": "markdown",
   "metadata": {
    "id": "RnORYUA6V3PZ"
   },
   "source": [
    "## Integración."
   ]
  },
  {
   "cell_type": "markdown",
   "metadata": {
    "id": "d81VR9MLH1_L"
   },
   "source": [
    "3. ### Integración numérica.\n",
    "\n",
    "Una corriente alterna está descrita por \n",
    "$$i(t)=i_{0}\\left(sin\\left(\\frac{\\pi t}{t_{0}}\\right)-\\beta sin\\left(\\frac{2\\pi t}{t_{0}}\\right)\\right)$$ \n",
    "\n",
    "Donde $i_{0} = \\ 1 \\ A$, $t_{0}=0.05 \\ seg$, y $\\beta = 0.2$. Obtén numéricamente la corriente cuadrática media, definida como \n",
    "\n",
    "$$i_{rms}=\\sqrt{\\frac{1}{t_{0}}\\int_{0}^{t_{0}}i^{2}(t)dt}$$\n",
    "\n",
    "Resuelve por el método que prefieras. Defiende el método que usas. Determina el error de tu resultado para distintas N."
   ]
  },
  {
   "cell_type": "code",
   "execution_count": 6,
   "metadata": {
    "id": "de-bjH6QHzlW"
   },
   "outputs": [],
   "source": [
    "icuad=lambda t:((np.sin((np.pi*t)/0.05))-(0.2*(np.sin((2.0*np.pi*t)/0.05))))**2"
   ]
  },
  {
   "cell_type": "code",
   "execution_count": 7,
   "metadata": {
    "id": "GpDWuVQyXszB"
   },
   "outputs": [],
   "source": [
    "def simpson(f,a,b,N):\n",
    "  h=(b-a)/N \n",
    "  S_1=(h/3)*(f(a)+f(b))\n",
    "  for j in range(1,N,2):\n",
    "    S_1+=((h*4)/3)*f(a+j*h)\n",
    "  for k in range(2,N,2):\n",
    "    S_1+=((h*2)/3)*f(a+k*h)\n",
    "  return S_1  "
   ]
  },
  {
   "cell_type": "code",
   "execution_count": 8,
   "metadata": {
    "colab": {
     "base_uri": "https://localhost:8080/",
     "height": 117
    },
    "id": "Ws7Uv_jnljvm",
    "outputId": "08722f11-154a-4c78-e38d-f19ba51c55ef"
   },
   "outputs": [
    {
     "name": "stdout",
     "output_type": "stream",
     "text": [
      "El resultado de integrar numéricamente el cuadrado de la corriente corresponde a: \n"
     ]
    },
    {
     "data": {
      "text/latex": [
       "$\\displaystyle \\int_{0}^{t_{0}}i^{2}(t)dt=0.026$"
      ],
      "text/plain": [
       "<IPython.core.display.Math object>"
      ]
     },
     "metadata": {},
     "output_type": "display_data"
    },
    {
     "name": "stdout",
     "output_type": "stream",
     "text": [
      "Donde el intervalo temporal sobre el que se integra corresponde a (0,0.05) y se ha utilizado una N=60.\n",
      "De lo anterior se tiene que la raíz cuadrada media obtenida con la integral resuelta numéricamente corresponde a (medida en amperes (A)): \n"
     ]
    },
    {
     "data": {
      "text/latex": [
       "$\\displaystyle i_{rms}=0.7211102551$"
      ],
      "text/plain": [
       "<IPython.core.display.Math object>"
      ]
     },
     "metadata": {},
     "output_type": "display_data"
    }
   ],
   "source": [
    "print('El resultado de integrar numéricamente el cuadrado de la corriente corresponde a: ')\n",
    "display(Math(r\"\\int_{{0}}^{{t_{{0}}}}i^{{2}}(t)dt={:.10g}\".format(simpson(icuad,0,0.05,60))))\n",
    "print('Donde el intervalo temporal sobre el que se integra corresponde a (0,0.05) y se ha utilizado una N=60.')\n",
    "print('De lo anterior se tiene que la raíz cuadrada media obtenida con la integral resuelta numéricamente corresponde a (medida en amperes (A)): ')\n",
    "display(Math(r\"i_{{rms}}={:.10g}\".format(np.sqrt((1/0.05)*simpson(icuad,0,0.05,256)))))\n",
    "\n"
   ]
  },
  {
   "cell_type": "markdown",
   "metadata": {
    "id": "_7HHKOnWk8K0"
   },
   "source": [
    "Para el apartado de los errores numéricos asociados se hará uso de la expresión mostrada en clase para el método de Simpson correspondiente a la expresión: $\\epsilon=\\frac{h^{4}}{80}(f\\prime\\prime\\prime(a)-f\\prime\\prime\\prime(b))$ donde $f\\prime\\prime\\prime(i)$ denota la tercera derivada de la función $f$ evaluada en el i-ésimo punto que en este caso corresponde a los puntos $a$ y $b$. Para realizar lo anterior se utilizó el módulo sympy para obtener la tercera derivada de la función $i^{2}(t)$ (que corresponde a la función integrada numéricamente) y posteriormente evaluar dicha derivada en los extremos del intervalo de integración."
   ]
  },
  {
   "cell_type": "code",
   "execution_count": 9,
   "metadata": {
    "id": "7DxL8mTSOO5h"
   },
   "outputs": [],
   "source": [
    "def error_preciso(f,a,b,N):\n",
    "  h=(b-a)/N\n",
    "  def icuad(t):\n",
    "    return ((sin((pi*t)/0.05))-(0.2*(sin((2.0*pi*t)/0.05))))**2\n",
    "  ter_der_icuad=diff(icuad(t),t,3) \n",
    "  error=(h**4/90)*(ter_der_icuad.evalf(subs={t:0})-ter_der_icuad.evalf(subs={t:0.05}))\n",
    "  return error"
   ]
  },
  {
   "cell_type": "code",
   "execution_count": 10,
   "metadata": {
    "colab": {
     "base_uri": "https://localhost:8080/",
     "height": 363
    },
    "id": "PJsYHprc4PkB",
    "outputId": "9b235d14-ff6e-46f1-ce29-03f014358330"
   },
   "outputs": [
    {
     "data": {
      "text/html": [
       "<style type=\"text/css\">\n",
       "</style>\n",
       "<table id=\"T_267f7_\">\n",
       "  <thead>\n",
       "    <tr>\n",
       "      <th class=\"blank level0\" >&nbsp;</th>\n",
       "      <th class=\"col_heading level0 col0\" >No. de N's</th>\n",
       "      <th class=\"col_heading level0 col1\" >Integral numérica</th>\n",
       "      <th class=\"col_heading level0 col2\" >$I_{rms}$ (A)</th>\n",
       "      <th class=\"col_heading level0 col3\" >Error</th>\n",
       "    </tr>\n",
       "  </thead>\n",
       "  <tbody>\n",
       "    <tr>\n",
       "      <th id=\"T_267f7_level0_row0\" class=\"row_heading level0 row0\" >0</th>\n",
       "      <td id=\"T_267f7_row0_col0\" class=\"data row0 col0\" >5</td>\n",
       "      <td id=\"T_267f7_row0_col1\" class=\"data row0 col1\" >0.02600000000000000228</td>\n",
       "      <td id=\"T_267f7_row0_col2\" class=\"data row0 col2\" >7.21110255092797913790e-01</td>\n",
       "      <td id=\"T_267f7_row0_col3\" class=\"data row0 col3\" >4.16769849334152e-20</td>\n",
       "    </tr>\n",
       "    <tr>\n",
       "      <th id=\"T_267f7_level0_row1\" class=\"row_heading level0 row1\" >1</th>\n",
       "      <td id=\"T_267f7_row1_col0\" class=\"data row1 col0\" >10</td>\n",
       "      <td id=\"T_267f7_row1_col1\" class=\"data row1 col1\" >0.02600000000000000228</td>\n",
       "      <td id=\"T_267f7_row1_col2\" class=\"data row1 col2\" >7.21110255092797913790e-01</td>\n",
       "      <td id=\"T_267f7_row1_col3\" class=\"data row1 col3\" >2.60481155833845e-21</td>\n",
       "    </tr>\n",
       "    <tr>\n",
       "      <th id=\"T_267f7_level0_row2\" class=\"row_heading level0 row2\" >2</th>\n",
       "      <td id=\"T_267f7_row2_col0\" class=\"data row2 col0\" >15</td>\n",
       "      <td id=\"T_267f7_row2_col1\" class=\"data row2 col1\" >0.02600000000000000228</td>\n",
       "      <td id=\"T_267f7_row2_col2\" class=\"data row2 col2\" >7.21110255092797913790e-01</td>\n",
       "      <td id=\"T_267f7_row2_col3\" class=\"data row2 col3\" >5.14530678190312e-22</td>\n",
       "    </tr>\n",
       "    <tr>\n",
       "      <th id=\"T_267f7_level0_row3\" class=\"row_heading level0 row3\" >3</th>\n",
       "      <td id=\"T_267f7_row3_col0\" class=\"data row3 col0\" >20</td>\n",
       "      <td id=\"T_267f7_row3_col1\" class=\"data row3 col1\" >0.02599999999999999881</td>\n",
       "      <td id=\"T_267f7_row3_col2\" class=\"data row3 col2\" >7.21110255092797913790e-01</td>\n",
       "      <td id=\"T_267f7_row3_col3\" class=\"data row3 col3\" >1.62800722396153e-22</td>\n",
       "    </tr>\n",
       "    <tr>\n",
       "      <th id=\"T_267f7_level0_row4\" class=\"row_heading level0 row4\" >4</th>\n",
       "      <td id=\"T_267f7_row4_col0\" class=\"data row4 col0\" >25</td>\n",
       "      <td id=\"T_267f7_row4_col1\" class=\"data row4 col1\" >0.02599999999999999881</td>\n",
       "      <td id=\"T_267f7_row4_col2\" class=\"data row4 col2\" >7.21110255092797913790e-01</td>\n",
       "      <td id=\"T_267f7_row4_col3\" class=\"data row4 col3\" >6.66831758934644e-23</td>\n",
       "    </tr>\n",
       "    <tr>\n",
       "      <th id=\"T_267f7_level0_row5\" class=\"row_heading level0 row5\" >5</th>\n",
       "      <td id=\"T_267f7_row5_col0\" class=\"data row5 col0\" >30</td>\n",
       "      <td id=\"T_267f7_row5_col1\" class=\"data row5 col1\" >0.02600000000000000228</td>\n",
       "      <td id=\"T_267f7_row5_col2\" class=\"data row5 col2\" >7.21110255092797913790e-01</td>\n",
       "      <td id=\"T_267f7_row5_col3\" class=\"data row5 col3\" >3.21581673868945e-23</td>\n",
       "    </tr>\n",
       "    <tr>\n",
       "      <th id=\"T_267f7_level0_row6\" class=\"row_heading level0 row6\" >6</th>\n",
       "      <td id=\"T_267f7_row6_col0\" class=\"data row6 col0\" >35</td>\n",
       "      <td id=\"T_267f7_row6_col1\" class=\"data row6 col1\" >0.02600000000000000575</td>\n",
       "      <td id=\"T_267f7_row6_col2\" class=\"data row6 col2\" >7.21110255092797913790e-01</td>\n",
       "      <td id=\"T_267f7_row6_col3\" class=\"data row6 col3\" >1.73581778148335e-23</td>\n",
       "    </tr>\n",
       "    <tr>\n",
       "      <th id=\"T_267f7_level0_row7\" class=\"row_heading level0 row7\" >7</th>\n",
       "      <td id=\"T_267f7_row7_col0\" class=\"data row7 col0\" >40</td>\n",
       "      <td id=\"T_267f7_row7_col1\" class=\"data row7 col1\" >0.02599999999999999881</td>\n",
       "      <td id=\"T_267f7_row7_col2\" class=\"data row7 col2\" >7.21110255092797913790e-01</td>\n",
       "      <td id=\"T_267f7_row7_col3\" class=\"data row7 col3\" >1.01750451497596e-23</td>\n",
       "    </tr>\n",
       "    <tr>\n",
       "      <th id=\"T_267f7_level0_row8\" class=\"row_heading level0 row8\" >8</th>\n",
       "      <td id=\"T_267f7_row8_col0\" class=\"data row8 col0\" >45</td>\n",
       "      <td id=\"T_267f7_row8_col1\" class=\"data row8 col1\" >0.02599999999999999187</td>\n",
       "      <td id=\"T_267f7_row8_col2\" class=\"data row8 col2\" >7.21110255092797691745e-01</td>\n",
       "      <td id=\"T_267f7_row8_col3\" class=\"data row8 col3\" >6.35223059494212e-24</td>\n",
       "    </tr>\n",
       "    <tr>\n",
       "      <th id=\"T_267f7_level0_row9\" class=\"row_heading level0 row9\" >9</th>\n",
       "      <td id=\"T_267f7_row9_col0\" class=\"data row9 col0\" >50</td>\n",
       "      <td id=\"T_267f7_row9_col1\" class=\"data row9 col1\" >0.02599999999999999534</td>\n",
       "      <td id=\"T_267f7_row9_col2\" class=\"data row9 col2\" >7.21110255092797802767e-01</td>\n",
       "      <td id=\"T_267f7_row9_col3\" class=\"data row9 col3\" >4.16769849334153e-24</td>\n",
       "    </tr>\n",
       "  </tbody>\n",
       "</table>\n"
      ],
      "text/plain": [
       "<pandas.io.formats.style.Styler at 0x1d4c2a19a30>"
      ]
     },
     "execution_count": 10,
     "metadata": {},
     "output_type": "execute_result"
    }
   ],
   "source": [
    "def comparacionN(f,a,b,no):\n",
    "  tablaa=[]\n",
    "  nint=5\n",
    "  for i in range(no):\n",
    "    h1=(b-a)/nint\n",
    "    S1=(h1/3)*(f(a)+f(b))\n",
    "    for j in range(1,nint,2):\n",
    "      S1+=((h1*4)/3)*f(a+j*h1)\n",
    "    for k in range(2,nint,2):\n",
    "      S1+=((h1*2)/3)*f(a+k*h1)\n",
    "    error=error_preciso(f,a,b,nint)\n",
    "    irms=np.sqrt((1/0.05)*S1)\n",
    "    tablaa.append([nint,S1,irms,error])\n",
    "    nint+=5\n",
    "  return tablaa\n",
    "\n",
    "Resultados=comparacionN(icuad,0,0.05,10)\n",
    "\n",
    "Resultados = pd.DataFrame(Resultados, columns=[\"No. de N's\", \"Integral numérica\", \"$I_{rms}$ (A)\", \"Error\"])\n",
    "Resultados.style.format(dict(zip(Resultados.columns, [\"{:g}\", \"{:.20f}\", \"{:.20e}\", lambda t: t])))"
   ]
  },
  {
   "cell_type": "markdown",
   "metadata": {
    "id": "nJJyU1OwFIqV"
   },
   "source": [
    "Opté por obtener el resultado requerido por el método de Simpson debido a que en comparación con el método del trapecio consume de forma notable menos recursos computacionales, ya que como se puede observar en la tabla anterior, se tienen errores numéricos realmente pequeños asociados al método considerando un número reducido de pasos, como se puede observar del cálculo de $i_{rms}$ para distintas N, en este caso se ejemplificaron las N múltiplos de 5 en un rango de 5 a 50. Así mismo preferí utilizar el método de Simpson por encima del método de Romberg debido a que si bien de igual manera presenta facilidades al programarlo (método Romberg) consideré que el método de Simpson presentaba un código aún más sencillo con un buen margen de error sin utilizar tantos recursos."
   ]
  },
  {
   "cell_type": "markdown",
   "metadata": {
    "id": "jj7mTQSlRFBX"
   },
   "source": [
    "## 4. Constante de Stefan-Boltzmann.\n",
    "\n",
    "La teoría de Planck de radiación térmica nos dice que en el intervalo de frecuencia angular $\\omega$ a $\\omega + d\\omega$, un cuerpo negro de área unitaria irradia electromagnéticamente una cantidad de energía térmica por segundo igual a $I(\\omega)d\\omega$, donde\n",
    "\n",
    "$$I(\\omega)=\\frac{\\hbar}{4\\pi^{2}c^{2}}\\frac{\\omega^{3}}{e^{\\frac{\\hbar \\omega}{k_{B}T}}-1}$$\n",
    "\n",
    "La tasa total a la que un cuerpo negro irradia energía por unidad de área sobre todas las frecuencias, es:\n",
    "\n",
    "$$W=\\frac{k_{B}^{4}T^{4}}{4\\pi^{2}c^{2}\\hbar^{3}}\\int_{0}^{\\infty}\\frac{x^{3}}{e^{x}-1}dx$$\n",
    "\n",
    "Integra numéricamente y encuentra $W$ con todos los métodos de integración que conocemos."
   ]
  },
  {
   "cell_type": "code",
   "execution_count": 11,
   "metadata": {
    "id": "Vb4KMPYXJVpG"
   },
   "outputs": [],
   "source": [
    "def g(x):\n",
    "  return ((((k)**4))/(4*(pi**2)*(c**2)*((h/(2*pi))**3)))*((x**3.0)*(((e**x)-1.0)**(-1)))\n",
    "def y(x):  \n",
    "  return (x**3.0)*(((e**x)-1.0)**(-1))\n"
   ]
  },
  {
   "cell_type": "markdown",
   "metadata": {
    "id": "AyEuBxDSXPyo"
   },
   "source": [
    "En la celda anterior se definió la función $g(x)=\\frac{k_{B}^{4}}{4\\pi^{2}c^{2}\\hbar^{3}}\\frac{x^{3}}{e^{x}-1}$ la cual será la función que se utilizará en cada uno de los tres métodos números (trapecio, Simpson, Romberg), sin embargo debemos notar que en dicha función no se encuentra multplicando el término $T^{4}$ y esto es debido a que no conocemos dicha temperatura del cuerpo negro. \n",
    "\n",
    "Para obtener una aproximación numérica de $W$ recordaremos que de manera ideal una estrella puede considerarse como un cuerpo negro, por lo que tomaremos la temperatura (en escala absoluta (K)) del Sol en su superficie, considerando que su tipo espectral corresponde a G2, por lo que se tomará la temperatura como $T=5800 \\ K$.\n",
    "\n",
    "De igual manera es preciso señalar que se consideró el valor de las constantes $c$, $k_{B}$, $\\hbar$ en las unidades del Sistema Internacional. "
   ]
  },
  {
   "cell_type": "code",
   "execution_count": 12,
   "metadata": {
    "id": "-gMRLDVTqEvF"
   },
   "outputs": [],
   "source": [
    "def error_precisosimp(a,b,N): #especificamente para la funcion g con el método de Simpson \n",
    "  h=(b-a)/N\n",
    "  def g(x):\n",
    "    return (x**3.0)*(((e**x)-1.0)**(-1))\n",
    "  ter_der_g=diff(g(x),x,3) \n",
    "  errors=(h**4/90)*(ter_der_g.evalf(subs={x:a})-ter_der_g.evalf(subs={x:b}))\n",
    "  return errors"
   ]
  },
  {
   "cell_type": "code",
   "execution_count": 15,
   "metadata": {
    "colab": {
     "base_uri": "https://localhost:8080/"
    },
    "id": "O5gUsqdztC8K",
    "outputId": "d90b10a5-208d-4b3a-93fd-ecef232f1ff4"
   },
   "outputs": [
    {
     "data": {
      "text/plain": [
       "5.745888858661566e-13"
      ]
     },
     "execution_count": 15,
     "metadata": {},
     "output_type": "execute_result"
    }
   ],
   "source": [
    "def errorsimpson_truco(f,a,b,N):\n",
    "  I1=trapecio(g,a,b,N)\n",
    "  I2=trapecio(g,a,b,2*N)\n",
    "  et=(1/15)*(abs(I2-I1))\n",
    "  return et\n",
    "\n",
    "errorsimpson_truco(g,0.00000000000001,709,1000)"
   ]
  },
  {
   "cell_type": "code",
   "execution_count": 16,
   "metadata": {
    "colab": {
     "base_uri": "https://localhost:8080/",
     "height": 94
    },
    "id": "x0Jy-kR74fWC",
    "outputId": "8f3d3989-1fe7-4491-932d-bf04352efd8a"
   },
   "outputs": [
    {
     "name": "stdout",
     "output_type": "stream",
     "text": [
      "Cálculo correspondiente al método de Simpson\n"
     ]
    },
    {
     "data": {
      "text/latex": [
       "$\\displaystyle W=64210384.35914388 \\\\ \\epsilon=5.745888858661566e-13$"
      ],
      "text/plain": [
       "<IPython.core.display.Math object>"
      ]
     },
     "metadata": {},
     "output_type": "display_data"
    },
    {
     "name": "stdout",
     "output_type": "stream",
     "text": [
      "Donde épsilon corresponde al error numérico asociado\n"
     ]
    }
   ],
   "source": [
    "print('Cálculo correspondiente al método de Simpson')\n",
    "T=5800\n",
    "display(Math(r\"W={:.16g} \\\\ \\epsilon={:.16g}\".format((T**4)*simpson(g,0.00000000000001,709,1000),errorsimpson_truco(g,0.00000000000001,709,1000))))\n",
    "#print(simpson(y,0.00000000000001,709,1000)) esta integral sólamente es para corrborar la parte dependiente de x, sin las constantes.\n",
    "print('Donde épsilon corresponde al error numérico asociado')"
   ]
  },
  {
   "cell_type": "code",
   "execution_count": 8,
   "metadata": {
    "id": "vL9kzxP1LPS9"
   },
   "outputs": [],
   "source": [
    "def trapecio(f,a,b,N):\n",
    "  h=(b-a)/N\n",
    "  T1=(1/2)*(f(a)+f(b))\n",
    "  for i in range(1,N):\n",
    "    T1+=f(a+i*h)\n",
    "  TT=h*T1\n",
    "  return TT"
   ]
  },
  {
   "cell_type": "code",
   "execution_count": 12,
   "metadata": {
    "colab": {
     "base_uri": "https://localhost:8080/",
     "height": 94
    },
    "id": "hfA4Kbn1N9aU",
    "outputId": "f9a35508-1de3-4c01-e886-9e1b15ba5bb5"
   },
   "outputs": [
    {
     "name": "stdout",
     "output_type": "stream",
     "text": [
      "Cálculo correspondiente al método del trapecio.\n"
     ]
    },
    {
     "data": {
      "text/latex": [
       "$$W=64158365.70067727 \\\\ \\epsilon=2.872944429330783e-12$$"
      ],
      "text/plain": [
       "<IPython.core.display.Math object>"
      ]
     },
     "metadata": {},
     "output_type": "display_data"
    },
    {
     "name": "stdout",
     "output_type": "stream",
     "text": [
      "Donde épsilon corresponde al error numérico asociado al método del trapecio.\n"
     ]
    }
   ],
   "source": [
    "print('Cálculo correspondiente al método del trapecio.')\n",
    "display(Math(r\"W={:.16g} \\\\ \\epsilon={:.16g}\".format((T**4)*trapecio(g,0.00000000000001,709,1000),errortrapecio_truco(g,0.00000000000001,709,1000))))\n",
    "#print(trapecio(y,0.00000000000001,709,1000)) esta integral sólamente es para corrborar la parte dependiente de x, sin las constantes.\n",
    "print('Donde épsilon corresponde al error numérico asociado al método del trapecio.')\n",
    "\n"
   ]
  },
  {
   "cell_type": "code",
   "execution_count": 13,
   "metadata": {
    "colab": {
     "base_uri": "https://localhost:8080/"
    },
    "id": "3HAWJmOk_64K",
    "outputId": "a9dd606a-4d51-4e88-e454-468477ccb916"
   },
   "outputs": [
    {
     "data": {
      "text/plain": [
       "2.872944429330783e-12"
      ]
     },
     "execution_count": 13,
     "metadata": {},
     "output_type": "execute_result"
    }
   ],
   "source": [
    "#rerror para el método del trapecio\n",
    "def errortrapecio_truco(f,a,b,N):\n",
    "  I1=trapecio(g,a,b,N)\n",
    "  I2=trapecio(g,a,b,2*N)\n",
    "  et=(1/3)*(abs(I2-I1))\n",
    "  return et\n",
    "\n",
    "errortrapecio_truco(g,0.00000000000001,709,1000)"
   ]
  },
  {
   "cell_type": "code",
   "execution_count": 9,
   "metadata": {
    "colab": {
     "base_uri": "https://localhost:8080/"
    },
    "id": "GqSsDH5zYp5J",
    "outputId": "f7eed522-4422-4b7c-f1b8-27f640831bdb"
   },
   "outputs": [],
   "source": [
    "#Éste es el bueno de Romberg\n",
    "def Romberg(f,a,b,N,l,m):\n",
    "  A=np.zeros((l,m))\n",
    "  for k in range(l):\n",
    "    A[k][0]=trapecio(f,a,b,N)\n",
    "    N*=2\n",
    "  for i in range(1,m):\n",
    "    for n in range(i,m):\n",
    "      for k in range(n,l):\n",
    "        I=A[k][n]=A[k][n-1]+(1/((4**n)-1))*(A[k][n-1]-A[k-1][n-1])\n",
    "  return I\n",
    "\n",
    "# Romberg(g,0.00000000000001,709,30000,2,2)"
   ]
  },
  {
   "cell_type": "markdown",
   "metadata": {
    "id": "g38wSCTsmpvS"
   },
   "source": [
    "Para observar la estructura tipo \"árbol\" del método de Romberg se puede reescribir el código de la función Romberg reemplazando $\\textit{return I}$ por $\\textit{return A}$"
   ]
  },
  {
   "cell_type": "code",
   "execution_count": null,
   "metadata": {
    "colab": {
     "base_uri": "https://localhost:8080/",
     "height": 90
    },
    "id": "UnDcCuejnuKh",
    "outputId": "50084d56-20a7-4fb8-ed3e-edf5777c7420"
   },
   "outputs": [
    {
     "name": "stdout",
     "output_type": "stream",
     "text": [
      "Cálculo correspondiente al método de Romberg.\n"
     ]
    },
    {
     "data": {
      "text/latex": [
       "$$W=64168769.43320286$$"
      ],
      "text/plain": [
       "<IPython.core.display.Math object>"
      ]
     },
     "metadata": {},
     "output_type": "display_data"
    },
    {
     "name": "stdout",
     "output_type": "stream",
     "text": [
      "6.493939402266828\n",
      "Donde épsilon corresponde al error numérico asociado al método de Romberg.\n"
     ]
    }
   ],
   "source": [
    "print('Cálculo correspondiente al método de Romberg.')\n",
    "display(Math(r\"W={:.16g}\".format((T**4)*Romberg(g,0.00000000000001,709,1000,3,3))))\n",
    "print(Romberg(y,0.00000000000001,709,1000,3,3)) #esta integral sólamente es para corrborar la parte dependiente de x, sin las constantes."
   ]
  },
  {
   "cell_type": "markdown",
   "metadata": {
    "id": "ZY0OZ4mao6Jb"
   },
   "source": [
    "De lo anterior es debido realizar algunas precisiones; en primera instancia es necesario aclarar que los valores obtenidos para $W$ y los respectivos errores numéricos se encuentran en unidades de $\\frac{W}{m^{2}}$. \n",
    "\n",
    "En segunda instancia se tiene que para el método de Romberg los últimos argumentos corresponden al valor de la integral que queramos obtener en el \"árbol\" del método, donde el penúltimo argumento corresponde al i-ésimo nivel y el último argumento a la m-ésima capa. \n",
    "\n",
    "Finalmente, para este ejercicio, para el cálculo de los errores numéricos de los métodos de Simpson y del trapecio se utilizó el truco mostrado en clase correspondiente a $\\epsilon=\\frac{1}{3}|I_{2}-I_{1}|$ para el método del trapecio y $\\epsilon=\\frac{1}{15}|I_{2}-I_{1}|$ para el método de Simpson, donde $I_{1}$ a su vez corresponde a la integral obtenida con el método del trapecio para $h_{1}=\\frac{b-a}{N}$ y $I_{2}$ corresponde a la integral obtenida con el método del trapecio para $h_{2}=\\frac{h_{1}}{2}$"
   ]
  },
  {
   "cell_type": "markdown",
   "metadata": {
    "id": "tfU9fsvVifLc"
   },
   "source": [
    "##5. Difracción de una onda plana\n",
    "\n",
    "Sea $\\lambda$ una onda plana que es bloqueada por un objeto con un borde. \n",
    "La onda será difractada por el borde y la intensidad resultante en la posición $(x,z)$ marcada por el punto esta dada por la teoría de difracción de campo cercano\n",
    "\n",
    "$$I=\\frac{I_{0}}{8}\\left([2C(u)+1]^{2}+[2S(u)+1]^{2}\\right)$$\n",
    "\n",
    "Donde $I_{0}$ es la intensidad de la función de onda antes de la difracción, mientras que \n",
    "\n",
    "$$u=x\\sqrt{\\frac{2}{\\lambda z}}, \\ \\ C(u)=\\int_{0}^{u}cos\\left(\\frac{1}{2}\\pi t^{2}\\right)dt, \\ \\ \\ S(u)=\\int_{0}^{u}sen\\left(\\frac{1}{2}\\pi t^{2}\\right)dt$$\n",
    "\n",
    "(i) Escribe un programa que calcule $\\frac{I}{I_{0}}$.\n",
    "\n",
    "(ii) Grafica la intensidad resultante $I$ para 3 distintas $I_{0}$, en un intervalo $x=[-5,5]$ metros; supón el caso de una onda de sonido ($\\lambda=1$, y $z=3m$). Calcula las integrales con el método de Romberg.\n",
    "\n",
    "(iii) Realiza un análisis del resultado de tu gráfica."
   ]
  },
  {
   "cell_type": "code",
   "execution_count": 10,
   "metadata": {
    "colab": {
     "base_uri": "https://localhost:8080/"
    },
    "id": "-Hc3T7kdluWl",
    "outputId": "6c6581af-5ace-4e57-931b-ac92bcc46ca6"
   },
   "outputs": [
    {
     "name": "stdout",
     "output_type": "stream",
     "text": [
      "Ejemplificando el uso del programa para los valores x=-5, z=3 y lambda=1:\n",
      "I/I_{0}= 0.0030341656505245116\n"
     ]
    }
   ],
   "source": [
    "#(i)\n",
    "\n",
    "def intensidad(x,z,l):\n",
    "  u=x*(sqrt(2/(l*z)))\n",
    "  def q(t):\n",
    "    return np.cos((pi*(t**2))/2)\n",
    "  def d(t):\n",
    "    return np.sin((pi*(t**2))/2)\n",
    "  C=Romberg(q,0,u,100,5,5)\n",
    "  S=Romberg(d,0,u,100,5,5)\n",
    "  icociente=(1/8)*((((2*C)+1)**2)+(((2*S)+1)**2))\n",
    "  return icociente\n",
    "\n",
    "print('Ejemplificando el uso del programa para los valores x=-5, z=3 y lambda=1:')\n",
    "print('I/I_{0}=',intensidad(-5,3,1))"
   ]
  },
  {
   "cell_type": "code",
   "execution_count": 12,
   "metadata": {
    "colab": {
     "base_uri": "https://localhost:8080/",
     "height": 530
    },
    "id": "ralr0IkhP85J",
    "outputId": "a7b11dc0-8ac4-47c9-b278-07de1a2d8fb6"
   },
   "outputs": [
    {
     "name": "stdout",
     "output_type": "stream",
     "text": [
      "[0.0015170828252622558, 0.0015800489824075274, 0.0016470021577706623, 0.0017182840702243596, 0.001794273513417539, 0.0018753912290803707, 0.0019621055320698357, 0.002054938819882689, 0.0021544751256258703, 0.002261368905421092, 0.002376355290264595, 0.0025002620801571032, 0.0026340238169592304, 0.002778698344554202, 0.0029354863538246997, 0.003105754519808769, 0.0032910629744436256, 0.0034931980270409262, 0.0037142112543147336, 0.00395646634269773, 0.004222695390704227, 0.004516066784302216, 0.004840267263590205, 0.005199601429109089, 0.005599112721028424, 0.006044730880687686, 0.006543452115191644, 0.007103559682990396, 0.0077348944599420905, 0.008449187295011956, 0.009260467688167476, 0.010185566580253935, 0.011244734877457939, 0.012462403743660195, 0.013868117611970241, 0.015497676097518037, 0.017394526143590903, 0.019611450102084576, 0.02221259788065878, 0.025275909971777786, 0.028895970393674697, 0.03318731038934945, 0.038288149673924736, 0.04436450477400466, 0.05161450422959441, 0.0602726169233556, 0.07061331023920321, 0.08295339747276197, 0.09765200130463794, 0.11510665428598894, 0.1357435985502644, 0.1599998859683619, 0.18829451252292995, 0.22098570401089845, 0.25831183610295505, 0.3003146290278651, 0.34674557048698124, 0.3969603498155423, 0.44981166735349865, 0.5035580329841088, 0.5558144200869605, 0.6035783398392003, 0.6433693471888977, 0.6715173036536818, 0.6846202554519479, 0.680162259834924, 0.6572330523093338, 0.6172285526239456, 0.5643457577062778, 0.5056398926281886, 0.45041724313765025, 0.4088274117974471, 0.3897150576241988, 0.39808197112751426, 0.43283105802217653, 0.4856891032624495, 0.5421696190711296, 0.5849966402788978, 0.5995407669669095, 0.5797171645138857, 0.5319185277865378, 0.4745168651914094, 0.43174641643531664, 0.42331564075214967, 0.45397539813105714, 0.508825555767171, 0.5586944690541809, 0.5750386011393014, 0.5473662770111146, 0.49223728779655435, 0.44553387236460357, 0.4396500016419638, 0.4793752991219409, 0.5351539795097104, 0.5629645169731801, 0.5394255354938527, 0.48413083544664903, 0.4461951431126451, 0.46105519411442725, 0.5147594638389075]\n"
     ]
    },
    {
     "data": {
      "image/png": "[encoded data removed]",
      "text/plain": [
       "<Figure size 576x576 with 1 Axes>"
      ]
     },
     "metadata": {
      "needs_background": "light"
     },
     "output_type": "display_data"
    }
   ],
   "source": [
    "intervalo=np.linspace(-5,5,100) \n",
    "#Hacemos una ligera variación del programa anterior para graficar lo requerido\n",
    "def INtensidad(x,z,l,I0):\n",
    "  u=x*(sqrt(2/(l*z)))\n",
    "  def q(t):\n",
    "    return np.cos((pi*(t**2))/2)\n",
    "  def d(t):\n",
    "    return np.sin((pi*(t**2))/2)\n",
    "  C=Romberg(q,0,u,100,5,5)\n",
    "  S=Romberg(d,0,u,100,5,5)\n",
    "  I=(I0/8)*((((2*C)+1)**2)+(((2*S)+1)**2))\n",
    "  return I\n",
    "\n",
    "#para I0=0.5\n",
    "Inten05=[]\n",
    "for o in intervalo:\n",
    "  IN=INtensidad(o,3,1,0.5)\n",
    "  Inten05.append(IN)\n",
    "#para I0=1\n",
    "Inten1=[]\n",
    "for w in intervalo:\n",
    "  IN1=INtensidad(w,3,1,1)\n",
    "  Inten1.append(IN1)\n",
    "#para I0=1.5\n",
    "Inten15=[]\n",
    "for r in intervalo:\n",
    "  IN2=INtensidad(r,3,1,1.5)\n",
    "  Inten15.append(IN2)\n",
    "plt.rcParams['figure.figsize'] = [8,8]\n",
    "plt.title('Intensidad vs distancia en la variable x')\n",
    "plt.plot(intervalo,Inten05, color=\"red\", label='Intensidad para I_0=0.5')\n",
    "plt.plot(intervalo,Inten1, color=\"blue\", label='Intensidad para I_0=1')\n",
    "plt.plot(intervalo,Inten15, color=\"orange\", label='Intensidad para I_0=1.5')\n",
    "plt.xlabel('Intervalo de distancia para x (m)')\n",
    "plt.ylabel('Intensidad I considerando z=3, lambda=1')\n",
    "plt.grid()\n",
    "plt.legend()\n",
    "print(Inten05)\n"
   ]
  },
  {
   "cell_type": "markdown",
   "metadata": {
    "id": "_4hmk1jLY-1o"
   },
   "source": [
    "(iii) De lo planteado en el problema 5 y de lo mostrado en la Figura 1 (mostrada en la tarea) sabemos que la onda plana $\\lambda$ es bloqueada por un objeto con un borde y la onda será difractada por dicho borde donde la intensidad en un punto $(x,z)$ está dada por la difracción de campo cercano.\n",
    "\n",
    "Relacionando lo anterior con la gráfica obtenida, podemos notar que si posicionamos nuestro sistema de referencia de tal manera que los valores $x<0$ correspondan a aquellos donde se encuentra el borde tendremos que si nos posicionamos exactamente detrás de dicho borde no seremos capaces de poder apreciar prácticamente ningún sonido, ya que la intensidad de la onda para dichos valores es prácticamente nula, por lo que también podemos intuir que dicho obstáculo se extiende de manera infinita hacia los valores negativos de x.\n",
    "\n",
    "En la gráfica podemos notar de manera clara que una vez que la onda de sonido \"choca\" con el borde se produce un patrón de difracción cuyos máximos de intensidad van decayendo paulatinamente, donde se observa una tendencia a que la intensidad recupere su valor inicial $I_{0}$ antes de \"chocar\" con el borde, de tal manera que para valores de x lo suficientemente grandes, la presencia del borde se podrá despreciar completamente ya que para estos valores no tendrá influencia en la intensidad de la onda. \n",
    "\n",
    "Así mismo, se puede notar que el máximo global del patrón de difracción se encuentra en un valor correspondiente a $x=1.5 \\ m$ (de manera aproximada), seguido del primer máximo se tiene que la distancia entre los máximos locales de intensidad se va reduciendo, dicha distancia depende de la longitud de onda, así como del número de máximo en cuestión."
   ]
  },
  {
   "cell_type": "code",
   "execution_count": null,
   "metadata": {
    "id": "Lz_SwUYD6uNR"
   },
   "outputs": [],
   "source": []
  }
 ],
 "metadata": {
  "colab": {
   "name": "Tarea 3.ipynb",
   "provenance": []
  },
  "kernelspec": {
   "display_name": "Python 3 (ipykernel)",
   "language": "python",
   "name": "python3"
  },
  "language_info": {
   "codemirror_mode": {
    "name": "ipython",
    "version": 3
   },
   "file_extension": ".py",
   "mimetype": "text/x-python",
   "name": "python",
   "nbconvert_exporter": "python",
   "pygments_lexer": "ipython3",
   "version": "3.9.7"
  }
 },
 "nbformat": 4,
 "nbformat_minor": 1
}
