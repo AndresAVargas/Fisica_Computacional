{
  "nbformat": 4,
  "nbformat_minor": 0,
  "metadata": {
    "colab": {
      "name": "P3.ipynb",
      "provenance": [],
      "collapsed_sections": []
    },
    "kernelspec": {
      "name": "python3",
      "display_name": "Python 3"
    },
    "language_info": {
      "name": "python"
    }
  },
  "cells": [
    {
      "cell_type": "markdown",
      "source": [
        "Para convertir de decimal a binario"
      ],
      "metadata": {
        "id": "LGoyNHLcmYlG"
      }
    },
    {
      "cell_type": "code",
      "source": [
        "from math import *"
      ],
      "metadata": {
        "id": "4C7_A4Kymgax"
      },
      "execution_count": 2,
      "outputs": []
    },
    {
      "cell_type": "code",
      "execution_count": null,
      "metadata": {
        "colab": {
          "base_uri": "https://localhost:8080/"
        },
        "id": "PDjx_4ppmQeP",
        "outputId": "4594bd51-70b7-4cd0-fe7c-8765c00e4500"
      },
      "outputs": [
        {
          "output_type": "stream",
          "name": "stdout",
          "text": [
            "([1, 1, 0, 1], [0, 0, 0, 1, 1, 0, 0, 1, 1, 0])\n"
          ]
        }
      ],
      "source": [
        "#Funcion para convertir del sistema decimal al binario\n",
        "#La función requiere de la parte entera y fraccionaria del número separadas, el formato es frac = 0.partefraccionaria\n",
        "def frac_bin(entero, frac):\n",
        "  numbint = list() #Lista que contendra los dígitos del numero binario\n",
        "  numbfrac = list() #Lista que contendrá los digitos fraccionarios del número\n",
        "\n",
        "  #Para la parte entera:\n",
        "  #Debemos dividir entre 2 los cocientes, hasta llegar a 0\n",
        "  while entero != 0:\n",
        "    residuo = int(entero % 2)\n",
        "    cociente = entero // 2 #Para esta parte utilizamos la división entera\n",
        "    entero = cociente #Este será el siguiente número a dividir \n",
        "    #Para obtener el número binario invertido, iremos agregando los residuos al inicio de la lista\n",
        "    numbint.insert(0,residuo)\n",
        "  \n",
        "  #Para la parte fraccionaria:\n",
        "  #Iremos múltiplicando x2 con una presición de 10 ígitos\n",
        "  for i in range(10):\n",
        "    x = frac*2\n",
        "    #Obtenemos la parte entera con la función modf de la librería math\n",
        "    dig=modf(x)[1]\n",
        "    #La agregamos al final de la lista de numeros fraccionarios\n",
        "    numbfrac.append(int(dig))\n",
        "    #El siguiente número a multiplicar es la parte fraccionaria\n",
        "    frac = modf(x)[0]\n",
        "\n",
        "  return numbint, numbfrac\n",
        "\n",
        "print(frac_bin(13,0.1))"
      ]
    },
    {
      "cell_type": "markdown",
      "source": [
        "Para convertir de binario a decimal"
      ],
      "metadata": {
        "id": "hXbGDTItnMgV"
      }
    },
    {
      "cell_type": "code",
      "source": [
        "#Función para convertir del sistema binario a decimal\n",
        "#La función requiere de la parte entera y fraccionaria en listas diferentes\n",
        "def frac_dec(entero, frac):\n",
        "  intdec = 0 #Parte entera decimal\n",
        "  fracdec = 0 #Parte fraccionaria decimal\n",
        "\n",
        "  #Para la parte entera:\n",
        "  #Se hará una operación por dígito\n",
        "  lsint = list() #Lista auxiliar\n",
        "  lsfrac = list() #Lista auxiliar\n",
        "  for i in range(len(entero)):\n",
        "    #Debemos invertir el orden en que aparecen los dígitos\n",
        "    lsint.insert(0,entero[i])\n",
        "  #Ahora multiplicamos por la potencia de 2 de cada posición y sumamos el resultado\n",
        "  for i in range(len(lsint)):\n",
        "    intdec += int(lsint[i])*(2**i)\n",
        "  \n",
        "  #Para la parte fraccionaria:\n",
        "  #Invertimos el orden en que aparecen los dígitos\n",
        "  for i in range(len(frac)):\n",
        "    lsfrac.insert(0,frac[i])\n",
        "\n",
        "  for i in range(len(lsfrac)):\n",
        "    fracdec = (lsfrac[i]+fracdec)/2 #Dividimos entre dos la suma del dígito más el resultado anterior\n",
        "\n",
        "  return intdec+fracdec\n",
        "\n",
        "print(frac_dec([1,0,0,1,1],[0,0,0,1,1]))"
      ],
      "metadata": {
        "id": "y0mCQEKUmcpj",
        "colab": {
          "base_uri": "https://localhost:8080/"
        },
        "outputId": "d71e27fd-966b-49df-ad13-98946a91b257"
      },
      "execution_count": 3,
      "outputs": [
        {
          "output_type": "stream",
          "name": "stdout",
          "text": [
            "19.09375\n"
          ]
        }
      ]
    },
    {
      "cell_type": "markdown",
      "source": [
        "ERRORES PORCENTUALES"
      ],
      "metadata": {
        "id": "r2j1DxVPOuRf"
      }
    },
    {
      "cell_type": "code",
      "source": [
        "def errorp(teo,aprox):\n",
        "  return (abs(teo-aprox)/teo)*100\n",
        "\n",
        "aprox = frac_dec([1],[0,1,1,0,1,0,1])\n",
        "print('El error porcentual es:', errorp(sqrt(2),aprox), '%')"
      ],
      "metadata": {
        "colab": {
          "base_uri": "https://localhost:8080/"
        },
        "id": "TxYv1_lbOrZf",
        "outputId": "ca1f4887-06b6-4353-db90-b9d627f0312c"
      },
      "execution_count": 4,
      "outputs": [
        {
          "output_type": "stream",
          "name": "stdout",
          "text": [
            "El error porcentual es: 0.010681722839770962 %\n"
          ]
        }
      ]
    },
    {
      "cell_type": "code",
      "source": [
        "aprox = frac_dec([1,1],[0,0,1,0,0,1,0,0,0,1])\n",
        "print('El error porcentual es:', errorp(pi,aprox), '%')"
      ],
      "metadata": {
        "colab": {
          "base_uri": "https://localhost:8080/"
        },
        "id": "hVcokwH8Ow29",
        "outputId": "6384b8a3-61ab-4b76-e7f1-1182e8e5a175"
      },
      "execution_count": 5,
      "outputs": [
        {
          "output_type": "stream",
          "name": "stdout",
          "text": [
            "El error porcentual es: 0.00028357941939748576 %\n"
          ]
        }
      ]
    },
    {
      "cell_type": "code",
      "source": [
        ""
      ],
      "metadata": {
        "id": "fu-02MzIO2Dl"
      },
      "execution_count": 5,
      "outputs": []
    }
  ]
}