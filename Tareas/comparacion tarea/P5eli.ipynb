{
  "cells": [
    {
      "cell_type": "markdown",
      "metadata": {
        "id": "zZcmsDlPwkT5"
      },
      "source": [
        "# Tarea 1\n",
        "\n",
        "Hecha por: *Tu nombre*"
      ]
    },
    {
      "cell_type": "markdown",
      "metadata": {
        "id": "tmCAB0E2wkUG"
      },
      "source": [
        "# Problema 5: Raíces\n",
        "\n",
        "## 1 Evaluando nuestros métodos\n",
        "Determina las raíces de las siguientes funciones con todos los métodos que conocemos. Para cada caso, explica cual es el mejor método y cuál es el peor.  Explica como es el error numérico. Gráfica las funciones para que determines el intervalo a evaluar.\n",
        "\n",
        "i) Encuentra las dos raíces de $2x^2+5x-3=0$\n",
        "\n",
        "ii) $f(x)=\\cos(x)+(1+x^2)^{-1}$\n",
        "\n",
        "iii) $f(x)=(x-2)^{2}-\\ln(x)$\n",
        "\n",
        "iv) $ f(x)=x^3-3x+2$ (Raíz doble)\n",
        "\n",
        "v) $x^{1/3}$\n",
        "\n",
        "vi) $x^2-14x-50$\n",
        "\n",
        "vii) $x-\\cos x=0$ en $(0,\\frac{\\pi}{2})$\n",
        "\n",
        "viii) $f(x)=\\cos x -x^3$ con una valor inicial de $x_0=0.5$\n",
        "\n",
        "ix) $\\tan(\\pi x)-6=0$ en $(0,1)$\n",
        "\n",
        "x)\n",
        "$$\n",
        "f(x)=\\frac{1}{(x-0.3)^2+0.01}-\\frac{1}{(x-0.8)^2+0.04}\n",
        "$$\n",
        "\n",
        "xi)\n",
        "$$\n",
        "f(x)=x^4-6.4x^3+6.45x^2+20.538x-31.752\n",
        "$$\n",
        "\n",
        "\n"
      ]
    },
    {
      "cell_type": "markdown",
      "source": [
        "\n",
        "\n",
        "# **i) $2x^2+5x-3=0$**"
      ],
      "metadata": {
        "id": "KTzN4wduUQg7"
      }
    },
    {
      "cell_type": "code",
      "execution_count": 4,
      "metadata": {
        "id": "eZSLcOSXwkUH"
      },
      "outputs": [],
      "source": [
        "from sympy import * \n",
        "from numpy import *\n",
        "from math import *\n",
        "import numpy as np \n",
        "import math as mt \n",
        "import matplotlib.pyplot as plt"
      ]
    },
    {
      "cell_type": "code",
      "source": [
        "#Vamos a encontrar las dos raices usando sympy \n",
        "x = symbols('x')\n",
        "solve(2*x**2 + 5*x - 3, x)"
      ],
      "metadata": {
        "colab": {
          "base_uri": "https://localhost:8080/"
        },
        "id": "JFzDn_iRVQlt",
        "outputId": "a3a576a6-0609-4446-ebe5-e470822f26d0"
      },
      "execution_count": 5,
      "outputs": [
        {
          "output_type": "execute_result",
          "data": {
            "text/plain": [
              "[-3, 1/2]"
            ]
          },
          "metadata": {},
          "execution_count": 5
        }
      ]
    },
    {
      "cell_type": "code",
      "source": [
        "#Vamos a graficar la función para encontrar los intervalos\n",
        "x2 = np.linspace(-4,2,99)\n",
        "def fun(x): \n",
        "  res = 2*x**2 + 5*x - 3\n",
        "  return res \n",
        "\n",
        "y2 = np.linspace(-8,10,99)\n",
        "for i in range(0,99):\n",
        "    y2[i]=fun(x2[i])\n",
        "\n",
        "fig = plt.figure(figsize=(12,8))\n",
        "plt.plot(x2, y2)\n",
        "plt.xlabel('x')\n",
        "plt.ylabel('f(x)')\n",
        "plt.title('Función trigonometrica')\n",
        "plt.ylim(-10,10)"
      ],
      "metadata": {
        "colab": {
          "base_uri": "https://localhost:8080/",
          "height": 531
        },
        "id": "50z_BnpBgqf9",
        "outputId": "e17d41e8-992d-4fcb-cc5b-5403524f931f"
      },
      "execution_count": 6,
      "outputs": [
        {
          "output_type": "execute_result",
          "data": {
            "text/plain": [
              "(-10.0, 10.0)"
            ]
          },
          "metadata": {},
          "execution_count": 6
        },
        {
          "output_type": "display_data",
          "data": {
            "text/plain": [
              "<Figure size 864x576 with 1 Axes>"
            ],
            "image/png": "[encoded data removed]"
          },
          "metadata": {
            "needs_background": "light"
          }
        }
      ]
    },
    {
      "cell_type": "markdown",
      "source": [
        "**Búsqueda incremental \"Incremental search\"**"
      ],
      "metadata": {
        "id": "otlH9h03YfCc"
      }
    },
    {
      "cell_type": "code",
      "source": [
        "def incremental(f,a,b,dx):\n",
        "    x0=a;f0=f(x0)\n",
        "    x1=x0+dx;f1=f(x1)\n",
        "    contador=0.0\n",
        "    while f0*f1>0.0:\n",
        "        if x1>=b: return ('nada') #salgo del bucle infinito\n",
        "        x0=x1;f0=f1\n",
        "        x1=x0+dx;f1=f(x1)\n",
        "        contador=contador+1\n",
        "    return [x1,contador]\n",
        "\n",
        "def f(x):\n",
        "    return 2*x**2+5*x-3\n",
        "print(incremental(f,0,0.8,1e-4))\n",
        "print(incremental(f,-3.5,-2.5,1e-4))"
      ],
      "metadata": {
        "colab": {
          "base_uri": "https://localhost:8080/"
        },
        "id": "wTX0wPXBYeGg",
        "outputId": "c96d1006-a933-48e2-e120-21647861db38"
      },
      "execution_count": 7,
      "outputs": [
        {
          "output_type": "stream",
          "name": "stdout",
          "text": [
            "[0.5000999999999612, 5000.0]\n",
            "[-2.999999999998945, 4999.0]\n"
          ]
        }
      ]
    },
    {
      "cell_type": "markdown",
      "source": [
        "Se observa que para encontrar una de las raíces repitió el proceso 5000 veces y para la otra lo repitió 4999 veces. "
      ],
      "metadata": {
        "id": "oyAt0I5gWaY4"
      }
    },
    {
      "cell_type": "markdown",
      "source": [
        "**Método de Bisección**"
      ],
      "metadata": {
        "id": "SWU5qWaoZmo9"
      }
    },
    {
      "cell_type": "code",
      "source": [
        "def biseccion(f,a,b,epsilon=1e-6):\n",
        "    contador=0\n",
        "    dx=abs(b-a)\n",
        "        #return 'Da un intervalo correcto'\n",
        "    while dx>epsilon:\n",
        "        x=(a+b)/2.0\n",
        "        if (f(a)*f(x))<0:\n",
        "          b=x #izquierda\n",
        "        elif (f(x)*f(b))<0:\n",
        "        #else:\n",
        "            a=x #derecho\n",
        "        else:\n",
        "            dx=epsilon/2\n",
        "            print('El intervalo no tiene raíz')\n",
        "        dx=abs(b-a) #renombrar intervalo\n",
        "        contador=contador+1\n",
        "    return [x, contador]\n",
        "\n",
        "print(biseccion(f,-0.5,0.8,1e-4))\n",
        "print(biseccion(f,-4,-1,1e-4))"
      ],
      "metadata": {
        "colab": {
          "base_uri": "https://localhost:8080/"
        },
        "id": "16ImFZRaYytB",
        "outputId": "c5e05287-3d88-43f6-9836-650eccef5239"
      },
      "execution_count": 8,
      "outputs": [
        {
          "output_type": "stream",
          "name": "stdout",
          "text": [
            "[0.4999938964843751, 14]\n",
            "[-2.999969482421875, 15]\n"
          ]
        }
      ]
    },
    {
      "cell_type": "code",
      "source": [
        "def bis_method(f, a, b, N):\n",
        "    if f(a)*f(b) >= 0:\n",
        "        print('El metodo de biseccion fallo')\n",
        "        return None\n",
        "    a_n = a\n",
        "    b_n = b\n",
        "    for n in range(1, N+1):\n",
        "        m_n = (a_n + b_n)/2\n",
        "        f_m_n = f(m_n)\n",
        "        if f(a_n)*f_m_n < 0:\n",
        "            a_n = a_n\n",
        "            b_n = m_n\n",
        "        elif f(b_n)*f_m_n < 0:\n",
        "            a_n = m_n\n",
        "            b_n = b_n\n",
        "        elif f_m_n == 0:\n",
        "            print('Solucion exacta encontrada')\n",
        "            return m_n\n",
        "        else:\n",
        "            print('El método de biseccion fallo')\n",
        "            return None\n",
        "    return (a_n + b_n) / 2\n",
        "\n",
        "p = lambda x: 2*x**2+5*x-3\n",
        "approx = bis_method(p,0,0.8,25)\n",
        "approx1 = bis_method(p,-3.5,-2.5,25)\n",
        "print(approx)\n",
        "print(approx1)"
      ],
      "metadata": {
        "colab": {
          "base_uri": "https://localhost:8080/"
        },
        "id": "no4p6j69eJv1",
        "outputId": "c4b1fe86-6d5a-4441-eb85-0dbaa1a51e6c"
      },
      "execution_count": 9,
      "outputs": [
        {
          "output_type": "stream",
          "name": "stdout",
          "text": [
            "Solucion exacta encontrada\n",
            "Solucion exacta encontrada\n",
            "0.5\n",
            "-3.0\n"
          ]
        }
      ]
    },
    {
      "cell_type": "markdown",
      "source": [
        "**Método de Newton-Raphson**"
      ],
      "metadata": {
        "id": "jSPe0S6WmDtf"
      }
    },
    {
      "cell_type": "code",
      "source": [
        "def newton(f,df,x,epsilon=1e-6):\n",
        "    dx=2*epsilon\n",
        "    contador = 0\n",
        "    while dx> epsilon and contador<1000:\n",
        "        x1=x-f(x)/df(x)\n",
        "        dx=abs(x-x1)\n",
        "        x=x1\n",
        "        contador=contador+1\n",
        "    return [contador,x,dx]\n",
        "\n",
        "f=lambda x: 2*x**2+5*x-3\n",
        "df=lambda x: 4*x+5\n",
        "\n",
        "print(newton(f,df,1,1e-7))\n",
        "print(newton(f,df,-4,1e-7))"
      ],
      "metadata": {
        "colab": {
          "base_uri": "https://localhost:8080/"
        },
        "id": "fCu3xsmqmKsm",
        "outputId": "94aae1f1-3561-488f-ee60-5104405608c5"
      },
      "execution_count": 10,
      "outputs": [
        {
          "output_type": "stream",
          "name": "stdout",
          "text": [
            "[5, 0.5, 1.2434497875801753e-14]\n",
            "[5, -3.0, 1.237849822643966e-10]\n"
          ]
        }
      ]
    },
    {
      "cell_type": "markdown",
      "source": [
        "**Método del Secante**"
      ],
      "metadata": {
        "id": "-ZEb_5nNqE2s"
      }
    },
    {
      "cell_type": "code",
      "source": [
        "from sympy.assumptions.refine import refine_atan2\n",
        "def sec_method(f, a, b, N):\n",
        "    if f(a)*f(b) >= 0:\n",
        "        print(\"El metodo de la secante fallo\")\n",
        "        return None\n",
        "    a_n = a\n",
        "    b_n = b\n",
        "    for n in range(1, N+1):\n",
        "        m_n = a_n - f(a_n) * (b_n - a_n) / (f(b_n) - f(a_n))\n",
        "        f_m_n = f(m_n)\n",
        "        if f(a_n)*f_m_n < 0:\n",
        "            a_n = a_n\n",
        "            b_n = m_n\n",
        "        elif f(b_n)*f_m_n < 0:\n",
        "            a_n = m_n\n",
        "            b_n = b_n\n",
        "        elif f_m_n == 0:\n",
        "            print('Solucion exacta encontrada')\n",
        "            return m_n\n",
        "        else:\n",
        "            print('El método de la secante fallo')\n",
        "            return None\n",
        "    return a_n - f(a_n) * (b_n - a_n)/(f(b_n) - f(a_n))\n",
        "\n",
        "R1 = sec_method(p,0,0.8,20)\n",
        "R2 = sec_method(p,-3.5,-2.5,20)\n",
        "print(R1)\n",
        "print(R2)"
      ],
      "metadata": {
        "colab": {
          "base_uri": "https://localhost:8080/"
        },
        "id": "Jva6ddooqLim",
        "outputId": "f1845111-0a57-4e67-f7f6-d02ac0f34124"
      },
      "execution_count": 11,
      "outputs": [
        {
          "output_type": "stream",
          "name": "stdout",
          "text": [
            "Solucion exacta encontrada\n",
            "Solucion exacta encontrada\n",
            "0.5\n",
            "-3.0\n"
          ]
        }
      ]
    },
    {
      "cell_type": "markdown",
      "source": [
        "**Método del Ridders**"
      ],
      "metadata": {
        "id": "hs7qS35Dr0lT"
      }
    },
    {
      "cell_type": "code",
      "source": [
        "from math import *\n",
        "def ridders(f,x1,x2,tol=1e-9):\n",
        "    n=0\n",
        "    f1=f(x1)\n",
        "    if f1==0: return x1\n",
        "    f2=f(x2)\n",
        "    if f2==0: return x2\n",
        "   # if f1*f2>0.0: return np.nan #intervalos correctos\n",
        "    while abs(x1-x2)> tol:\n",
        "        x3=0.5*(x1+x2);f3=f(x3)\n",
        "        raiz=sqrt(f3**2.-f1*f2)\n",
        "        if raiz==0:return None\n",
        "        fraccion=(x3-x1)*f3/raiz\n",
        "        if (f1-f2)<0.0: fraccion=-fraccion #creciente\n",
        "        x4=x3+fraccion; f4=f(x4)\n",
        "        if (f3*f4)>0.0: #decreciente\n",
        "            if f1*f4>0.0:x1=x3;f1=f3\n",
        "            else: x2=x3;f2=f3\n",
        "        else:             \n",
        "            x1=x3;x2=x4;f1=f3;f2=f4\n",
        "        n+=1\n",
        "    return x4,n\n",
        "\n",
        "f=lambda x:2*x**2+5*x-3\n",
        "print(ridders(f,0.,0.8,0.0000002))\n",
        "print(ridders(f,-3.5,-2.5,0.0000002)) \n",
        "\n",
        "# Aquí todo bien"
      ],
      "metadata": {
        "colab": {
          "base_uri": "https://localhost:8080/"
        },
        "id": "m3HEZr8wsGKg",
        "outputId": "16566078-7cc7-4dae-e2f2-03c405f6dcbc"
      },
      "execution_count": 24,
      "outputs": [
        {
          "output_type": "stream",
          "name": "stdout",
          "text": [
            "(0.5, 20)\n",
            "(-3.0, 1)\n"
          ]
        }
      ]
    },
    {
      "cell_type": "markdown",
      "source": [
        "# **ii) $f(x)=cos(x)+(1+x^2)^{-1}$**"
      ],
      "metadata": {
        "id": "A8v34067y12Q"
      }
    },
    {
      "cell_type": "code",
      "source": [
        "#Vamos a resolver la ecuación usando numpy\n"
      ],
      "metadata": {
        "id": "yDQM8b2b-Ndd"
      },
      "execution_count": null,
      "outputs": []
    },
    {
      "cell_type": "markdown",
      "source": [
        "# **iii) $g(x)=(x-2)^2-ln(x)$**"
      ],
      "metadata": {
        "id": "sgaMuUtF0MJO"
      }
    },
    {
      "cell_type": "markdown",
      "source": [
        "# **iv) $h(x)=x^3-3x+2$**"
      ],
      "metadata": {
        "id": "NOtTtYCi0XC1"
      }
    },
    {
      "cell_type": "code",
      "source": [
        "#Vamos a resolver la ecuación usando numpy\n",
        "x = symbols('x')\n",
        "solve(x**3 - 3*x + 2, x)"
      ],
      "metadata": {
        "colab": {
          "base_uri": "https://localhost:8080/"
        },
        "id": "2GoUnOkg5JWJ",
        "outputId": "ae3761dd-9756-4743-aaae-428ce4f7c610"
      },
      "execution_count": 13,
      "outputs": [
        {
          "output_type": "execute_result",
          "data": {
            "text/plain": [
              "[-2, 1]"
            ]
          },
          "metadata": {},
          "execution_count": 13
        }
      ]
    },
    {
      "cell_type": "code",
      "source": [
        "#Vamos a graficar la función para encontrar los intervalos\n",
        "x2 = np.linspace(-3,3,99)\n",
        "def h(x): \n",
        "  res = x**3 - 3*x + 2\n",
        "  return res \n",
        "\n",
        "y2 = np.linspace(-5,10,99)\n",
        "for i in range(0,99):\n",
        "    y2[i]=h(x2[i])\n",
        "\n",
        "fig = plt.figure(figsize=(12,8))\n",
        "plt.plot(x2, y2)\n",
        "plt.xlabel('x')\n",
        "plt.ylabel('h(x)')\n",
        "plt.title('Polinomio de tercer grado')\n",
        "plt.ylim(-10,10)"
      ],
      "metadata": {
        "colab": {
          "base_uri": "https://localhost:8080/",
          "height": 531
        },
        "id": "82tx3ZfW_Rcf",
        "outputId": "41510efc-b59b-4fe6-bc6c-50a8df6c2202"
      },
      "execution_count": 14,
      "outputs": [
        {
          "output_type": "execute_result",
          "data": {
            "text/plain": [
              "(-10.0, 10.0)"
            ]
          },
          "metadata": {},
          "execution_count": 14
        },
        {
          "output_type": "display_data",
          "data": {
            "text/plain": [
              "<Figure size 864x576 with 1 Axes>"
            ],
            "image/png": "[encoded data removed]"
          },
          "metadata": {
            "needs_background": "light"
          }
        }
      ]
    },
    {
      "cell_type": "markdown",
      "source": [
        "**Búsqueda incremental \"Incremental search\"**"
      ],
      "metadata": {
        "id": "RHPlh229BqNa"
      }
    },
    {
      "cell_type": "code",
      "source": [
        "print(incremental(h,-3,-1,1e-4))\n",
        "print(incremental(h,0,2,1e-4))"
      ],
      "metadata": {
        "colab": {
          "base_uri": "https://localhost:8080/"
        },
        "id": "9P4M0qwKBGqU",
        "outputId": "a25bc179-9c53-450c-d0f0-e755e4712e63"
      },
      "execution_count": 15,
      "outputs": [
        {
          "output_type": "stream",
          "name": "stdout",
          "text": [
            "[-1.99999999999789, 9999.0]\n",
            "[0.9999999999999062, 9999.0]\n"
          ]
        }
      ]
    },
    {
      "cell_type": "markdown",
      "source": [
        "**Método de Bisección**"
      ],
      "metadata": {
        "id": "57uwCnxJBr0L"
      }
    },
    {
      "cell_type": "code",
      "source": [
        "h1 = bis_method(h,-3,-1,25)\n",
        "h2 = bis_method(h,0.8,1.5,25)\n",
        "print(h1)\n",
        "print(h2)"
      ],
      "metadata": {
        "colab": {
          "base_uri": "https://localhost:8080/"
        },
        "id": "Hlg7rbJ7DyE6",
        "outputId": "ffe5ece9-7428-4c69-882a-4a7944d0b256"
      },
      "execution_count": 16,
      "outputs": [
        {
          "output_type": "stream",
          "name": "stdout",
          "text": [
            "Solucion exacta encontrada\n",
            "El metodo de biseccion fallo\n",
            "-2.0\n",
            "None\n"
          ]
        }
      ]
    },
    {
      "cell_type": "markdown",
      "source": [
        "**Método de Newton-Raphson**"
      ],
      "metadata": {
        "id": "sIHJUxuCEVkb"
      }
    },
    {
      "cell_type": "code",
      "source": [
        "h=lambda x: x**3 - 3*x + 2\n",
        "dh=lambda x: 3*x**2 - 3\n",
        "\n",
        "print(newton(h,dh,-2,1e-4))\n",
        "print(newton(h,dh,1.4,1e-4))"
      ],
      "metadata": {
        "colab": {
          "base_uri": "https://localhost:8080/"
        },
        "id": "Q89RgyHuEcWi",
        "outputId": "755fe5f9-5118-4add-ce7b-15a085f28587"
      },
      "execution_count": 17,
      "outputs": [
        {
          "output_type": "stream",
          "name": "stdout",
          "text": [
            "[1, -2.0, 0.0]\n",
            "[13, 1.000055088514252, 5.508649118546316e-05]\n"
          ]
        }
      ]
    },
    {
      "cell_type": "markdown",
      "source": [
        "**Método del Secante**"
      ],
      "metadata": {
        "id": "I9P7OyVQGDG9"
      }
    },
    {
      "cell_type": "code",
      "source": [
        "h_1 = sec_method(h,-2.5,-1,20)\n",
        "h_2 = sec_method(h,0.5,2,20)\n",
        "print(h_1)\n",
        "print(h_2)"
      ],
      "metadata": {
        "colab": {
          "base_uri": "https://localhost:8080/"
        },
        "id": "V7ceRAHbGLHK",
        "outputId": "2390283d-fb63-4686-9416-aeafd318ccbd"
      },
      "execution_count": 39,
      "outputs": [
        {
          "output_type": "stream",
          "name": "stdout",
          "text": [
            "El metodo de la secante fallo\n",
            "-1.9999999999984714\n",
            "None\n"
          ]
        }
      ]
    },
    {
      "cell_type": "markdown",
      "source": [
        "**Método del Ridders**"
      ],
      "metadata": {
        "id": "KjCQCAFFIIro"
      }
    },
    {
      "cell_type": "code",
      "source": [
        "iv = lambda x: x**3 - 3*x + 2\n",
        "print(ridders(iv,-3,-1,0.000002))\n",
        "print(ridders(iv,-1,1,0.0000002))"
      ],
      "metadata": {
        "colab": {
          "base_uri": "https://localhost:8080/"
        },
        "id": "UoJjPz78INPP",
        "outputId": "557e48a6-f784-48ad-ffc1-1965054d3334"
      },
      "execution_count": 49,
      "outputs": [
        {
          "output_type": "stream",
          "name": "stdout",
          "text": [
            "(-2.0, 1)\n",
            "1\n"
          ]
        }
      ]
    },
    {
      "cell_type": "markdown",
      "source": [
        "# **v) $i(x)=x^{1/3}$**"
      ],
      "metadata": {
        "id": "kqY0iTQ90hsa"
      }
    },
    {
      "cell_type": "code",
      "source": [
        "#Vamos a resolver la ecuación usando numpy\n",
        "x = symbols('x')\n",
        "solve(x**(1/3), x)"
      ],
      "metadata": {
        "colab": {
          "base_uri": "https://localhost:8080/"
        },
        "id": "Ya5jS29A-sAf",
        "outputId": "8b0b5f70-41a2-4fcd-cdba-c7ddf3b1606b"
      },
      "execution_count": 57,
      "outputs": [
        {
          "output_type": "execute_result",
          "data": {
            "text/plain": [
              "[0.0]"
            ]
          },
          "metadata": {},
          "execution_count": 57
        }
      ]
    },
    {
      "cell_type": "markdown",
      "source": [
        "# **vi) $j(x)=x^2-14x-50$**"
      ],
      "metadata": {
        "id": "QOhdd7wv0ovz"
      }
    },
    {
      "cell_type": "code",
      "source": [
        "#Vamos a resolver la ecuación usando numpy\n",
        "x = symbols('x')\n",
        "solve(x**2 - 14*x - 50, x)"
      ],
      "metadata": {
        "colab": {
          "base_uri": "https://localhost:8080/"
        },
        "id": "PMceQigMNE9x",
        "outputId": "89347c1e-df6e-4559-fdcb-0cdb6f98f790"
      },
      "execution_count": 29,
      "outputs": [
        {
          "output_type": "execute_result",
          "data": {
            "text/plain": [
              "[7 - 3*sqrt(11), 7 + 3*sqrt(11)]"
            ]
          },
          "metadata": {},
          "execution_count": 29
        }
      ]
    },
    {
      "cell_type": "code",
      "source": [
        "#Vamos a graficar la función para encontrar los intervalos\n",
        "import numpy as np\n",
        "x2 = np.linspace(-30,30,99)\n",
        "def j(x): \n",
        "  res = x**2 - 14*x - 50\n",
        "  return res \n",
        "\n",
        "y2 = np.linspace(-100,1000,99)\n",
        "for i in range(0,99):\n",
        "    y2[i]=j(x2[i])\n",
        "\n",
        "fig = plt.figure(figsize=(12,8))\n",
        "plt.plot(x2, y2)\n",
        "plt.xlabel('x')\n",
        "plt.ylabel('j(x)')\n",
        "plt.title('Polinomio de tercer grado')\n",
        "plt.ylim(-100,1000)"
      ],
      "metadata": {
        "colab": {
          "base_uri": "https://localhost:8080/",
          "height": 531
        },
        "id": "rtaxZpHGNPeb",
        "outputId": "b74b4259-d3e3-483b-8025-5b5b90c87731"
      },
      "execution_count": 30,
      "outputs": [
        {
          "output_type": "execute_result",
          "data": {
            "text/plain": [
              "(-100.0, 1000.0)"
            ]
          },
          "metadata": {},
          "execution_count": 30
        },
        {
          "output_type": "display_data",
          "data": {
            "text/plain": [
              "<Figure size 864x576 with 1 Axes>"
            ],
            "image/png": "[encoded data removed]"
          },
          "metadata": {
            "needs_background": "light"
          }
        }
      ]
    },
    {
      "cell_type": "markdown",
      "source": [
        "**Búsqueda incremental \"Incremental search\"**"
      ],
      "metadata": {
        "id": "FHU1UZ7hOuvw"
      }
    },
    {
      "cell_type": "code",
      "source": [
        "print(incremental(j,-3,-1,1e-4))\n",
        "print(incremental(h,14,17,1e-4))"
      ],
      "metadata": {
        "colab": {
          "base_uri": "https://localhost:8080/"
        },
        "id": "J_jNI8X1Oy8l",
        "outputId": "65df3977-c093-41d2-8e7e-c35f98ffa64e"
      },
      "execution_count": 31,
      "outputs": [
        {
          "output_type": "stream",
          "name": "stdout",
          "text": [
            "[-2.949799999999894, 501.0]\n",
            "nada\n"
          ]
        }
      ]
    },
    {
      "cell_type": "markdown",
      "source": [
        "**Método de Bisección**"
      ],
      "metadata": {
        "id": "_pAcdTlUOvam"
      }
    },
    {
      "cell_type": "code",
      "source": [
        "j1 = bis_method(j,-3,-1,25)\n",
        "j2 = bis_method(j,15,17,25)\n",
        "print(j1)\n",
        "print(j2)"
      ],
      "metadata": {
        "colab": {
          "base_uri": "https://localhost:8080/"
        },
        "id": "tpiVD2ZZQJ4z",
        "outputId": "78c0b2f6-ab69-4be7-9c87-ca2c8c775c5b"
      },
      "execution_count": 32,
      "outputs": [
        {
          "output_type": "stream",
          "name": "stdout",
          "text": [
            "-2.949874371290207\n",
            "16.949874371290207\n"
          ]
        }
      ]
    },
    {
      "cell_type": "markdown",
      "source": [
        "**Método de Newton-Raphson**"
      ],
      "metadata": {
        "id": "8ZFyKyNlOwIg"
      }
    },
    {
      "cell_type": "code",
      "source": [
        "j=lambda x: x**2 - 14*x - 50\n",
        "dj=lambda x: 2*x - 14\n",
        "\n",
        "print(newton(j,dj,-3,1e-4))\n",
        "print(newton(j,dj,17,1e-4))"
      ],
      "metadata": {
        "colab": {
          "base_uri": "https://localhost:8080/"
        },
        "id": "u-JE9C0IQcy_",
        "outputId": "9838b435-d03d-4783-efe5-e29f73d1479c"
      },
      "execution_count": 33,
      "outputs": [
        {
          "output_type": "stream",
          "name": "stdout",
          "text": [
            "[3, -2.9498743710661994, 7.930971435143874e-10]\n",
            "[3, 16.9498743710662, 7.930971435143874e-10]\n"
          ]
        }
      ]
    },
    {
      "cell_type": "markdown",
      "source": [
        "**Método del Secante**"
      ],
      "metadata": {
        "id": "u5DzTKEXOw7g"
      }
    },
    {
      "cell_type": "code",
      "source": [
        "j_1 = sec_method(j,-3,-1,20)\n",
        "j_2 = sec_method(j,14,17,20)\n",
        "print(j_1)\n",
        "print(j_2)"
      ],
      "metadata": {
        "colab": {
          "base_uri": "https://localhost:8080/"
        },
        "id": "9G8V6jl3Q5Z2",
        "outputId": "3c2fe88d-f361-4bdc-f3bc-7144d54e10c1"
      },
      "execution_count": 34,
      "outputs": [
        {
          "output_type": "stream",
          "name": "stdout",
          "text": [
            "Solucion exacta encontrada\n",
            "-2.9498743710662\n",
            "16.9498743710662\n"
          ]
        }
      ]
    },
    {
      "cell_type": "markdown",
      "source": [
        "**Método de Ridders**"
      ],
      "metadata": {
        "id": "vR4TsvtcOxrY"
      }
    },
    {
      "cell_type": "code",
      "source": [
        "print(ridders(j,-3,0,0.0000002))\n",
        "print(ridders(j,15,17,0.0000002))"
      ],
      "metadata": {
        "colab": {
          "base_uri": "https://localhost:8080/"
        },
        "id": "SJA2FH5JRLbQ",
        "outputId": "f7af5204-607c-4f2e-b5cd-0e8096de29b1"
      },
      "execution_count": 36,
      "outputs": [
        {
          "output_type": "stream",
          "name": "stdout",
          "text": [
            "(-2.949874371066199, 24)\n",
            "(16.949874371066205, 24)\n"
          ]
        }
      ]
    },
    {
      "cell_type": "markdown",
      "source": [
        "# **vii) $x-cos(x)=0$ en (0,$\\frac{\\pi}{2})$**"
      ],
      "metadata": {
        "id": "xvw8dAdW0y4f"
      }
    },
    {
      "cell_type": "code",
      "source": [
        "vii = lambda x: x-mt.cos(x)\n",
        "print(ridders(vii,0.6, 0.8))"
      ],
      "metadata": {
        "colab": {
          "base_uri": "https://localhost:8080/"
        },
        "id": "ChHxrvSWqclx",
        "outputId": "a36d9715-85a1-46db-d51a-1f9f0866ef1a"
      },
      "execution_count": 37,
      "outputs": [
        {
          "output_type": "stream",
          "name": "stdout",
          "text": [
            "(0.7390851332151606, 27)\n"
          ]
        }
      ]
    },
    {
      "cell_type": "markdown",
      "source": [
        "# **viii) $k(x)=cos(x)-x^3$** con un valor inicial de $x_{0}=0.5$"
      ],
      "metadata": {
        "id": "Q4IjXKuQ4pxO"
      }
    },
    {
      "cell_type": "code",
      "source": [
        "viii = lambda x: mt.cos(x) - x**3\n",
        "print(ridders(viii,0.83, 0.9))"
      ],
      "metadata": {
        "colab": {
          "base_uri": "https://localhost:8080/"
        },
        "id": "Pfz5zvW4qwmp",
        "outputId": "db3cdf7c-e9aa-4ccb-ac29-4e1c5459473c"
      },
      "execution_count": 51,
      "outputs": [
        {
          "output_type": "stream",
          "name": "stdout",
          "text": [
            "(0.8654740331016145, 20)\n"
          ]
        }
      ]
    },
    {
      "cell_type": "markdown",
      "source": [
        "# **ix) $tan(\\pi x)-6=0$ en (0,1)**"
      ],
      "metadata": {
        "id": "LwCsCHsJ1OKx"
      }
    },
    {
      "cell_type": "code",
      "source": [
        "ix = lambda x : (mt.sin(mt.pi*x)/mt.cos(mt.pi*x)) - 6\n",
        "print(ridders(ix, 0.4, 0.47))"
      ],
      "metadata": {
        "colab": {
          "base_uri": "https://localhost:8080/"
        },
        "id": "C0ZVB5BQrAIu",
        "outputId": "b1a35787-7e1d-4a65-ca82-02771364b19c"
      },
      "execution_count": 52,
      "outputs": [
        {
          "output_type": "stream",
          "name": "stdout",
          "text": [
            "(0.44743154328874657, 26)\n"
          ]
        }
      ]
    },
    {
      "cell_type": "markdown",
      "source": [
        "# **x) $k(x)=\\frac{1}{(x-0.3)^2+0.01}-\\frac{1}{(x-0.8)^2+0.04}$**"
      ],
      "metadata": {
        "id": "kZaewT8Y1lJF"
      }
    },
    {
      "cell_type": "code",
      "source": [
        "#Vamos a resolver la ecuación usando numpy\n",
        "x = symbols('x')\n",
        "solve(((x-0.3)**2 + 0.01)**(-1) - ((x-0.8)**2 + 0.04)**(-1), x)"
      ],
      "metadata": {
        "colab": {
          "base_uri": "https://localhost:8080/"
        },
        "id": "rmIO66z7ANM-",
        "outputId": "7a6dbdfb-e564-4575-87ea-cc2e04237a89"
      },
      "execution_count": 67,
      "outputs": [
        {
          "output_type": "execute_result",
          "data": {
            "text/plain": [
              "[0.580000000000000]"
            ]
          },
          "metadata": {},
          "execution_count": 67
        }
      ]
    },
    {
      "cell_type": "code",
      "source": [
        "x = lambda x: ((x-0.3)**2 + 0.01)**(-1) - ((x-0.8)**2 + 0.04)**(-1)\n",
        "print(ridders(x, 0.5, 0.7))"
      ],
      "metadata": {
        "colab": {
          "base_uri": "https://localhost:8080/"
        },
        "id": "XITS79v-rR4l",
        "outputId": "b3d04798-a399-4a89-aaa0-b2436e7afba4"
      },
      "execution_count": 53,
      "outputs": [
        {
          "output_type": "stream",
          "name": "stdout",
          "text": [
            "(0.5800000000000001, 27)\n"
          ]
        }
      ]
    },
    {
      "cell_type": "markdown",
      "source": [
        "# **xi) $l(x)=x^4-6.4x^3+6.45x^2+20.538x-31.752$**"
      ],
      "metadata": {
        "id": "_edcw9DD2M0C"
      }
    },
    {
      "cell_type": "code",
      "source": [
        "#Vamos a resolver la ecuación usando numpy\n",
        "x = symbols('x')\n",
        "solve(x**4 - 6.4*x**3 + 6.45*x**2 + 20.538*x  - 31.752, x)"
      ],
      "metadata": {
        "colab": {
          "base_uri": "https://localhost:8080/"
        },
        "id": "-UZEv6--_DIZ",
        "outputId": "0977ab48-17db-41bc-d933-ba9068617f94"
      },
      "execution_count": 59,
      "outputs": [
        {
          "output_type": "execute_result",
          "data": {
            "text/plain": [
              "[-1.80000000000000, 2.10000000000000, 4.00000000000000]"
            ]
          },
          "metadata": {},
          "execution_count": 59
        }
      ]
    },
    {
      "cell_type": "code",
      "source": [
        "#Vamos a graficar la función para encontrar los intervalos\n",
        "x2 = np.linspace(-2,5,99)\n",
        "def l(x): \n",
        "  res = x**4 - 6.4*x**3 + 6.45*x**2 + 20.538*x - 31.752\n",
        "  return res \n",
        "\n",
        "y2 = np.linspace(-40,10,99)\n",
        "for i in range(0,99):\n",
        "    y2[i]=l(x2[i])\n",
        "\n",
        "fig = plt.figure(figsize=(12,8))\n",
        "plt.plot(x2, y2)\n",
        "plt.xlabel('x')\n",
        "plt.ylabel('l(x)')\n",
        "plt.title('Polinomio de cuarto grado')\n",
        "plt.ylim(-50,60)"
      ],
      "metadata": {
        "colab": {
          "base_uri": "https://localhost:8080/",
          "height": 531
        },
        "id": "Ezqp7yC2_obX",
        "outputId": "a81e405e-e804-45b5-8341-8fed5ad99915"
      },
      "execution_count": 65,
      "outputs": [
        {
          "output_type": "execute_result",
          "data": {
            "text/plain": [
              "(-50.0, 60.0)"
            ]
          },
          "metadata": {},
          "execution_count": 65
        },
        {
          "output_type": "display_data",
          "data": {
            "text/plain": [
              "<Figure size 864x576 with 1 Axes>"
            ],
            "image/png": "[encoded data removed]"
          },
          "metadata": {
            "needs_background": "light"
          }
        }
      ]
    },
    {
      "cell_type": "code",
      "source": [
        "xi = lambda x:x**4 - 6.4*x**3 + 6.45*x**2 + 20.538*x - 31.752\n",
        "print(ridders(xi, -1.9, -1.7))\n",
        "\n",
        "# Aquí son tres raíces"
      ],
      "metadata": {
        "colab": {
          "base_uri": "https://localhost:8080/"
        },
        "id": "tGxpn0TnAKRV",
        "outputId": "e75af236-19a6-4a91-d9ef-59693d069def"
      },
      "execution_count": 66,
      "outputs": [
        {
          "output_type": "stream",
          "name": "stdout",
          "text": [
            "(-1.8, 1)\n"
          ]
        }
      ]
    }
  ],
  "metadata": {
    "kernelspec": {
      "display_name": "Python 3",
      "language": "python",
      "name": "python3"
    },
    "language_info": {
      "codemirror_mode": {
        "name": "ipython",
        "version": 3
      },
      "file_extension": ".py",
      "mimetype": "text/x-python",
      "name": "python",
      "nbconvert_exporter": "python",
      "pygments_lexer": "ipython3",
      "version": "3.8.3"
    },
    "colab": {
      "name": "P5eli.ipynb",
      "provenance": [],
      "collapsed_sections": []
    }
  },
  "nbformat": 4,
  "nbformat_minor": 0
}