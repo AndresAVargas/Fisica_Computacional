{
 "cells": [
  {
   "cell_type": "markdown",
   "id": "81eef2f5",
   "metadata": {},
   "source": [
    "# Tarea 2\n",
    "###### Andrés Adrián Vargas Sánchez"
   ]
  },
  {
   "cell_type": "code",
   "execution_count": 1,
   "id": "aef7d22e",
   "metadata": {},
   "outputs": [],
   "source": [
    "#Librerias\n",
    "import numpy as np\n",
    "import pandas as pd\n",
    "from pylab import *\n",
    "from scipy.interpolate import CubicSpline\n",
    "# from sympy import *\n",
    "import matplotlib.pyplot as plt\n",
    "from scipy.interpolate import lagrange\n",
    "from collections import namedtuple \n",
    "from itertools import zip_longest\n",
    "from functools import partial\n",
    "# from sympy import init_printing\n",
    "# from sympy import I, nroots, lambdify, diff, latex, symbols, pi, interpolating_poly, cos, N, integrate, Integral, exp, solve\n",
    "# from sympy.abc import x, epsilon, alpha"
   ]
  },
  {
   "cell_type": "markdown",
   "id": "3cfb902d",
   "metadata": {},
   "source": [
    "# 1.-\n",
    "Sea $f(x) = 2 sin(\\frac{πx}{6})$ (con el ángulo medido en radianes).\n",
    "\n",
    "a) Usa el polinomio de Lagrangre $P2$ con nodos $x0 = 0$, $x1 = 1$ y $x2 = 3$ para aproximar\n",
    "$f(2)$ y $f(2.4)$"
   ]
  },
  {
   "cell_type": "code",
   "execution_count": 13,
   "id": "395e334a",
   "metadata": {},
   "outputs": [],
   "source": [
    "def f(x):\n",
    "    return 2*sin((pi*x)/6)"
   ]
  },
  {
   "cell_type": "code",
   "execution_count": 17,
   "id": "85d471a8",
   "metadata": {},
   "outputs": [
    {
     "name": "stdout",
     "output_type": "stream",
     "text": [
      "La aproximacion para f(2) es: 1.6666666666666665\n",
      "El valor calculado por la funcion de f(2) es: 1.7320508075688772\n",
      "La aproximacion para f(2.4) es: 1.8399999999999999\n",
      "El valor calculado por la funcion de f(2.4) es: 1.902113032590307\n"
     ]
    }
   ],
   "source": [
    "def cua_interp(x, p0, p1,p2):\n",
    "    x0, y0 = p0\n",
    "    x1, y1 = p1\n",
    "    x2, y2 = p2\n",
    "    return y0*((x-x1)*(x-x2))/((x0-x1)*(x0-x2))+y1*((x-x0)*(x-x2))/((x1-x0)*(x1-x2))+y2*((x-x0)*(x-x1))/((x2-x0)*(x2-x1))\n",
    "X1=[0,1,3]\n",
    "Y1=[f(0),f(1),f(3)]\n",
    "Points= list(zip(X1, Y1))\n",
    "res1 = cua_interp(2, Points[1], Points[2], Points[0])\n",
    "res2 = cua_interp(2.4, Points[1], Points[2], Points[0])\n",
    "print(\"La aproximacion para f(2) es:\", res1)\n",
    "print(\"El valor calculado por la funcion de f(2) es:\", f(2))\n",
    "print(\"La aproximacion para f(2.4) es:\", res2)\n",
    "print(\"El valor calculado por la funcion de f(2.4) es:\", f(2.4))"
   ]
  },
  {
   "cell_type": "markdown",
   "id": "9a951264",
   "metadata": {},
   "source": [
    "b) Usa el polinomio de Lagrangre $P3$ con nodos $x0 = 0$, $x1 = 1$, $x2 = 3$ y $x3 = 5$ para\n",
    "aproximar $f(2)$ y $f(2.4)$"
   ]
  },
  {
   "cell_type": "code",
   "execution_count": 23,
   "id": "55a71d1f",
   "metadata": {},
   "outputs": [
    {
     "name": "stdout",
     "output_type": "stream",
     "text": [
      "La aproximacion para f(2) es: 1.6999999999999997\n",
      "El valor calculado por la funcion de f(2) es: 1.7320508075688772\n",
      "La aproximacion para f(2.4) es: 1.8735999999999997\n",
      "El valor calculado por la funcion de f(2.4) es: 1.902113032590307\n"
     ]
    }
   ],
   "source": [
    "def tercer_interp(x,p0,p1,p2,p3):\n",
    "    x0, y0 = p0\n",
    "    x1, y1 = p1\n",
    "    x2, y2 = p2\n",
    "    x3, y3 = p3\n",
    "    return y0*((x-x1)*(x-x2)*(x-x3))/((x0-x1)*(x0-x2)*(x0-x3))+y1*((x-x0)*(x-x2)*(x-x3))/((x1-x0)*(x1-x2)*(x1-x3))+y2*((x-x0)*(x-x1)*(x-x3))/((x2-x0)*(x2-x1)*(x2-x3))+ y3*((x-x0)*(x-x1)*(x-x2))/((x3-x0)*(x3-x1)*(x3-x2))\n",
    "\n",
    "X2=[0,1,3,5]\n",
    "Y2=[f(0),f(1),f(3),f(5)]\n",
    "Points2= list(zip(X2, Y2))\n",
    "res1 = tercer_interp(2, Points2[3], Points2[2], Points2[1],Points2[0])\n",
    "res2 = tercer_interp(2.4, Points2[3], Points2[2], Points2[1],Points2[0])\n",
    "print(\"La aproximacion para f(2) es:\", float(res1))\n",
    "print(\"El valor calculado por la funcion de f(2) es:\", float(f(2)))\n",
    "print(\"La aproximacion para f(2.4) es:\", float(res2))\n",
    "print(\"El valor calculado por la funcion de f(2.4) es:\", float(f(2.4)))"
   ]
  },
  {
   "cell_type": "markdown",
   "id": "bafcb6b0",
   "metadata": {},
   "source": [
    "c) Usa el polinomio de Lagrangre $P2$ con nodos $x0 = 0$, $x1 = 1$ y $x2 = 3$ para aproximar\n",
    "$f(4)$ y $f(3.5)$"
   ]
  },
  {
   "cell_type": "code",
   "execution_count": 24,
   "id": "d80374ae",
   "metadata": {},
   "outputs": [
    {
     "name": "stdout",
     "output_type": "stream",
     "text": [
      "La aproximacion para f(4) es: 2.0\n",
      "El valor calculado por la funcion de f(4) es: 1.7320508075688774\n",
      "La aproximacion para f(3.5) es: 2.0416666666666665\n",
      "El valor calculado por la funcion de f(3.5) es: 1.9318516525781366\n"
     ]
    }
   ],
   "source": [
    "X1=[0,1,3]\n",
    "Y1=[f(0),f(1),f(3)]\n",
    "Points= list(zip(X1, Y1))\n",
    "res1 = cua_interp(4, Points[1], Points[2], Points[0])\n",
    "res2 = cua_interp(3.5, Points[1], Points[2], Points[0])\n",
    "print(\"La aproximacion para f(4) es:\", res1)\n",
    "print(\"El valor calculado por la funcion de f(4) es:\", f(4))\n",
    "print(\"La aproximacion para f(3.5) es:\", res2)\n",
    "print(\"El valor calculado por la funcion de f(3.5) es:\", f(3.5))"
   ]
  },
  {
   "cell_type": "markdown",
   "id": "ab0e2484",
   "metadata": {},
   "source": [
    "d) Usa el polinomio de Lagrangre $P3$ con nodos $x0 = 0$, $x1 = 1$, $x2 = 3$ y $x3 = 5$ para\n",
    "aproximar $f(4)$ y $f(3.5)$,"
   ]
  },
  {
   "cell_type": "code",
   "execution_count": 25,
   "id": "fb89c156",
   "metadata": {},
   "outputs": [
    {
     "name": "stdout",
     "output_type": "stream",
     "text": [
      "La aproximacion para f(4) es: 1.7999999999999998\n",
      "El valor calculado por la funcion de f(4) es: 1.7320508075688774\n",
      "La aproximacion para f(3.5) es: 1.96875\n",
      "El valor calculado por la funcion de f(3.5) es: 1.9318516525781366\n"
     ]
    }
   ],
   "source": [
    "X2=[0,1,3,5]\n",
    "Y2=[f(0),f(1),f(3),f(5)]\n",
    "Points2= list(zip(X2, Y2))\n",
    "res1 = tercer_interp(4, Points2[3], Points2[2], Points2[1],Points2[0])\n",
    "res2 = tercer_interp(3.5, Points2[3], Points2[2], Points2[1],Points2[0])\n",
    "print(\"La aproximacion para f(4) es:\", res1)\n",
    "print(\"El valor calculado por la funcion de f(4) es:\", f(4))\n",
    "print(\"La aproximacion para f(3.5) es:\", res2)\n",
    "print(\"El valor calculado por la funcion de f(3.5) es:\", f(3.5))"
   ]
  },
  {
   "attachments": {
    "Tabla.png": {
     "image/png": "[encoded data removed]"
    }
   },
   "cell_type": "markdown",
   "id": "5cbdc5c6",
   "metadata": {},
   "source": [
    "# 2.-\n",
    "De la siguientes tablas\n",
    "\n",
    "$$f(x) = \\frac{3.6}{x}$$\n",
    "con$$ x=2.5,3.5$$\n",
    "![Tabla.png](attachment:Tabla.png)\n",
    "# a) \n",
    "Calcula la tabla de diferencias divididas."
   ]
  },
  {
   "cell_type": "code",
   "execution_count": 26,
   "id": "076a9a83",
   "metadata": {
    "scrolled": true
   },
   "outputs": [
    {
     "data": {
      "text/html": [
       "<div>\n",
       "<style scoped>\n",
       "    .dataframe tbody tr th:only-of-type {\n",
       "        vertical-align: middle;\n",
       "    }\n",
       "\n",
       "    .dataframe tbody tr th {\n",
       "        vertical-align: top;\n",
       "    }\n",
       "\n",
       "    .dataframe thead th {\n",
       "        text-align: right;\n",
       "    }\n",
       "</style>\n",
       "<table border=\"1\" class=\"dataframe\">\n",
       "  <thead>\n",
       "    <tr style=\"text-align: right;\">\n",
       "      <th></th>\n",
       "      <th>$x_i$</th>\n",
       "      <th>$f(x_i)$</th>\n",
       "      <th>$Df(x_i)$</th>\n",
       "      <th>$D^2 f(x_i)$</th>\n",
       "      <th>$D^3 f(x_i)$</th>\n",
       "      <th>$D^4 f(x_i)$</th>\n",
       "    </tr>\n",
       "  </thead>\n",
       "  <tbody>\n",
       "    <tr>\n",
       "      <th>0</th>\n",
       "      <td>1</td>\n",
       "      <td>3.60</td>\n",
       "      <td>-1.80</td>\n",
       "      <td>0.60</td>\n",
       "      <td>-0.15</td>\n",
       "      <td>0.03</td>\n",
       "    </tr>\n",
       "    <tr>\n",
       "      <th>1</th>\n",
       "      <td>2</td>\n",
       "      <td>1.80</td>\n",
       "      <td>-0.60</td>\n",
       "      <td>0.15</td>\n",
       "      <td>-0.03</td>\n",
       "      <td>NaN</td>\n",
       "    </tr>\n",
       "    <tr>\n",
       "      <th>2</th>\n",
       "      <td>3</td>\n",
       "      <td>1.20</td>\n",
       "      <td>-0.30</td>\n",
       "      <td>0.06</td>\n",
       "      <td>NaN</td>\n",
       "      <td>NaN</td>\n",
       "    </tr>\n",
       "    <tr>\n",
       "      <th>3</th>\n",
       "      <td>4</td>\n",
       "      <td>0.90</td>\n",
       "      <td>-0.18</td>\n",
       "      <td>NaN</td>\n",
       "      <td>NaN</td>\n",
       "      <td>NaN</td>\n",
       "    </tr>\n",
       "    <tr>\n",
       "      <th>4</th>\n",
       "      <td>5</td>\n",
       "      <td>0.72</td>\n",
       "      <td>NaN</td>\n",
       "      <td>NaN</td>\n",
       "      <td>NaN</td>\n",
       "      <td>NaN</td>\n",
       "    </tr>\n",
       "  </tbody>\n",
       "</table>\n",
       "</div>"
      ],
      "text/plain": [
       "   $x_i$  $f(x_i)$  $Df(x_i)$  $D^2 f(x_i)$  $D^3 f(x_i)$  $D^4 f(x_i)$\n",
       "0      1      3.60      -1.80          0.60         -0.15          0.03\n",
       "1      2      1.80      -0.60          0.15         -0.03           NaN\n",
       "2      3      1.20      -0.30          0.06           NaN           NaN\n",
       "3      4      0.90      -0.18           NaN           NaN           NaN\n",
       "4      5      0.72        NaN           NaN           NaN           NaN"
      ]
     },
     "execution_count": 26,
     "metadata": {},
     "output_type": "execute_result"
    }
   ],
   "source": [
    "X = [1 + 1*i for i in range(5)]\n",
    "f_i = [3.6/(X[i]) for i in range(5)]\n",
    "f_ii = [(f_i[i+1] - f_i[i]) / (X[i+1] - X[i]) for i in range(4)]\n",
    "f_iii = [(f_ii[i+1] - f_ii[i]) / (X[i+2] - X[i]) for i in range(3)]\n",
    "f_iiii = [(f_iii[i+1] - f_iii[i]) / (X[i+3] - X[i]) for i in range(2)]\n",
    "f_iiiii = [(f_iiii[i+1] - f_iiii[i]) / (X[i+4] - X[i]) for i in range(1)]\n",
    "\n",
    "ffdat = pd.DataFrame(list(zip_longest(f_i, f_ii, f_iii, f_iiii, f_iiiii)), \n",
    "          index=range(5), columns=[\"$f(x_i)$\", \"$Df(x_i)$\", \"$D^2 f(x_i)$\", \"$D^3 f(x_i)$\", \"$D^4 f(x_i)$\"])\n",
    "# print(ffdat)\n",
    "ffdat.insert(0, \"$x_i$\", X) #list.insert(index, element)\n",
    "ffdat"
   ]
  },
  {
   "cell_type": "markdown",
   "id": "faca6f14",
   "metadata": {},
   "source": [
    "# b)\n",
    "Escribe los polinomios interpolados de Newton para P1(x), P2(x), P3(x) y P4(x)."
   ]
  },
  {
   "cell_type": "markdown",
   "id": "ce2abcef",
   "metadata": {},
   "source": [
    "Obtenemos:\n",
    "\\begin{align}\n",
    "P_{1}(x)&=3.60-1.80(x-1)\\\\\n",
    "P_{2}(x)&=P_{1}(x)+0.60(x-1)(x-2)\\\\\n",
    "P_{3}(x)&=P_{2}(x)-0.15(x-1)(x-2)(x-3)\\\\\n",
    "P_{4}(x)&=P_{3}(x)+0.03(x-1)(x-2)(x-3)(x-4)\\\\\n",
    "\\end{align}"
   ]
  },
  {
   "cell_type": "code",
   "execution_count": 34,
   "id": "a587e8fa",
   "metadata": {},
   "outputs": [],
   "source": [
    "def p1(x):\n",
    "    P1=3.6-1.8*(x-1)\n",
    "    return P1\n",
    "def p2(x):\n",
    "    P2=p1(x)+0.6*(x-1)*(x-2)\n",
    "    return P2\n",
    "def p3(x):\n",
    "    P3=p2(x)-0.15*(x-1)*(x-2)*(x-3)\n",
    "    return P3\n",
    "def p4(x):\n",
    "    P4=p3(x)+0.03*(x-1)*(x-2)*(x-3)*(x-4)\n",
    "    return P4"
   ]
  },
  {
   "cell_type": "markdown",
   "id": "492e9eb8",
   "metadata": {},
   "source": [
    "# Integración\n"
   ]
  },
  {
   "cell_type": "markdown",
   "id": "ecce9059",
   "metadata": {},
   "source": [
    "###### 3. Integración Numérica\n",
    "Una corriente alterna está descrita por\n",
    "$$i(t) = i_{0} sin(\\frac{πt}{t_{0}})− β sin(\\frac{2πt}{t_{0}})$$\n",
    "donde $i_{0} = 1 A$, $t_{0} = 0.05 seg$, y $β = 0.2$. Obtén numéricamente la corriente cuadrática\n",
    "media, definida como\n",
    "$$i_{rms} = \\sqrt{\\frac{1}{t_{0}} \\int_{0}^{t_{0}}  \\! i^{2} (t) dt \\,}\n",
    "$$\n",
    "Resuelve por el método que prefieras. Defiende el método que usas. Determina el error\n",
    "de tu resultado para distintas N."
   ]
  },
  {
   "cell_type": "code",
   "execution_count": 118,
   "id": "0d11c6ed",
   "metadata": {},
   "outputs": [],
   "source": [
    "def i2(t):\n",
    "    return (1*(sin((pi*t)/0.05)- 0.2*sin((2*pi*t)/0.05)))**2"
   ]
  },
  {
   "cell_type": "code",
   "execution_count": 127,
   "id": "24979738",
   "metadata": {},
   "outputs": [
    {
     "name": "stdout",
     "output_type": "stream",
     "text": [
      "El valor de nuestra integral es: 0.025999999999999992\n",
      "El valor de la corriente cuadratica media es: 0.7211102550927977\n"
     ]
    }
   ],
   "source": [
    "#Calculo de la integral usando el metodo del trapecio y calculando errores\n",
    "def trapecio1(f, rang, exact, log_n=8):\n",
    "    T1 = (rang[1] - rang[0]) / 2 * (f(rang[0]) + f(rang[1]))\n",
    "    err1 = exact - T1\n",
    "    res = [[1, T1, err1, np.nan]]\n",
    "    h = rang[1] - rang[0]\n",
    "    n = 1\n",
    "    for i in range(log_n):\n",
    "        h /= 2\n",
    "        Tn = T1 / 2\n",
    "        for j in range(n):\n",
    "            Tn += h * f(rang[0] + h + 2*j*h)\n",
    "        n *= 2\n",
    "        err_n = exact - Tn \n",
    "        res.append([n, Tn, err_n, err1 / err_n])\n",
    "        err1 = err_n\n",
    "        T1 = Tn\n",
    "    return res\n",
    "tabt = trapecio1(i2, (0, 0.05), 1)\n",
    "# Calculamos Irms con este valor de la integral\n",
    "print(\"El valor de nuestra integral es:\", tabt[-1][1])\n",
    "irms=sqrt((1/0.05)*tabt[-1][1])\n",
    "print(\"El valor de la corriente cuadratica media es:\",irms)"
   ]
  },
  {
   "cell_type": "code",
   "execution_count": 128,
   "id": "f5d172d6",
   "metadata": {},
   "outputs": [
    {
     "data": {
      "text/html": [
       "<style type=\"text/css\">\n",
       "</style>\n",
       "<table id=\"T_440ac_\">\n",
       "  <thead>\n",
       "    <tr>\n",
       "      <th class=\"blank level0\" >&nbsp;</th>\n",
       "      <th class=\"col_heading level0 col0\" >$n$</th>\n",
       "      <th class=\"col_heading level0 col1\" >$T_n(f)$</th>\n",
       "      <th class=\"col_heading level0 col2\" >Error</th>\n",
       "      <th class=\"col_heading level0 col3\" >Ratio</th>\n",
       "    </tr>\n",
       "  </thead>\n",
       "  <tbody>\n",
       "    <tr>\n",
       "      <th id=\"T_440ac_level0_row0\" class=\"row_heading level0 row0\" >0</th>\n",
       "      <td id=\"T_440ac_row0_col0\" class=\"data row0 col0\" >1</td>\n",
       "      <td id=\"T_440ac_row0_col1\" class=\"data row0 col1\" >0.000000000</td>\n",
       "      <td id=\"T_440ac_row0_col2\" class=\"data row0 col2\" >1.00e+00</td>\n",
       "      <td id=\"T_440ac_row0_col3\" class=\"data row0 col3\" >nan</td>\n",
       "    </tr>\n",
       "    <tr>\n",
       "      <th id=\"T_440ac_level0_row1\" class=\"row_heading level0 row1\" >1</th>\n",
       "      <td id=\"T_440ac_row1_col0\" class=\"data row1 col0\" >2</td>\n",
       "      <td id=\"T_440ac_row1_col1\" class=\"data row1 col1\" >0.025000000</td>\n",
       "      <td id=\"T_440ac_row1_col2\" class=\"data row1 col2\" >9.75e-01</td>\n",
       "      <td id=\"T_440ac_row1_col3\" class=\"data row1 col3\" >1.0256410256410258</td>\n",
       "    </tr>\n",
       "    <tr>\n",
       "      <th id=\"T_440ac_level0_row2\" class=\"row_heading level0 row2\" >2</th>\n",
       "      <td id=\"T_440ac_row2_col0\" class=\"data row2 col0\" >4</td>\n",
       "      <td id=\"T_440ac_row2_col1\" class=\"data row2 col1\" >0.026000000</td>\n",
       "      <td id=\"T_440ac_row2_col2\" class=\"data row2 col2\" >9.74e-01</td>\n",
       "      <td id=\"T_440ac_row2_col3\" class=\"data row2 col3\" >1.0010266940451746</td>\n",
       "    </tr>\n",
       "    <tr>\n",
       "      <th id=\"T_440ac_level0_row3\" class=\"row_heading level0 row3\" >3</th>\n",
       "      <td id=\"T_440ac_row3_col0\" class=\"data row3 col0\" >8</td>\n",
       "      <td id=\"T_440ac_row3_col1\" class=\"data row3 col1\" >0.026000000</td>\n",
       "      <td id=\"T_440ac_row3_col2\" class=\"data row3 col2\" >9.74e-01</td>\n",
       "      <td id=\"T_440ac_row3_col3\" class=\"data row3 col3\" >1.0</td>\n",
       "    </tr>\n",
       "    <tr>\n",
       "      <th id=\"T_440ac_level0_row4\" class=\"row_heading level0 row4\" >4</th>\n",
       "      <td id=\"T_440ac_row4_col0\" class=\"data row4 col0\" >16</td>\n",
       "      <td id=\"T_440ac_row4_col1\" class=\"data row4 col1\" >0.026000000</td>\n",
       "      <td id=\"T_440ac_row4_col2\" class=\"data row4 col2\" >9.74e-01</td>\n",
       "      <td id=\"T_440ac_row4_col3\" class=\"data row4 col3\" >1.0</td>\n",
       "    </tr>\n",
       "    <tr>\n",
       "      <th id=\"T_440ac_level0_row5\" class=\"row_heading level0 row5\" >5</th>\n",
       "      <td id=\"T_440ac_row5_col0\" class=\"data row5 col0\" >32</td>\n",
       "      <td id=\"T_440ac_row5_col1\" class=\"data row5 col1\" >0.026000000</td>\n",
       "      <td id=\"T_440ac_row5_col2\" class=\"data row5 col2\" >9.74e-01</td>\n",
       "      <td id=\"T_440ac_row5_col3\" class=\"data row5 col3\" >1.0</td>\n",
       "    </tr>\n",
       "    <tr>\n",
       "      <th id=\"T_440ac_level0_row6\" class=\"row_heading level0 row6\" >6</th>\n",
       "      <td id=\"T_440ac_row6_col0\" class=\"data row6 col0\" >64</td>\n",
       "      <td id=\"T_440ac_row6_col1\" class=\"data row6 col1\" >0.026000000</td>\n",
       "      <td id=\"T_440ac_row6_col2\" class=\"data row6 col2\" >9.74e-01</td>\n",
       "      <td id=\"T_440ac_row6_col3\" class=\"data row6 col3\" >1.0</td>\n",
       "    </tr>\n",
       "    <tr>\n",
       "      <th id=\"T_440ac_level0_row7\" class=\"row_heading level0 row7\" >7</th>\n",
       "      <td id=\"T_440ac_row7_col0\" class=\"data row7 col0\" >128</td>\n",
       "      <td id=\"T_440ac_row7_col1\" class=\"data row7 col1\" >0.026000000</td>\n",
       "      <td id=\"T_440ac_row7_col2\" class=\"data row7 col2\" >9.74e-01</td>\n",
       "      <td id=\"T_440ac_row7_col3\" class=\"data row7 col3\" >1.0</td>\n",
       "    </tr>\n",
       "    <tr>\n",
       "      <th id=\"T_440ac_level0_row8\" class=\"row_heading level0 row8\" >8</th>\n",
       "      <td id=\"T_440ac_row8_col0\" class=\"data row8 col0\" >256</td>\n",
       "      <td id=\"T_440ac_row8_col1\" class=\"data row8 col1\" >0.026000000</td>\n",
       "      <td id=\"T_440ac_row8_col2\" class=\"data row8 col2\" >9.74e-01</td>\n",
       "      <td id=\"T_440ac_row8_col3\" class=\"data row8 col3\" >1.0</td>\n",
       "    </tr>\n",
       "  </tbody>\n",
       "</table>\n"
      ],
      "text/plain": [
       "<pandas.io.formats.style.Styler at 0x215f742b1f0>"
      ]
     },
     "execution_count": 128,
     "metadata": {},
     "output_type": "execute_result"
    }
   ],
   "source": [
    "#error con diferentes N´s\n",
    "tabt = pd.DataFrame(tabt, columns=[\"$n$\", \"$T_n(f)$\", \"Error\", \"Ratio\"]) \n",
    "tabt.style.format(dict(zip(tabt.columns, [\"{:g}\", \"{:.9f}\", \"{:.2e}\", lambda x: x])))"
   ]
  },
  {
   "cell_type": "markdown",
   "id": "8ee22b08",
   "metadata": {},
   "source": [
    "###### 4. Constante de Stefan-Boltzmann\n",
    "La teoría de Planck de radiación térmica nos dice que en el intervalo de frecuencia\n",
    "angular $ω$ a $ω + dω$, un cuerpo negro de área unitaria irradia electromagnéticamente\n",
    "una cantidad de energía térmica por segundo igual a $I(ω)dω$, donde\n",
    "$$I(ω) =\\frac{h}{4π^{2}c^{2}} \\frac{ω^{3}}{\n",
    "e^{hω/kBT}− 1}$$\n",
    "La tasa total a la que un cuerpo negro irradia energía por unidad de área sobre todas\n",
    "las frecuencias, es\n",
    "$$W =\\frac{k_{B}^{4} T^{4}}{4π^{2}c^{2}h^{3}}\\int_{0}^{∞}  \\! \\frac{x^{3}}{e^{x} − 1}dx$$\n",
    "Integra numéricamente y encuentra W con todos los métodos de integración que conocemos."
   ]
  },
  {
   "cell_type": "code",
   "execution_count": 59,
   "id": "34ded3ad",
   "metadata": {},
   "outputs": [],
   "source": [
    "#Definicion de todos los metodos que conocemos\n",
    "\n",
    "def trapecio(f,a,b,N):\n",
    "    h=(b-a)/N\n",
    "    s=0.5*f(a)+0.5*f(b)\n",
    "    for k in range(1,N):\n",
    "        s+=f(a+k*h)\n",
    "    return s*h\n",
    "\n",
    "\n",
    "def simpson(f, a, b, n):\n",
    "    h=(b-a)/n\n",
    "    s=0.0\n",
    "    x=a + h\n",
    "    for i in range(1,n,2):\n",
    "        s += 4*f(x)\n",
    "        x += 2*h\n",
    "\n",
    "    x = a + 2*h\n",
    "    for i in range(2,n,2):\n",
    "        s += 2*f(x)\n",
    "        x += 2*h\n",
    "    return (h/3)*(f(a)+f(b)+s)\n",
    "\n",
    "\n",
    "def trapecio_reducido(f,a,b,N):\n",
    "    h=(b-a)/N\n",
    "    s=0  #s=0.5*f(a)+0.5*f(b) metemos esto en el for\n",
    "    for k in range(1,N//2+1):\n",
    "        s+=f(a+(2*k-1)*h)\n",
    "    return s*h\n",
    "\n",
    "def Romberg(f,a,b,epsilon=1e-6):\n",
    "    I = (b-a)/2*(f(b)+f(a)) #capa cero de la recursividad. En realidad es la forma de trapecio modificada \n",
    "    #(análogo a diferencias divididas pero con integración)\n",
    "    eps=1\n",
    "    N=1\n",
    "    R =zeros((100,100)) \n",
    "    R[0,0]=I\n",
    "    i=0\n",
    "    while eps>epsilon:\n",
    "        N*=2\n",
    "        i+=1\n",
    "        R[i,0] = R[i-1,0]/2 + trapecio_reducido(f,a,b,N)\n",
    "        for m in range(i):\n",
    "            R[i,m+1] =R[i,m] + 1/(4**(m+1)-1)*(R[i,m] - R[i-1,m])\n",
    "            eps = abs(R[i,m+1]-R[i-1,m])\n",
    "    I= R[i,m+1]\n",
    "    return I"
   ]
  },
  {
   "cell_type": "code",
   "execution_count": 60,
   "id": "23b88271",
   "metadata": {},
   "outputs": [],
   "source": [
    "T=5800\n",
    "c=3e8\n",
    "Kb=1.380649E-23\n",
    "h=6.62607015E-34\n",
    "const= ((Kb**4)*(T**4))/(4*pi*(c**2)*(h**3))\n",
    "# print(const)"
   ]
  },
  {
   "cell_type": "code",
   "execution_count": 36,
   "id": "192720cf",
   "metadata": {},
   "outputs": [],
   "source": [
    "#Definimos la funcion\n",
    "def IW(x):\n",
    "    return (x**3)/((e**x) -1)"
   ]
  },
  {
   "cell_type": "code",
   "execution_count": 136,
   "id": "21b355ca",
   "metadata": {},
   "outputs": [
    {
     "name": "stdout",
     "output_type": "stream",
     "text": [
      "6.494981068933424 0.4541544446201047 0.4539895150259986 3.888886936814706e-11\n"
     ]
    }
   ],
   "source": [
    "s=simpson(IW,0.0000000001,500,1000)\n",
    "t=trapecio(IW,0.0001,200,20)\n",
    "tr=trapecio_reducido(IW,0.0001,200,20)\n",
    "R=Romberg(IW,0.000001,500,1e-10)\n",
    "print(s,t,tr,R)"
   ]
  },
  {
   "cell_type": "code",
   "execution_count": 138,
   "id": "8dd69c91",
   "metadata": {},
   "outputs": [
    {
     "name": "stdout",
     "output_type": "stream",
     "text": [
      "La constante de Stefan-Boltzmann calculada con el metodo del trapecio es de: 56758.1474617543\n",
      "La constante de Stefan-Boltzmann calculada con el metodo de Simpson es de: 811713.058495314\n",
      "La constante de Stefan-Boltzmann calculada con el metodo del trapecio reducido es de: 56737.5353146445\n",
      "La constante de Stefan-Boltzmann calculada con el metodo del Romberg es de: 4.860153210797133e-06\n"
     ]
    }
   ],
   "source": [
    "SBt=const*t\n",
    "SBs=const*s\n",
    "SBtr=const*tr\n",
    "SBR=const*R\n",
    "print(\"La constante de Stefan-Boltzmann calculada con el metodo del trapecio es de:\",SBt)\n",
    "print(\"La constante de Stefan-Boltzmann calculada con el metodo de Simpson es de:\",SBs)\n",
    "print(\"La constante de Stefan-Boltzmann calculada con el metodo del trapecio reducido es de:\",SBtr)\n",
    "print(\"La constante de Stefan-Boltzmann calculada con el metodo del Romberg es de:\",SBR)"
   ]
  },
  {
   "attachments": {
    "Difraccion%20de%20una%20onda%20plana.png": {
     "image/png": "[encoded data removed]"
    }
   },
   "cell_type": "markdown",
   "id": "c4755ab6",
   "metadata": {},
   "source": [
    "###### 5. Difracción de una Onda plana\n",
    "Sea λ una onda plana que es bloqueada por un objeto con un borde, ver Figura 1\n",
    "![Difraccion%20de%20una%20onda%20plana.png](attachment:Difraccion%20de%20una%20onda%20plana.png)\n",
    "La onda sera difractada por el borde y la intensidad resultante en la posición (x, z)\n",
    "marcada por el punto esta dada por la teoría de difracción de campo cercano\n",
    "$$I =\\frac{I_{o}}{8}[2C(u) + 1]^{2} + [2S(u) + 1]^{2}$$\n",
    "Donde $I_{o}$ es la intensidad de la función de onda antes de la difracción, mientras que\n",
    "$$u = x \\sqrt{\\frac{2}{λz}} ,$$\n",
    "$$C(u) = \\int_{0}^{u}  \\!  cos\\frac{1}{2}πt^{2}dt,$$\n",
    "$$ S(u) = \\int_{0}^{u}  \\! sin \\frac{1}{2}πt^{2}dt$$\n",
    "# (i)\n",
    "Escribe un programa que calcule $\\frac{I}{I_{0}}$"
   ]
  },
  {
   "cell_type": "code",
   "execution_count": 7,
   "id": "24992420",
   "metadata": {},
   "outputs": [
    {
     "name": "stdout",
     "output_type": "stream",
     "text": [
      "3.901747756229583\n"
     ]
    }
   ],
   "source": [
    "def f1(t):\n",
    "    return cos((1/2)*pi*(t**2))\n",
    "def f2(t):\n",
    "    return sin((1/2)*pi*(t**2))\n",
    "def IIo(x,λ,z):\n",
    "    u=x*sqrt(2/(λ*z))\n",
    "    C=simpson(f1,0,u,20)\n",
    "    S=simpson(f2,0,u,20)\n",
    "    Iio=(1/8)*((2*C+1)**2)+((2*S+1)**2)\n",
    "    return Iio\n",
    "print(IIo(5,1,3))"
   ]
  },
  {
   "cell_type": "markdown",
   "id": "a20949ca",
   "metadata": {},
   "source": [
    "# (ii) \n",
    "Gráfica la intensidad resultante $I$ para 3 distintas $I_{0}$ en un intervalo $x = [−5, 5]$ metros; supón el caso de una onda de sonido ($λ = 1$, y $z = 3m$). Calcula las integrales con el método de Romberg."
   ]
  },
  {
   "cell_type": "code",
   "execution_count": 15,
   "id": "22bb762f",
   "metadata": {},
   "outputs": [
    {
     "data": {
      "image/png": "[encoded data removed]",
      "text/plain": [
       "<Figure size 576x576 with 1 Axes>"
      ]
     },
     "metadata": {
      "needs_background": "light"
     },
     "output_type": "display_data"
    }
   ],
   "source": [
    "x=np.linspace(-5,5,1000)\n",
    "Io1=[]\n",
    "Io2=[]\n",
    "Io3=[]\n",
    "def Intensidad(x,λ,z,Io):\n",
    "    u=x*sqrt(2/(λ*z))\n",
    "    C=Romberg(f1,0,u,1e-6)\n",
    "    S=Romberg(f2,0,u,1e-6)\n",
    "    In=(Io/8)*((2*C+1)**2)+((2*S+1)**2)\n",
    "    return In\n",
    "# Para Io=2\n",
    "for a in x:\n",
    "    ia=Intensidad(a,1,3,2)\n",
    "    Io1.append(ia)\n",
    "# Para Io=4\n",
    "for b in x:\n",
    "    ib=Intensidad(b,1,3,4)\n",
    "    Io2.append(ib)\n",
    "# Para Io=6\n",
    "for c in x:\n",
    "    ic=Intensidad(c,1,3,6)\n",
    "    Io3.append(ic)\n",
    "figure(figsize=(8, 8)) \n",
    "plot(x,Io1,color=\"blue\", label='Intensidad para Io=2')\n",
    "plot(x,Io2,color=\"red\", label='Intensidad para Io=4')\n",
    "plot(x,Io3,color=\"green\", label='Intensidad para Io=6')\n",
    "plt.xlabel('Distancia para x (m)')\n",
    "plt.ylabel('Intensidad I')\n",
    "legend()\n",
    "grid()\n"
   ]
  },
  {
   "cell_type": "markdown",
   "id": "6a94f882",
   "metadata": {},
   "source": [
    "# (iii)\n",
    "Realiza un análisis del resultado de tu gráfica."
   ]
  },
  {
   "cell_type": "markdown",
   "id": "8b2c27eb",
   "metadata": {},
   "source": [
    "Podemos ver que si posicionamos el sistema de referencia tal que $𝑥<0$ los valores corresponderan a aquellos donde se encuentra el borde.Si nos posicionamos exactamente detrás de dicho borde no detectaremos la onda plana, ya que la intensidad de la onda para dichos valores es prácticamente nula.\n",
    "Ademas podemos notar que cuando la onda de sonido choque con el borde se producira un patrón de difracción cuyos máximos de intensidad van decayendo."
   ]
  }
 ],
 "metadata": {
  "kernelspec": {
   "display_name": "Python 3 (ipykernel)",
   "language": "python",
   "name": "python3"
  },
  "language_info": {
   "codemirror_mode": {
    "name": "ipython",
    "version": 3
   },
   "file_extension": ".py",
   "mimetype": "text/x-python",
   "name": "python",
   "nbconvert_exporter": "python",
   "pygments_lexer": "ipython3",
   "version": "3.9.7"
  }
 },
 "nbformat": 4,
 "nbformat_minor": 5
}
